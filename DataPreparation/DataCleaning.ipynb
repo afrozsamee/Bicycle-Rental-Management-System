{
 "cells": [
  {
   "cell_type": "markdown",
   "id": "5bced199-d7d4-484d-a293-78df66afb372",
   "metadata": {},
   "source": [
    "# <span style=\"color:Purple\">**Data Cleaning and Structuring of the Files**</span>\n",
    "\n",
    "<span style=\"float: right; opacity: 0.6; color:orange\">_24COP501 Programming for Specialist Applications_</span>  \n",
    "<span style=\"float: right; opacity: 0.6; color:Orange\">_By Afroz Samee, Student ID: F418164_</span>"
   ]
  },
  {
   "cell_type": "code",
   "execution_count": 1,
   "id": "46e43093-555b-4883-9b76-ac39c762a7d5",
   "metadata": {},
   "outputs": [],
   "source": [
    "import pandas as pd\n",
    "import numpy as np"
   ]
  },
  {
   "cell_type": "markdown",
   "id": "beb49fb8-b71b-40f6-a5fd-0af471ff2c53",
   "metadata": {
    "jp-MarkdownHeadingCollapsed": true
   },
   "source": [
    "#### **Bicycle_Info File Data Cleaning**\r\n",
    "\r\n",
    "- The `bicycle_info.txt` file is read, and null values are handled.\r\n",
    "- A new column, `frameSize`, is created based on logical criteria.\r\n",
    "- Future dates in the `dateOfPurchase` column are adjusted to the current date.\r\n",
    "- Ensured that each `bicycleID` is unque.\r\n"
   ]
  },
  {
   "cell_type": "code",
   "execution_count": 2,
   "id": "2d699dcb-0826-4b2d-a3e2-9d992595802a",
   "metadata": {},
   "outputs": [
    {
     "data": {
      "text/html": [
       "<div>\n",
       "<style scoped>\n",
       "    .dataframe tbody tr th:only-of-type {\n",
       "        vertical-align: middle;\n",
       "    }\n",
       "\n",
       "    .dataframe tbody tr th {\n",
       "        vertical-align: top;\n",
       "    }\n",
       "\n",
       "    .dataframe thead th {\n",
       "        text-align: right;\n",
       "    }\n",
       "</style>\n",
       "<table border=\"1\" class=\"dataframe\">\n",
       "  <thead>\n",
       "    <tr style=\"text-align: right;\">\n",
       "      <th></th>\n",
       "      <th>BicycleID</th>\n",
       "      <th>Brand</th>\n",
       "      <th>Type</th>\n",
       "      <th>FrameSize</th>\n",
       "      <th>RentalRate</th>\n",
       "      <th>Status</th>\n",
       "      <th>DateOfPurchase</th>\n",
       "      <th>Condition</th>\n",
       "    </tr>\n",
       "  </thead>\n",
       "  <tbody>\n",
       "    <tr>\n",
       "      <th>0</th>\n",
       "      <td>1</td>\n",
       "      <td>Bianchi</td>\n",
       "      <td>Road Bike</td>\n",
       "      <td>Small</td>\n",
       "      <td>50/day;300/week</td>\n",
       "      <td>Rented</td>\n",
       "      <td>2024-10-15</td>\n",
       "      <td>Good</td>\n",
       "    </tr>\n",
       "    <tr>\n",
       "      <th>1</th>\n",
       "      <td>2</td>\n",
       "      <td>Cannondale</td>\n",
       "      <td>BMX</td>\n",
       "      <td>Large</td>\n",
       "      <td>50/day;300/week</td>\n",
       "      <td>Available</td>\n",
       "      <td>2021-06-16</td>\n",
       "      <td>New</td>\n",
       "    </tr>\n",
       "    <tr>\n",
       "      <th>2</th>\n",
       "      <td>3</td>\n",
       "      <td>Bianchi</td>\n",
       "      <td>Road Bike</td>\n",
       "      <td>Small</td>\n",
       "      <td>30/day;250/week</td>\n",
       "      <td>Under Maintenance</td>\n",
       "      <td>2024-08-10</td>\n",
       "      <td>Damaged</td>\n",
       "    </tr>\n",
       "    <tr>\n",
       "      <th>3</th>\n",
       "      <td>4</td>\n",
       "      <td>Cannondale</td>\n",
       "      <td>Folding Bike</td>\n",
       "      <td>Medium</td>\n",
       "      <td>30/day;250/week</td>\n",
       "      <td>Available</td>\n",
       "      <td>NaN</td>\n",
       "      <td>Damaged</td>\n",
       "    </tr>\n",
       "    <tr>\n",
       "      <th>4</th>\n",
       "      <td>5</td>\n",
       "      <td>Giant</td>\n",
       "      <td>Road Bike</td>\n",
       "      <td>Large</td>\n",
       "      <td>50/day;300/week</td>\n",
       "      <td>Under Maintenance</td>\n",
       "      <td>2022-05-01</td>\n",
       "      <td>New</td>\n",
       "    </tr>\n",
       "  </tbody>\n",
       "</table>\n",
       "</div>"
      ],
      "text/plain": [
       "   BicycleID       Brand          Type FrameSize       RentalRate  \\\n",
       "0          1     Bianchi     Road Bike     Small  50/day;300/week   \n",
       "1          2  Cannondale           BMX     Large  50/day;300/week   \n",
       "2          3     Bianchi     Road Bike     Small  30/day;250/week   \n",
       "3          4  Cannondale  Folding Bike    Medium  30/day;250/week   \n",
       "4          5       Giant     Road Bike     Large  50/day;300/week   \n",
       "\n",
       "              Status DateOfPurchase Condition  \n",
       "0             Rented     2024-10-15      Good  \n",
       "1          Available     2021-06-16       New  \n",
       "2  Under Maintenance     2024-08-10   Damaged  \n",
       "3          Available            NaN   Damaged  \n",
       "4  Under Maintenance     2022-05-01       New  "
      ]
     },
     "execution_count": 2,
     "metadata": {},
     "output_type": "execute_result"
    }
   ],
   "source": [
    "BicycleInfo_df = pd.read_csv('Bicycle_Info.txt', delimiter='\\t')\n",
    "BicycleInfo_df.head()\n"
   ]
  },
  {
   "cell_type": "code",
   "execution_count": 5,
   "id": "f9777026-47b9-4593-8924-0f282d9b6d15",
   "metadata": {},
   "outputs": [
    {
     "data": {
      "text/plain": [
       "BicycleID         0\n",
       "Brand             0\n",
       "Type              0\n",
       "FrameSize         0\n",
       "RentalRate        0\n",
       "Status            0\n",
       "DateOfPurchase    0\n",
       "Condition         0\n",
       "dtype: int64"
      ]
     },
     "execution_count": 5,
     "metadata": {},
     "output_type": "execute_result"
    }
   ],
   "source": [
    "BicycleInfo_df.isnull().sum()"
   ]
  },
  {
   "cell_type": "code",
   "execution_count": 17,
   "id": "cf03ec9f-82aa-40fe-85a2-f96d3fbf1285",
   "metadata": {},
   "outputs": [
    {
     "data": {
      "text/plain": [
       "array(['Road Bike', 'BMX', 'Folding Bike', 'Mountain Bike',\n",
       "       'Electric Bike', 'Hybrid', 'Gravel Bike'], dtype=object)"
      ]
     },
     "execution_count": 17,
     "metadata": {},
     "output_type": "execute_result"
    }
   ],
   "source": [
    "BicycleInfo_df.Type.unique()"
   ]
  },
  {
   "cell_type": "code",
   "execution_count": 18,
   "id": "8eadc95b-a813-4728-9b0b-896f49d88aa4",
   "metadata": {},
   "outputs": [],
   "source": [
    "def FillNullValues(row):\n",
    "    if row['Type'] in ['Road Bike', 'BMX']:\n",
    "        return 'Large'\n",
    "    elif row['Type'] in ['Folding Bike', 'Mountain Bike']:\n",
    "        return 'Medium'\n",
    "    else:\n",
    "        return 'Small'\n",
    "\n",
    "# Fill null values in Frame_Size based on Type\n",
    "BicycleInfo_df['FrameSize'] = BicycleInfo_df.apply(\n",
    "    lambda row: FillNullValues(row) if pd.isnull(row['FrameSize']) else row['FrameSize'], axis=1)"
   ]
  },
  {
   "cell_type": "code",
   "execution_count": 19,
   "id": "d7b3298d-1f00-43f1-97db-f99fdf54ef74",
   "metadata": {},
   "outputs": [],
   "source": [
    "BicycleInfo_df['DateOfPurchase'] = BicycleInfo_df['DateOfPurchase'].fillna(pd.Timestamp.now().normalize().date()).astype(str)"
   ]
  },
  {
   "cell_type": "code",
   "execution_count": 20,
   "id": "aecf674a-b5ca-4602-af91-3770255881a5",
   "metadata": {},
   "outputs": [
    {
     "data": {
      "text/plain": [
       "True"
      ]
     },
     "execution_count": 20,
     "metadata": {},
     "output_type": "execute_result"
    }
   ],
   "source": [
    "BicycleInfo_df['BicycleID'].is_unique"
   ]
  },
  {
   "cell_type": "code",
   "execution_count": 21,
   "id": "dc42115e-f49f-4f9e-9d02-9f34bb5351e6",
   "metadata": {},
   "outputs": [],
   "source": [
    "BicycleInfo_df.to_csv('Bicycle_Info.txt', sep='\\t', index=False, header=True)"
   ]
  },
  {
   "cell_type": "code",
   "execution_count": 22,
   "id": "d367b64b-3c75-4e04-a9e3-e13555b170c7",
   "metadata": {},
   "outputs": [
    {
     "data": {
      "text/html": [
       "<div>\n",
       "<style scoped>\n",
       "    .dataframe tbody tr th:only-of-type {\n",
       "        vertical-align: middle;\n",
       "    }\n",
       "\n",
       "    .dataframe tbody tr th {\n",
       "        vertical-align: top;\n",
       "    }\n",
       "\n",
       "    .dataframe thead th {\n",
       "        text-align: right;\n",
       "    }\n",
       "</style>\n",
       "<table border=\"1\" class=\"dataframe\">\n",
       "  <thead>\n",
       "    <tr style=\"text-align: right;\">\n",
       "      <th></th>\n",
       "      <th>BicycleID</th>\n",
       "      <th>Brand</th>\n",
       "      <th>Type</th>\n",
       "      <th>FrameSize</th>\n",
       "      <th>RentalRate</th>\n",
       "      <th>Status</th>\n",
       "      <th>DateOfPurchase</th>\n",
       "      <th>Condition</th>\n",
       "    </tr>\n",
       "  </thead>\n",
       "  <tbody>\n",
       "    <tr>\n",
       "      <th>0</th>\n",
       "      <td>1</td>\n",
       "      <td>Bianchi</td>\n",
       "      <td>Road Bike</td>\n",
       "      <td>Small</td>\n",
       "      <td>50/day;300/week</td>\n",
       "      <td>Rented</td>\n",
       "      <td>2024-10-15</td>\n",
       "      <td>Good</td>\n",
       "    </tr>\n",
       "    <tr>\n",
       "      <th>1</th>\n",
       "      <td>2</td>\n",
       "      <td>Cannondale</td>\n",
       "      <td>BMX</td>\n",
       "      <td>Large</td>\n",
       "      <td>50/day;300/week</td>\n",
       "      <td>Available</td>\n",
       "      <td>2021-06-16</td>\n",
       "      <td>New</td>\n",
       "    </tr>\n",
       "    <tr>\n",
       "      <th>2</th>\n",
       "      <td>3</td>\n",
       "      <td>Bianchi</td>\n",
       "      <td>Road Bike</td>\n",
       "      <td>Small</td>\n",
       "      <td>30/day;250/week</td>\n",
       "      <td>Under Maintenance</td>\n",
       "      <td>2024-08-10</td>\n",
       "      <td>Damaged</td>\n",
       "    </tr>\n",
       "    <tr>\n",
       "      <th>3</th>\n",
       "      <td>4</td>\n",
       "      <td>Cannondale</td>\n",
       "      <td>Folding Bike</td>\n",
       "      <td>Medium</td>\n",
       "      <td>30/day;250/week</td>\n",
       "      <td>Available</td>\n",
       "      <td>2024-10-20</td>\n",
       "      <td>Damaged</td>\n",
       "    </tr>\n",
       "    <tr>\n",
       "      <th>4</th>\n",
       "      <td>5</td>\n",
       "      <td>Giant</td>\n",
       "      <td>Road Bike</td>\n",
       "      <td>Large</td>\n",
       "      <td>50/day;300/week</td>\n",
       "      <td>Under Maintenance</td>\n",
       "      <td>2022-05-01</td>\n",
       "      <td>New</td>\n",
       "    </tr>\n",
       "  </tbody>\n",
       "</table>\n",
       "</div>"
      ],
      "text/plain": [
       "   BicycleID       Brand          Type FrameSize       RentalRate  \\\n",
       "0          1     Bianchi     Road Bike     Small  50/day;300/week   \n",
       "1          2  Cannondale           BMX     Large  50/day;300/week   \n",
       "2          3     Bianchi     Road Bike     Small  30/day;250/week   \n",
       "3          4  Cannondale  Folding Bike    Medium  30/day;250/week   \n",
       "4          5       Giant     Road Bike     Large  50/day;300/week   \n",
       "\n",
       "              Status DateOfPurchase Condition  \n",
       "0             Rented     2024-10-15      Good  \n",
       "1          Available     2021-06-16       New  \n",
       "2  Under Maintenance     2024-08-10   Damaged  \n",
       "3          Available     2024-10-20   Damaged  \n",
       "4  Under Maintenance     2022-05-01       New  "
      ]
     },
     "execution_count": 22,
     "metadata": {},
     "output_type": "execute_result"
    }
   ],
   "source": [
    "BicycleInfo_df.head()"
   ]
  },
  {
   "cell_type": "markdown",
   "id": "f6477d89-4264-42f9-912e-2fee0f3d5650",
   "metadata": {
    "jp-MarkdownHeadingCollapsed": true
   },
   "source": [
    "#### **Rental_History Data Cleaning**\n",
    "\n",
    "- Read the `Rental_History.txt` file.\n",
    "- Handled null values in the dataset.\n",
    "- Checked if the return date is earlier than the rental date; if so, updated the return date to the current date.\n",
    "- Randomly filled the `memberID` attribute with values between 1000 and 9999."
   ]
  },
  {
   "cell_type": "code",
   "execution_count": 3,
   "id": "f2069919-c654-42df-a600-b32c9d658e34",
   "metadata": {},
   "outputs": [
    {
     "data": {
      "text/html": [
       "<div>\n",
       "<style scoped>\n",
       "    .dataframe tbody tr th:only-of-type {\n",
       "        vertical-align: middle;\n",
       "    }\n",
       "\n",
       "    .dataframe tbody tr th {\n",
       "        vertical-align: top;\n",
       "    }\n",
       "\n",
       "    .dataframe thead th {\n",
       "        text-align: right;\n",
       "    }\n",
       "</style>\n",
       "<table border=\"1\" class=\"dataframe\">\n",
       "  <thead>\n",
       "    <tr style=\"text-align: right;\">\n",
       "      <th></th>\n",
       "      <th>BicycleID</th>\n",
       "      <th>MemberID</th>\n",
       "      <th>RentalDate</th>\n",
       "      <th>ReturnDate</th>\n",
       "    </tr>\n",
       "  </thead>\n",
       "  <tbody>\n",
       "    <tr>\n",
       "      <th>0</th>\n",
       "      <td>37</td>\n",
       "      <td>1049.0</td>\n",
       "      <td>2023-08-01</td>\n",
       "      <td>2024-04-01</td>\n",
       "    </tr>\n",
       "    <tr>\n",
       "      <th>1</th>\n",
       "      <td>23</td>\n",
       "      <td>NaN</td>\n",
       "      <td>2022-04-01</td>\n",
       "      <td>2021-03-02</td>\n",
       "    </tr>\n",
       "    <tr>\n",
       "      <th>2</th>\n",
       "      <td>8</td>\n",
       "      <td>1037.0</td>\n",
       "      <td>2022-12-28</td>\n",
       "      <td>2023-12-27</td>\n",
       "    </tr>\n",
       "    <tr>\n",
       "      <th>3</th>\n",
       "      <td>14</td>\n",
       "      <td>NaN</td>\n",
       "      <td>2022-02-11</td>\n",
       "      <td>2024-02-16</td>\n",
       "    </tr>\n",
       "    <tr>\n",
       "      <th>4</th>\n",
       "      <td>19</td>\n",
       "      <td>1008.0</td>\n",
       "      <td>2024-08-28</td>\n",
       "      <td>2022-09-26</td>\n",
       "    </tr>\n",
       "  </tbody>\n",
       "</table>\n",
       "</div>"
      ],
      "text/plain": [
       "   BicycleID  MemberID  RentalDate  ReturnDate\n",
       "0         37    1049.0  2023-08-01  2024-04-01\n",
       "1         23       NaN  2022-04-01  2021-03-02\n",
       "2          8    1037.0  2022-12-28  2023-12-27\n",
       "3         14       NaN  2022-02-11  2024-02-16\n",
       "4         19    1008.0  2024-08-28  2022-09-26"
      ]
     },
     "execution_count": 3,
     "metadata": {},
     "output_type": "execute_result"
    }
   ],
   "source": [
    "RentalHistory_df = pd.read_csv('Rental_History.txt', delimiter  = '\\t')\n",
    "RentalHistory_df.head()"
   ]
  },
  {
   "cell_type": "code",
   "execution_count": 4,
   "id": "b4c520f0-0231-440e-8e06-0160c0ab22cc",
   "metadata": {},
   "outputs": [
    {
     "name": "stdout",
     "output_type": "stream",
     "text": [
      "<class 'pandas.core.frame.DataFrame'>\n",
      "RangeIndex: 200 entries, 0 to 199\n",
      "Data columns (total 4 columns):\n",
      " #   Column      Non-Null Count  Dtype  \n",
      "---  ------      --------------  -----  \n",
      " 0   BicycleID   200 non-null    int64  \n",
      " 1   MemberID    137 non-null    float64\n",
      " 2   RentalDate  200 non-null    object \n",
      " 3   ReturnDate  200 non-null    object \n",
      "dtypes: float64(1), int64(1), object(2)\n",
      "memory usage: 6.4+ KB\n"
     ]
    }
   ],
   "source": [
    "RentalHistory_df.info()"
   ]
  },
  {
   "cell_type": "code",
   "execution_count": 12,
   "id": "32811256-4789-46fd-99c7-dad02547a047",
   "metadata": {},
   "outputs": [
    {
     "data": {
      "text/plain": [
       "BicycleID     0\n",
       "MemberID      0\n",
       "RentalDate    0\n",
       "ReturnDate    0\n",
       "dtype: int64"
      ]
     },
     "execution_count": 12,
     "metadata": {},
     "output_type": "execute_result"
    }
   ],
   "source": [
    "RentalHistory_df.isnull().sum()"
   ]
  },
  {
   "cell_type": "code",
   "execution_count": 6,
   "id": "3ea131fd-af02-405f-b6a4-18b8ea6dcb6f",
   "metadata": {},
   "outputs": [],
   "source": [
    "\n",
    "# Convert the columns to datetime type\n",
    "RentalHistory_df['RentalDate'] = pd.to_datetime(RentalHistory_df['RentalDate'])\n",
    "RentalHistory_df['ReturnDate'] = pd.to_datetime(RentalHistory_df['ReturnDate'])\n",
    "\n",
    "# Find where return_date is less than or equal to rental_date\n",
    "condition = RentalHistory_df['ReturnDate'] <= RentalHistory_df['RentalDate']\n",
    "\n",
    "# Update return_date where the condition is true, adding one day to the rental_date\n",
    "RentalHistory_df.loc[condition, 'ReturnDate'] = RentalHistory_df['RentalDate'] + pd.Timedelta(days=1)\n",
    "\n",
    "\n",
    " "
   ]
  },
  {
   "cell_type": "code",
   "execution_count": 7,
   "id": "9f3665a1-a996-4020-bf80-48ae0df16ada",
   "metadata": {},
   "outputs": [],
   "source": [
    "\n",
    "RentalHistory_df.loc[ ~RentalHistory_df['MemberID'].between(1000,9999), 'MemberID'] = np.nan\n",
    "RentalHistory_df['MemberID'] = RentalHistory_df['MemberID'].replace(np.nan,'')"
   ]
  },
  {
   "cell_type": "code",
   "execution_count": 9,
   "id": "83d2bb67-cdbe-4ba7-babc-a19c2715b1d7",
   "metadata": {},
   "outputs": [],
   "source": [
    "RentalHistory_df['MemberID'] = pd.to_numeric(RentalHistory_df['MemberID'], errors='coerce')\n",
    "RentalHistory_df['MemberID'] = RentalHistory_df['MemberID'].fillna(np.random.randint(1000,10000))\n",
    "RentalHistory_df['MemberID'] = RentalHistory_df['MemberID'].astype('Int64')\n"
   ]
  },
  {
   "cell_type": "code",
   "execution_count": 10,
   "id": "af806708-752e-46be-8c32-bb995e383d3b",
   "metadata": {},
   "outputs": [],
   "source": [
    "RentalHistory_df = RentalHistory_df.sort_values(by=['RentalDate'])"
   ]
  },
  {
   "cell_type": "code",
   "execution_count": 11,
   "id": "9b4944ca-856f-4d16-8f8d-d73176e7cb13",
   "metadata": {},
   "outputs": [
    {
     "data": {
      "text/html": [
       "<div>\n",
       "<style scoped>\n",
       "    .dataframe tbody tr th:only-of-type {\n",
       "        vertical-align: middle;\n",
       "    }\n",
       "\n",
       "    .dataframe tbody tr th {\n",
       "        vertical-align: top;\n",
       "    }\n",
       "\n",
       "    .dataframe thead th {\n",
       "        text-align: right;\n",
       "    }\n",
       "</style>\n",
       "<table border=\"1\" class=\"dataframe\">\n",
       "  <thead>\n",
       "    <tr style=\"text-align: right;\">\n",
       "      <th></th>\n",
       "      <th>BicycleID</th>\n",
       "      <th>MemberID</th>\n",
       "      <th>RentalDate</th>\n",
       "      <th>ReturnDate</th>\n",
       "    </tr>\n",
       "  </thead>\n",
       "  <tbody>\n",
       "    <tr>\n",
       "      <th>100</th>\n",
       "      <td>49</td>\n",
       "      <td>1023</td>\n",
       "      <td>2022-01-02</td>\n",
       "      <td>2024-07-03</td>\n",
       "    </tr>\n",
       "    <tr>\n",
       "      <th>189</th>\n",
       "      <td>21</td>\n",
       "      <td>1023</td>\n",
       "      <td>2022-01-07</td>\n",
       "      <td>2023-06-21</td>\n",
       "    </tr>\n",
       "    <tr>\n",
       "      <th>174</th>\n",
       "      <td>3</td>\n",
       "      <td>1011</td>\n",
       "      <td>2022-01-14</td>\n",
       "      <td>2024-05-08</td>\n",
       "    </tr>\n",
       "    <tr>\n",
       "      <th>130</th>\n",
       "      <td>17</td>\n",
       "      <td>1000</td>\n",
       "      <td>2022-01-15</td>\n",
       "      <td>2024-04-06</td>\n",
       "    </tr>\n",
       "    <tr>\n",
       "      <th>116</th>\n",
       "      <td>47</td>\n",
       "      <td>1026</td>\n",
       "      <td>2022-01-18</td>\n",
       "      <td>2022-04-23</td>\n",
       "    </tr>\n",
       "    <tr>\n",
       "      <th>...</th>\n",
       "      <td>...</td>\n",
       "      <td>...</td>\n",
       "      <td>...</td>\n",
       "      <td>...</td>\n",
       "    </tr>\n",
       "    <tr>\n",
       "      <th>180</th>\n",
       "      <td>33</td>\n",
       "      <td>1002</td>\n",
       "      <td>2024-08-30</td>\n",
       "      <td>2024-08-31</td>\n",
       "    </tr>\n",
       "    <tr>\n",
       "      <th>33</th>\n",
       "      <td>5</td>\n",
       "      <td>1014</td>\n",
       "      <td>2024-09-02</td>\n",
       "      <td>2024-09-03</td>\n",
       "    </tr>\n",
       "    <tr>\n",
       "      <th>29</th>\n",
       "      <td>8</td>\n",
       "      <td>6841</td>\n",
       "      <td>2024-09-06</td>\n",
       "      <td>2024-09-07</td>\n",
       "    </tr>\n",
       "    <tr>\n",
       "      <th>145</th>\n",
       "      <td>21</td>\n",
       "      <td>1021</td>\n",
       "      <td>2024-09-19</td>\n",
       "      <td>2024-09-20</td>\n",
       "    </tr>\n",
       "    <tr>\n",
       "      <th>13</th>\n",
       "      <td>18</td>\n",
       "      <td>1016</td>\n",
       "      <td>2024-09-21</td>\n",
       "      <td>2024-09-22</td>\n",
       "    </tr>\n",
       "  </tbody>\n",
       "</table>\n",
       "<p>200 rows × 4 columns</p>\n",
       "</div>"
      ],
      "text/plain": [
       "     BicycleID  MemberID RentalDate ReturnDate\n",
       "100         49      1023 2022-01-02 2024-07-03\n",
       "189         21      1023 2022-01-07 2023-06-21\n",
       "174          3      1011 2022-01-14 2024-05-08\n",
       "130         17      1000 2022-01-15 2024-04-06\n",
       "116         47      1026 2022-01-18 2022-04-23\n",
       "..         ...       ...        ...        ...\n",
       "180         33      1002 2024-08-30 2024-08-31\n",
       "33           5      1014 2024-09-02 2024-09-03\n",
       "29           8      6841 2024-09-06 2024-09-07\n",
       "145         21      1021 2024-09-19 2024-09-20\n",
       "13          18      1016 2024-09-21 2024-09-22\n",
       "\n",
       "[200 rows x 4 columns]"
      ]
     },
     "execution_count": 11,
     "metadata": {},
     "output_type": "execute_result"
    }
   ],
   "source": [
    "RentalHistory_df"
   ]
  },
  {
   "cell_type": "code",
   "execution_count": 15,
   "id": "81aa08fa-af9b-4bd8-a39d-aea1015662c3",
   "metadata": {},
   "outputs": [],
   "source": [
    "RentalHistory_df.to_csv('Rental_History.txt', sep='\\t', index=False, header=True)"
   ]
  },
  {
   "cell_type": "markdown",
   "id": "8d853d28-c077-4780-b51a-26e0c38053d2",
   "metadata": {
    "jp-MarkdownHeadingCollapsed": true
   },
   "source": [
    "#### **Members File Data Cleaning**\n",
    "\n",
    "- Read the `members.txt` file.\n",
    "- Ensured that all unique member IDs from the `rental_history.txt` file are present in the `members.txt` file.\n",
    "- Applied the assigned random rental limits and verified each membership's end date as specified."
   ]
  },
  {
   "cell_type": "code",
   "execution_count": 5,
   "id": "fc9fb796-2a2c-4888-9687-a0fbdce5b134",
   "metadata": {},
   "outputs": [
    {
     "data": {
      "text/html": [
       "<div>\n",
       "<style scoped>\n",
       "    .dataframe tbody tr th:only-of-type {\n",
       "        vertical-align: middle;\n",
       "    }\n",
       "\n",
       "    .dataframe tbody tr th {\n",
       "        vertical-align: top;\n",
       "    }\n",
       "\n",
       "    .dataframe thead th {\n",
       "        text-align: right;\n",
       "    }\n",
       "</style>\n",
       "<table border=\"1\" class=\"dataframe\">\n",
       "  <thead>\n",
       "    <tr style=\"text-align: right;\">\n",
       "      <th></th>\n",
       "      <th>MemberID</th>\n",
       "      <th>RentalLimit</th>\n",
       "      <th>MembershipEndDate</th>\n",
       "    </tr>\n",
       "  </thead>\n",
       "  <tbody>\n",
       "    <tr>\n",
       "      <th>0</th>\n",
       "      <td>1001</td>\n",
       "      <td>3</td>\n",
       "      <td>2024-12-31</td>\n",
       "    </tr>\n",
       "    <tr>\n",
       "      <th>1</th>\n",
       "      <td>1002</td>\n",
       "      <td>2</td>\n",
       "      <td>2022-05-15</td>\n",
       "    </tr>\n",
       "    <tr>\n",
       "      <th>2</th>\n",
       "      <td>1003</td>\n",
       "      <td>1</td>\n",
       "      <td>2023-11-30</td>\n",
       "    </tr>\n",
       "    <tr>\n",
       "      <th>3</th>\n",
       "      <td>1044</td>\n",
       "      <td>2</td>\n",
       "      <td>2025-06-01</td>\n",
       "    </tr>\n",
       "    <tr>\n",
       "      <th>4</th>\n",
       "      <td>1005</td>\n",
       "      <td>3</td>\n",
       "      <td>2025-12-31</td>\n",
       "    </tr>\n",
       "  </tbody>\n",
       "</table>\n",
       "</div>"
      ],
      "text/plain": [
       "   MemberID  RentalLimit MembershipEndDate\n",
       "0      1001            3        2024-12-31\n",
       "1      1002            2        2022-05-15\n",
       "2      1003            1        2023-11-30\n",
       "3      1044            2        2025-06-01\n",
       "4      1005            3        2025-12-31"
      ]
     },
     "execution_count": 5,
     "metadata": {},
     "output_type": "execute_result"
    }
   ],
   "source": [
    "Membership_df = pd.read_csv('members.txt', delimiter  = ',')\n",
    "Membership_df.head()"
   ]
  },
  {
   "cell_type": "code",
   "execution_count": 17,
   "id": "19d15e12-aba5-4bda-913f-ed92a019a6c4",
   "metadata": {
    "scrolled": true
   },
   "outputs": [
    {
     "name": "stdout",
     "output_type": "stream",
     "text": [
      "    MemberID  RentalLimit MembershipEndDate\n",
      "0       1000            3        2025-10-20\n",
      "1       1001            3        2024-12-31\n",
      "2       1002            2        2022-05-15\n",
      "3       1003            1        2023-11-30\n",
      "4       1005            3        2025-12-31\n",
      "5       1006            2        2022-05-15\n",
      "6       1007            3        2025-10-20\n",
      "7       1008            3        2025-10-20\n",
      "8       1010            3        2025-10-20\n",
      "9       1011            3        2025-10-20\n",
      "10      1012            3        2025-10-20\n",
      "11      1013            3        2025-10-20\n",
      "12      1014            3        2025-10-20\n",
      "13      1015            3        2025-10-20\n",
      "14      1016            3        2025-10-20\n",
      "15      1017            3        2025-10-20\n",
      "16      1018            3        2025-10-20\n",
      "17      1019            3        2025-10-20\n",
      "18      1020            3        2025-10-20\n",
      "19      1021            3        2025-10-20\n",
      "20      1022            3        2025-10-20\n",
      "21      1023            3        2025-10-20\n",
      "22      1024            3        2025-10-20\n",
      "23      1025            3        2025-10-20\n",
      "24      1026            3        2025-10-20\n",
      "25      1027            3        2025-10-20\n",
      "26      1030            1        2023-11-30\n",
      "27      1031            3        2025-10-20\n",
      "28      1032            3        2025-10-20\n",
      "29      1034            3        2025-10-20\n",
      "30      1035            3        2025-10-20\n",
      "31      1037            3        2025-10-20\n",
      "32      1038            3        2025-10-20\n",
      "33      1040            2        2025-06-01\n",
      "34      1041            3        2025-10-20\n",
      "35      1042            3        2025-10-20\n",
      "36      1044            2        2025-06-01\n",
      "37      1046            3        2025-10-20\n",
      "38      1047            3        2025-10-20\n",
      "39      1048            3        2025-10-20\n",
      "40      1049            3        2025-10-20\n",
      "41      6841            3        2025-11-03\n"
     ]
    }
   ],
   "source": [
    "# 1. Extract unique Member_Id values from Rental_History_df\n",
    "unique_members = RentalHistory_df['MemberID'].drop_duplicates()\n",
    "\n",
    "# 2. Identify new members (not already in Membership_df)\n",
    "new_members = unique_members[~unique_members.isin(Membership_df['MemberID'])]\n",
    "\n",
    "# 3. Create a DataFrame with new members' details\n",
    "if not new_members.empty:\n",
    "    new_members_df = pd.DataFrame({\n",
    "        'MemberID': new_members,\n",
    "        'RentalLimit': [3] * len(new_members),  # Default rental limit of 5\n",
    "        'MembershipEndDate': pd.Timestamp.now() + pd.DateOffset(years=1) # Set 1 year later\n",
    "        \n",
    "    })\n",
    "    \n",
    "    # 4. Append new members to the existing Membership_df\n",
    "    Membership_df = pd.concat([Membership_df, new_members_df], ignore_index=True)\n",
    "Membership_df = Membership_df.dropna()\n",
    "Membership_df['MembershipEndDate'] = pd.to_datetime(Membership_df['MembershipEndDate']).dt.date\n",
    "# Display the updated Membership_df\n",
    "print(Membership_df)"
   ]
  },
  {
   "cell_type": "code",
   "execution_count": 18,
   "id": "8e804487-9340-4990-a3d5-4e32ca830f4b",
   "metadata": {},
   "outputs": [
    {
     "data": {
      "text/plain": [
       "True"
      ]
     },
     "execution_count": 18,
     "metadata": {},
     "output_type": "execute_result"
    }
   ],
   "source": [
    "Membership_df['MemberID'].is_unique"
   ]
  },
  {
   "cell_type": "code",
   "execution_count": 19,
   "id": "368f8327-f345-4c81-89a9-edc5bf15df42",
   "metadata": {},
   "outputs": [
    {
     "name": "stdout",
     "output_type": "stream",
     "text": [
      "    MemberID  RentalLimit MembershipEndDate\n",
      "0       1000            3        2025-10-20\n",
      "1       1001            3        2024-12-31\n",
      "2       1002            2        2022-05-15\n",
      "3       1003            1        2023-11-30\n",
      "4       1005            3        2025-12-31\n",
      "5       1006            2        2022-05-15\n",
      "6       1007            3        2025-10-20\n",
      "7       1008            3        2025-10-20\n",
      "8       1010            3        2025-10-20\n",
      "9       1011            3        2025-10-20\n",
      "10      1012            3        2025-10-20\n",
      "11      1013            3        2025-10-20\n",
      "12      1014            3        2025-10-20\n",
      "13      1015            3        2025-10-20\n",
      "14      1016            3        2025-10-20\n",
      "15      1017            3        2025-10-20\n",
      "16      1018            3        2025-10-20\n",
      "17      1019            3        2025-10-20\n",
      "18      1020            3        2025-10-20\n",
      "19      1021            3        2025-10-20\n",
      "20      1022            3        2025-10-20\n",
      "21      1023            3        2025-10-20\n",
      "22      1024            3        2025-10-20\n",
      "23      1025            3        2025-10-20\n",
      "24      1026            3        2025-10-20\n",
      "25      1027            3        2025-10-20\n",
      "26      1030            1        2023-11-30\n",
      "27      1031            3        2025-10-20\n",
      "28      1032            3        2025-10-20\n",
      "29      1034            3        2025-10-20\n",
      "30      1035            3        2025-10-20\n",
      "31      1037            3        2025-10-20\n",
      "32      1038            3        2025-10-20\n",
      "33      1040            2        2025-06-01\n",
      "34      1041            3        2025-10-20\n",
      "35      1042            3        2025-10-20\n",
      "36      1044            2        2025-06-01\n",
      "37      1046            3        2025-10-20\n",
      "38      1047            3        2025-10-20\n",
      "39      1048            3        2025-10-20\n",
      "40      1049            3        2025-10-20\n",
      "41      6841            3        2025-11-03\n"
     ]
    }
   ],
   "source": [
    "Membership_df = Membership_df.sort_values(by=['MemberID'])\n",
    "print(Membership_df)"
   ]
  },
  {
   "cell_type": "code",
   "execution_count": 20,
   "id": "6871c602-89d8-4ad4-8f86-ac70004477d2",
   "metadata": {},
   "outputs": [],
   "source": [
    "Membership_df.to_csv('members.txt', sep=',', index=False, header=True)"
   ]
  },
  {
   "cell_type": "markdown",
   "id": "3277399e-502a-4297-9173-4f0bc7dd1f30",
   "metadata": {
    "jp-MarkdownHeadingCollapsed": true
   },
   "source": [
    "#### **Inventory Data Web Scraping and Data Organization**\n",
    "\n",
    "- I needed data that included images and details of bikes, so I used Beautiful Soup to scrape this information.\n",
    "- I scraped around 100 bike details from Amazon bike detail pages. Here’s the link to the [Amazon data source](https://www.amazon.co.uk/s?k=bikes&i=sports&page={page}&crid=3GFLS1KX5A9W1&qid=1730582870&sprefix=bikes%2Csports%2C64&ref=sr_pg_{page}).\n",
    "- I retrieved JSON files across multiple pages, gathering over 100 records.\n",
    "- These records were saved to a text file and then read, handling any null values encountered in the process.\n",
    "- I retained relevant attributes and ensured each attribute's value matched the structure in our `bicycle_info.txt` file. This helped synchronize the database with the bike management system.\n",
    "- I created a comprehensive combination of brand and type to match `inventory_ids` as foreign keys in the `bicycle_info` table.\n",
    "- While processing images, I removed accessory images, filtering out 8 images of this type.\n",
    "- The final dataset is ready, containing a mix of new and used bikes, providing data for both inventory and recommendations."
   ]
  },
  {
   "cell_type": "code",
   "execution_count": 2,
   "id": "9d4a32ef-814d-48da-9323-720fcfa14e73",
   "metadata": {},
   "outputs": [],
   "source": [
    "import requests\n",
    "from bs4 import BeautifulSoup\n",
    "import time\n",
    "import re\n",
    "from IPython.display import display, Image, HTML"
   ]
  },
  {
   "cell_type": "code",
   "execution_count": null,
   "id": "e9e2b7c9-5547-4a68-92bd-414d2ff7f03f",
   "metadata": {},
   "outputs": [],
   "source": [
    "# Base URL and headers\n",
    "base_url = \"https://www.amazon.co.uk/s?k=bikes&i=sports&page={page}&crid=3GFLS1KX5A9W1&qid=1730582870&sprefix=bikes%2Csports%2C64&ref=sr_pg_{page}\"\n",
    "headers = {\n",
    "    \"User-Agent\": \"Mozilla/5.0 (Windows NT 10.0; Win64; x64) AppleWebKit/537.36 (KHTML, like Gecko) Chrome/89.0.4389.82 Safari/537.36\",\n",
    "    \"Accept-Language\": \"en-GB,en;q=0.9,en-US;q=0.8\",\n",
    "}\n",
    "\n",
    "# Lists to store data\n",
    "names, prices, brands, images = [], [], [], []\n",
    "\n",
    "# Loop through multiple pages (e.g., 5 pages)\n",
    "for page in range(1, 6):\n",
    "    url = base_url.format(page=page)\n",
    "    response = requests.get(url, headers=headers)\n",
    "    \n",
    "    # Ensure the page loaded successfully\n",
    "    if response.status_code == 200:\n",
    "        soup = BeautifulSoup(response.content, \"html.parser\")\n",
    "        \n",
    "        # Find each product on the page\n",
    "        for product in soup.find_all(\"div\", class_=\"s-result-item\"):\n",
    "            # Product Name\n",
    "            name = product.find(\"span\", class_=\"a-size-medium a-color-base a-text-normal\")\n",
    "            names.append(name.text.strip() if name else \"N/A\")\n",
    "            \n",
    "            # Product Price\n",
    "            price = product.find(\"span\", class_=\"a-offscreen\")\n",
    "            prices.append(price.text.strip() if price else \"N/A\")\n",
    "            \n",
    "            # Brand\n",
    "            brand = product.find(\"span\", class_=\"a-size-base-plus a-color-base\")\n",
    "            brands.append(brand.text.strip() if brand else \"N/A\")\n",
    "            \n",
    "            # Image URL\n",
    "            image = product.find(\"img\", class_=\"s-image\")\n",
    "            img_url = image[\"src\"] if image and image.has_attr(\"src\") else \"N/A\"\n",
    "            if img_url.startswith('./'):\n",
    "                img_url = 'https://www.amazon.co.uk' + img_url[1:]\n",
    "            images.append(img_url)\n",
    "\n",
    "        # Delay to prevent overloading the server\n",
    "        time.sleep(2)\n",
    "    else:\n",
    "        print(f\"Failed to retrieve page {page}\")\n",
    "\n",
    "# Data Cleaning\n",
    "def correct_price(price):\n",
    "    return price.replace(\"Â£\", \"£\") if isinstance(price, str) else price\n",
    "\n",
    "# Apply corrections to the price and image URL fields\n",
    "prices = [correct_price(price) for price in prices]\n",
    "\n",
    "# Save data to CSV\n",
    "df = pd.DataFrame({\n",
    "    \"Name\": names,\n",
    "    \"Price\": prices,\n",
    "    \"Brand\": brands,\n",
    "    \"Image URL\": images\n",
    "})\n",
    "output_path = \"amazon_bikes_data.csv\"\n",
    "df.to_csv(output_path, index=False)\n",
    "\n",
    "print(f\"Data saved to {output_path}\")\n"
   ]
  },
  {
   "cell_type": "code",
   "execution_count": null,
   "id": "624cd291-4c9e-48dc-aa8b-cd958393ba1d",
   "metadata": {},
   "outputs": [],
   "source": [
    "#ExcelDataFiles/amazon_bikes_data.csv\n",
    "\n",
    "\n",
    "# Load the CSV file\n",
    "df = pd.read_csv(\"ExcelDataFiles/amazon_bikes_data.csv\")\n",
    "\n",
    "# Function to correct currency symbols in the price\n",
    "def correct_price(price):\n",
    "    return price.replace(\"Â£\", \"£\") if isinstance(price, str) else price\n",
    "\n",
    "# Apply price correction\n",
    "df['Price'] = df['Price'].apply(correct_price)\n",
    "\n",
    "# Function to split the 'Name' into multiple attributes\n",
    "def parse_name(name):\n",
    "    # Ensure that the input is a string\n",
    "    if not isinstance(name, str):\n",
    "        return pd.Series({\n",
    "            'Brand_Name': None,\n",
    "            'Size': None,\n",
    "            'Type': None,\n",
    "            'Gender': None,\n",
    "            'Speed': None,\n",
    "            'Frame_Size': None,\n",
    "            'Brake_Type': None,\n",
    "            'Age': None\n",
    "        })\n",
    "    \n",
    "    # Initialize a dictionary with None for missing values\n",
    "    parsed_data = {\n",
    "        'Brand_Name': None,\n",
    "        'Size': None,\n",
    "        'Type': None,\n",
    "        'Gender': None,\n",
    "        'Speed': None,\n",
    "        'Frame_Size': None,\n",
    "        'Brake_Type': None,\n",
    "        'Age': None\n",
    "    }\n",
    "    \n",
    "    # Use regular expressions to find specific attributes in the name\n",
    "    brand_match = re.search(r\"^(.*?)\\s\", name)\n",
    "    size_match = re.search(r\"(\\d{2}(?:\\.\\d{1})?\\s?Inch)\", name)\n",
    "    type_match = re.search(r\"(Mountain Bike|Road Bike|Hybrid Bike)\", name, re.IGNORECASE)\n",
    "    gender_match = re.search(r\"(Men|Women|Unisex|Girls|Boys)\", name, re.IGNORECASE)\n",
    "    speed_match = re.search(r\"(\\d+\\s?Speeds?)\", name)\n",
    "    frame_match = re.search(r\"(Steel Frame|Aluminum Frame|Carbon Frame|High-Tensile Steel Frame)\", name, re.IGNORECASE)\n",
    "    brake_match = re.search(r\"(V Brake|Disc Brake|Coaster Brake|Caliper Brake)\", name, re.IGNORECASE)\n",
    "    age_match = re.search(r\"(Adults|Kids|Youth|Children|Seniors)\", name, re.IGNORECASE)\n",
    "    \n",
    "    # Assign values to the dictionary if a match is found\n",
    "    parsed_data['Brand_Name'] = brand_match.group(1) if brand_match else None\n",
    "    parsed_data['Size'] = size_match.group(1) if size_match else None\n",
    "    parsed_data['Type'] = type_match.group(1) if type_match else None\n",
    "    parsed_data['Gender'] = gender_match.group(1) if gender_match else None\n",
    "    parsed_data['Speed'] = speed_match.group(1) if speed_match else None\n",
    "    parsed_data['Frame_Size'] = frame_match.group(1) if frame_match else None\n",
    "    parsed_data['Brake_Type'] = brake_match.group(1) if brake_match else None\n",
    "    parsed_data['Age'] = age_match.group(1) if age_match else None\n",
    "    \n",
    "    return pd.Series(parsed_data)\n",
    "\n",
    "# Apply the parse_name function to each row in the Name column\n",
    "name_attributes = df['Name'].apply(parse_name)\n",
    "\n",
    "# Concatenate the parsed attributes with the original DataFrame\n",
    "df = pd.concat([df, name_attributes], axis=1)\n",
    "\n",
    "# Drop only rows where 'Name' column has null values\n",
    "df.dropna(subset=['Name'], inplace=True)\n",
    "\n",
    "# Drop the original 'Name' column if it's no longer needed\n",
    "df.drop(columns=['Name'], inplace=True)\n",
    "\n",
    "# Save the cleaned data back to a new CSV file\n",
    "output_path = \"amazon_bikes_data.csv\"\n",
    "df.to_csv(output_path, index=False)\n",
    "\n",
    "print(f\"Cleaned data saved to {output_path}\")\n"
   ]
  },
  {
   "cell_type": "code",
   "execution_count": 6,
   "id": "d92d9710-bcaf-45dd-9079-b99933a6f60f",
   "metadata": {},
   "outputs": [],
   "source": [
    "df = pd.read_csv(\"Inventory_data.txt\", delimiter  = '\\t')"
   ]
  },
  {
   "cell_type": "code",
   "execution_count": 7,
   "id": "457da764-1093-4950-bfff-dfa5933d4e6b",
   "metadata": {},
   "outputs": [
    {
     "data": {
      "text/html": [
       "<div>\n",
       "<style scoped>\n",
       "    .dataframe tbody tr th:only-of-type {\n",
       "        vertical-align: middle;\n",
       "    }\n",
       "\n",
       "    .dataframe tbody tr th {\n",
       "        vertical-align: top;\n",
       "    }\n",
       "\n",
       "    .dataframe thead th {\n",
       "        text-align: right;\n",
       "    }\n",
       "</style>\n",
       "<table border=\"1\" class=\"dataframe\">\n",
       "  <thead>\n",
       "    <tr style=\"text-align: right;\">\n",
       "      <th></th>\n",
       "      <th>Price</th>\n",
       "      <th>Image URL</th>\n",
       "      <th>Brand_Name</th>\n",
       "      <th>Size</th>\n",
       "      <th>Type</th>\n",
       "      <th>Gender</th>\n",
       "      <th>Speed</th>\n",
       "      <th>Frame</th>\n",
       "      <th>Brake_Type</th>\n",
       "      <th>Age</th>\n",
       "    </tr>\n",
       "  </thead>\n",
       "  <tbody>\n",
       "    <tr>\n",
       "      <th>0</th>\n",
       "      <td>209.99</td>\n",
       "      <td>https://m.media-amazon.com/images/I/71bM-9kKqQ...</td>\n",
       "      <td>Hiland</td>\n",
       "      <td>29 Inch</td>\n",
       "      <td>Mountain Bike</td>\n",
       "      <td>Men</td>\n",
       "      <td>21 Speeds</td>\n",
       "      <td>High-Tensile Steel Frame</td>\n",
       "      <td>V Brake</td>\n",
       "      <td>Adults</td>\n",
       "    </tr>\n",
       "    <tr>\n",
       "      <th>1</th>\n",
       "      <td>949</td>\n",
       "      <td>https://m.media-amazon.com/images/I/71cJWirAwy...</td>\n",
       "      <td>E-bike</td>\n",
       "      <td>NaN</td>\n",
       "      <td>Mountain Bike</td>\n",
       "      <td>Women</td>\n",
       "      <td>NaN</td>\n",
       "      <td>NaN</td>\n",
       "      <td>NaN</td>\n",
       "      <td>Adults</td>\n",
       "    </tr>\n",
       "    <tr>\n",
       "      <th>2</th>\n",
       "      <td>169.99</td>\n",
       "      <td>https://m.media-amazon.com/images/I/61OwPoOpGV...</td>\n",
       "      <td>HILAND</td>\n",
       "      <td>20 Inch</td>\n",
       "      <td>NaN</td>\n",
       "      <td>boys</td>\n",
       "      <td>NaN</td>\n",
       "      <td>NaN</td>\n",
       "      <td>NaN</td>\n",
       "      <td>NaN</td>\n",
       "    </tr>\n",
       "    <tr>\n",
       "      <th>3</th>\n",
       "      <td>254.99</td>\n",
       "      <td>https://m.media-amazon.com/images/I/81DPZ3Xfrw...</td>\n",
       "      <td>Mountain</td>\n",
       "      <td>NaN</td>\n",
       "      <td>Mountain Bike</td>\n",
       "      <td>NaN</td>\n",
       "      <td>21 Speeds</td>\n",
       "      <td>NaN</td>\n",
       "      <td>Disc Brake</td>\n",
       "      <td>NaN</td>\n",
       "    </tr>\n",
       "    <tr>\n",
       "      <th>4</th>\n",
       "      <td>150</td>\n",
       "      <td>https://m.media-amazon.com/images/I/61zFR6j3wz...</td>\n",
       "      <td>Simply</td>\n",
       "      <td>NaN</td>\n",
       "      <td>Hybrid Bike</td>\n",
       "      <td>Men</td>\n",
       "      <td>21 Speed</td>\n",
       "      <td>NaN</td>\n",
       "      <td>NaN</td>\n",
       "      <td>NaN</td>\n",
       "    </tr>\n",
       "  </tbody>\n",
       "</table>\n",
       "</div>"
      ],
      "text/plain": [
       "    Price                                          Image URL Brand_Name  \\\n",
       "0  209.99  https://m.media-amazon.com/images/I/71bM-9kKqQ...     Hiland   \n",
       "1     949  https://m.media-amazon.com/images/I/71cJWirAwy...     E-bike   \n",
       "2  169.99  https://m.media-amazon.com/images/I/61OwPoOpGV...     HILAND   \n",
       "3  254.99  https://m.media-amazon.com/images/I/81DPZ3Xfrw...   Mountain   \n",
       "4     150  https://m.media-amazon.com/images/I/61zFR6j3wz...     Simply   \n",
       "\n",
       "      Size           Type Gender      Speed                     Frame  \\\n",
       "0  29 Inch  Mountain Bike    Men  21 Speeds  High-Tensile Steel Frame   \n",
       "1      NaN  Mountain Bike  Women        NaN                       NaN   \n",
       "2  20 Inch            NaN   boys        NaN                       NaN   \n",
       "3      NaN  Mountain Bike    NaN  21 Speeds                       NaN   \n",
       "4      NaN    Hybrid Bike    Men   21 Speed                       NaN   \n",
       "\n",
       "   Brake_Type     Age  \n",
       "0     V Brake  Adults  \n",
       "1         NaN  Adults  \n",
       "2         NaN     NaN  \n",
       "3  Disc Brake     NaN  \n",
       "4         NaN     NaN  "
      ]
     },
     "execution_count": 7,
     "metadata": {},
     "output_type": "execute_result"
    }
   ],
   "source": [
    "\n",
    "df.head()"
   ]
  },
  {
   "cell_type": "code",
   "execution_count": 8,
   "id": "1b83afa2-9726-402b-8fea-20c829ae7900",
   "metadata": {},
   "outputs": [
    {
     "name": "stdout",
     "output_type": "stream",
     "text": [
      "(113, 10)\n"
     ]
    }
   ],
   "source": [
    "\n",
    "print(df.shape)"
   ]
  },
  {
   "cell_type": "code",
   "execution_count": 12,
   "id": "49a72765-3a1d-4368-b6e8-1ec6b38aa1e3",
   "metadata": {},
   "outputs": [
    {
     "data": {
      "text/plain": [
       "Price           3\n",
       "Image URL       0\n",
       "Brand_Name      0\n",
       "Size           76\n",
       "Type           62\n",
       "Gender         59\n",
       "Speed          68\n",
       "Frame         101\n",
       "Brake_Type     87\n",
       "Age            67\n",
       "dtype: int64"
      ]
     },
     "execution_count": 12,
     "metadata": {},
     "output_type": "execute_result"
    }
   ],
   "source": [
    "df.isnull().sum()"
   ]
  },
  {
   "cell_type": "code",
   "execution_count": 291,
   "id": "47c23f91-3001-4a00-b8a5-213748ccca9c",
   "metadata": {},
   "outputs": [],
   "source": [
    "df.dropna(subset=['Price'], inplace=True)"
   ]
  },
  {
   "cell_type": "code",
   "execution_count": 292,
   "id": "e88c1d31-b888-41c8-8848-a3941b9a74ce",
   "metadata": {},
   "outputs": [
    {
     "data": {
      "text/html": [
       "<h4>Index: 0</h4>"
      ],
      "text/plain": [
       "<IPython.core.display.HTML object>"
      ]
     },
     "metadata": {},
     "output_type": "display_data"
    },
    {
     "data": {
      "text/html": [
       "<img src=\"https://m.media-amazon.com/images/I/71bM-9kKqQL._AC_UY218_.jpg\" width=\"100\"/>"
      ],
      "text/plain": [
       "<IPython.core.display.Image object>"
      ]
     },
     "metadata": {},
     "output_type": "display_data"
    },
    {
     "data": {
      "text/html": [
       "<p>URL: https://m.media-amazon.com/images/I/71bM-9kKqQL._AC_UY218_.jpg</p><hr>"
      ],
      "text/plain": [
       "<IPython.core.display.HTML object>"
      ]
     },
     "metadata": {},
     "output_type": "display_data"
    },
    {
     "data": {
      "text/html": [
       "<h4>Index: 1</h4>"
      ],
      "text/plain": [
       "<IPython.core.display.HTML object>"
      ]
     },
     "metadata": {},
     "output_type": "display_data"
    },
    {
     "data": {
      "text/html": [
       "<img src=\"https://m.media-amazon.com/images/I/71cJWirAwyL._AC_UY218_.jpg\" width=\"100\"/>"
      ],
      "text/plain": [
       "<IPython.core.display.Image object>"
      ]
     },
     "metadata": {},
     "output_type": "display_data"
    },
    {
     "data": {
      "text/html": [
       "<p>URL: https://m.media-amazon.com/images/I/71cJWirAwyL._AC_UY218_.jpg</p><hr>"
      ],
      "text/plain": [
       "<IPython.core.display.HTML object>"
      ]
     },
     "metadata": {},
     "output_type": "display_data"
    },
    {
     "data": {
      "text/html": [
       "<h4>Index: 2</h4>"
      ],
      "text/plain": [
       "<IPython.core.display.HTML object>"
      ]
     },
     "metadata": {},
     "output_type": "display_data"
    },
    {
     "data": {
      "text/html": [
       "<img src=\"https://m.media-amazon.com/images/I/61OwPoOpGVL._AC_UY218_.jpg\" width=\"100\"/>"
      ],
      "text/plain": [
       "<IPython.core.display.Image object>"
      ]
     },
     "metadata": {},
     "output_type": "display_data"
    },
    {
     "data": {
      "text/html": [
       "<p>URL: https://m.media-amazon.com/images/I/61OwPoOpGVL._AC_UY218_.jpg</p><hr>"
      ],
      "text/plain": [
       "<IPython.core.display.HTML object>"
      ]
     },
     "metadata": {},
     "output_type": "display_data"
    },
    {
     "data": {
      "text/html": [
       "<h4>Index: 3</h4>"
      ],
      "text/plain": [
       "<IPython.core.display.HTML object>"
      ]
     },
     "metadata": {},
     "output_type": "display_data"
    },
    {
     "data": {
      "text/html": [
       "<img src=\"https://m.media-amazon.com/images/I/81DPZ3XfrwL._AC_UY218_.jpg\" width=\"100\"/>"
      ],
      "text/plain": [
       "<IPython.core.display.Image object>"
      ]
     },
     "metadata": {},
     "output_type": "display_data"
    },
    {
     "data": {
      "text/html": [
       "<p>URL: https://m.media-amazon.com/images/I/81DPZ3XfrwL._AC_UY218_.jpg</p><hr>"
      ],
      "text/plain": [
       "<IPython.core.display.HTML object>"
      ]
     },
     "metadata": {},
     "output_type": "display_data"
    },
    {
     "data": {
      "text/html": [
       "<h4>Index: 4</h4>"
      ],
      "text/plain": [
       "<IPython.core.display.HTML object>"
      ]
     },
     "metadata": {},
     "output_type": "display_data"
    },
    {
     "data": {
      "text/html": [
       "<img src=\"https://m.media-amazon.com/images/I/61zFR6j3wzL._AC_UY218_.jpg\" width=\"100\"/>"
      ],
      "text/plain": [
       "<IPython.core.display.Image object>"
      ]
     },
     "metadata": {},
     "output_type": "display_data"
    },
    {
     "data": {
      "text/html": [
       "<p>URL: https://m.media-amazon.com/images/I/61zFR6j3wzL._AC_UY218_.jpg</p><hr>"
      ],
      "text/plain": [
       "<IPython.core.display.HTML object>"
      ]
     },
     "metadata": {},
     "output_type": "display_data"
    },
    {
     "data": {
      "text/html": [
       "<h4>Index: 5</h4>"
      ],
      "text/plain": [
       "<IPython.core.display.HTML object>"
      ]
     },
     "metadata": {},
     "output_type": "display_data"
    },
    {
     "data": {
      "text/html": [
       "<img src=\"https://m.media-amazon.com/images/I/81qN7R3j1zL._AC_UY218_.jpg\" width=\"100\"/>"
      ],
      "text/plain": [
       "<IPython.core.display.Image object>"
      ]
     },
     "metadata": {},
     "output_type": "display_data"
    },
    {
     "data": {
      "text/html": [
       "<p>URL: https://m.media-amazon.com/images/I/81qN7R3j1zL._AC_UY218_.jpg</p><hr>"
      ],
      "text/plain": [
       "<IPython.core.display.HTML object>"
      ]
     },
     "metadata": {},
     "output_type": "display_data"
    },
    {
     "data": {
      "text/html": [
       "<h4>Index: 6</h4>"
      ],
      "text/plain": [
       "<IPython.core.display.HTML object>"
      ]
     },
     "metadata": {},
     "output_type": "display_data"
    },
    {
     "data": {
      "text/html": [
       "<img src=\"https://m.media-amazon.com/images/I/71TceJJHliL._AC_UY218_.jpg\" width=\"100\"/>"
      ],
      "text/plain": [
       "<IPython.core.display.Image object>"
      ]
     },
     "metadata": {},
     "output_type": "display_data"
    },
    {
     "data": {
      "text/html": [
       "<p>URL: https://m.media-amazon.com/images/I/71TceJJHliL._AC_UY218_.jpg</p><hr>"
      ],
      "text/plain": [
       "<IPython.core.display.HTML object>"
      ]
     },
     "metadata": {},
     "output_type": "display_data"
    },
    {
     "data": {
      "text/html": [
       "<h4>Index: 7</h4>"
      ],
      "text/plain": [
       "<IPython.core.display.HTML object>"
      ]
     },
     "metadata": {},
     "output_type": "display_data"
    },
    {
     "data": {
      "text/html": [
       "<img src=\"https://m.media-amazon.com/images/I/71TyYmgX1kL._AC_UY218_.jpg\" width=\"100\"/>"
      ],
      "text/plain": [
       "<IPython.core.display.Image object>"
      ]
     },
     "metadata": {},
     "output_type": "display_data"
    },
    {
     "data": {
      "text/html": [
       "<p>URL: https://m.media-amazon.com/images/I/71TyYmgX1kL._AC_UY218_.jpg</p><hr>"
      ],
      "text/plain": [
       "<IPython.core.display.HTML object>"
      ]
     },
     "metadata": {},
     "output_type": "display_data"
    },
    {
     "data": {
      "text/html": [
       "<h4>Index: 8</h4>"
      ],
      "text/plain": [
       "<IPython.core.display.HTML object>"
      ]
     },
     "metadata": {},
     "output_type": "display_data"
    },
    {
     "data": {
      "text/html": [
       "<img src=\"https://m.media-amazon.com/images/I/811qvEFfbpL._AC_UY218_.jpg\" width=\"100\"/>"
      ],
      "text/plain": [
       "<IPython.core.display.Image object>"
      ]
     },
     "metadata": {},
     "output_type": "display_data"
    },
    {
     "data": {
      "text/html": [
       "<p>URL: https://m.media-amazon.com/images/I/811qvEFfbpL._AC_UY218_.jpg</p><hr>"
      ],
      "text/plain": [
       "<IPython.core.display.HTML object>"
      ]
     },
     "metadata": {},
     "output_type": "display_data"
    },
    {
     "data": {
      "text/html": [
       "<h4>Index: 9</h4>"
      ],
      "text/plain": [
       "<IPython.core.display.HTML object>"
      ]
     },
     "metadata": {},
     "output_type": "display_data"
    },
    {
     "data": {
      "text/html": [
       "<img src=\"https://m.media-amazon.com/images/I/71Ef8+KF5cL._AC_UY218_.jpg\" width=\"100\"/>"
      ],
      "text/plain": [
       "<IPython.core.display.Image object>"
      ]
     },
     "metadata": {},
     "output_type": "display_data"
    },
    {
     "data": {
      "text/html": [
       "<p>URL: https://m.media-amazon.com/images/I/71Ef8+KF5cL._AC_UY218_.jpg</p><hr>"
      ],
      "text/plain": [
       "<IPython.core.display.HTML object>"
      ]
     },
     "metadata": {},
     "output_type": "display_data"
    },
    {
     "data": {
      "text/html": [
       "<h4>Index: 10</h4>"
      ],
      "text/plain": [
       "<IPython.core.display.HTML object>"
      ]
     },
     "metadata": {},
     "output_type": "display_data"
    },
    {
     "data": {
      "text/html": [
       "<img src=\"https://m.media-amazon.com/images/I/81Ozd1TKRKL._AC_UY218_.jpg\" width=\"100\"/>"
      ],
      "text/plain": [
       "<IPython.core.display.Image object>"
      ]
     },
     "metadata": {},
     "output_type": "display_data"
    },
    {
     "data": {
      "text/html": [
       "<p>URL: https://m.media-amazon.com/images/I/81Ozd1TKRKL._AC_UY218_.jpg</p><hr>"
      ],
      "text/plain": [
       "<IPython.core.display.HTML object>"
      ]
     },
     "metadata": {},
     "output_type": "display_data"
    },
    {
     "data": {
      "text/html": [
       "<h4>Index: 11</h4>"
      ],
      "text/plain": [
       "<IPython.core.display.HTML object>"
      ]
     },
     "metadata": {},
     "output_type": "display_data"
    },
    {
     "data": {
      "text/html": [
       "<img src=\"https://m.media-amazon.com/images/I/71tMue0vTOL._AC_UY218_.jpg\" width=\"100\"/>"
      ],
      "text/plain": [
       "<IPython.core.display.Image object>"
      ]
     },
     "metadata": {},
     "output_type": "display_data"
    },
    {
     "data": {
      "text/html": [
       "<p>URL: https://m.media-amazon.com/images/I/71tMue0vTOL._AC_UY218_.jpg</p><hr>"
      ],
      "text/plain": [
       "<IPython.core.display.HTML object>"
      ]
     },
     "metadata": {},
     "output_type": "display_data"
    },
    {
     "data": {
      "text/html": [
       "<h4>Index: 12</h4>"
      ],
      "text/plain": [
       "<IPython.core.display.HTML object>"
      ]
     },
     "metadata": {},
     "output_type": "display_data"
    },
    {
     "data": {
      "text/html": [
       "<img src=\"https://m.media-amazon.com/images/I/71X2XY4vz2L._AC_UY218_.jpg\" width=\"100\"/>"
      ],
      "text/plain": [
       "<IPython.core.display.Image object>"
      ]
     },
     "metadata": {},
     "output_type": "display_data"
    },
    {
     "data": {
      "text/html": [
       "<p>URL: https://m.media-amazon.com/images/I/71X2XY4vz2L._AC_UY218_.jpg</p><hr>"
      ],
      "text/plain": [
       "<IPython.core.display.HTML object>"
      ]
     },
     "metadata": {},
     "output_type": "display_data"
    },
    {
     "data": {
      "text/html": [
       "<h4>Index: 13</h4>"
      ],
      "text/plain": [
       "<IPython.core.display.HTML object>"
      ]
     },
     "metadata": {},
     "output_type": "display_data"
    },
    {
     "data": {
      "text/html": [
       "<img src=\"https://m.media-amazon.com/images/I/71MhenIZ3aL._AC_UY218_.jpg\" width=\"100\"/>"
      ],
      "text/plain": [
       "<IPython.core.display.Image object>"
      ]
     },
     "metadata": {},
     "output_type": "display_data"
    },
    {
     "data": {
      "text/html": [
       "<p>URL: https://m.media-amazon.com/images/I/71MhenIZ3aL._AC_UY218_.jpg</p><hr>"
      ],
      "text/plain": [
       "<IPython.core.display.HTML object>"
      ]
     },
     "metadata": {},
     "output_type": "display_data"
    },
    {
     "data": {
      "text/html": [
       "<h4>Index: 14</h4>"
      ],
      "text/plain": [
       "<IPython.core.display.HTML object>"
      ]
     },
     "metadata": {},
     "output_type": "display_data"
    },
    {
     "data": {
      "text/html": [
       "<img src=\"https://m.media-amazon.com/images/I/71HE8wRYqOL._AC_UY218_.jpg\" width=\"100\"/>"
      ],
      "text/plain": [
       "<IPython.core.display.Image object>"
      ]
     },
     "metadata": {},
     "output_type": "display_data"
    },
    {
     "data": {
      "text/html": [
       "<p>URL: https://m.media-amazon.com/images/I/71HE8wRYqOL._AC_UY218_.jpg</p><hr>"
      ],
      "text/plain": [
       "<IPython.core.display.HTML object>"
      ]
     },
     "metadata": {},
     "output_type": "display_data"
    },
    {
     "data": {
      "text/html": [
       "<h4>Index: 15</h4>"
      ],
      "text/plain": [
       "<IPython.core.display.HTML object>"
      ]
     },
     "metadata": {},
     "output_type": "display_data"
    },
    {
     "data": {
      "text/html": [
       "<img src=\"https://m.media-amazon.com/images/I/71iCMC4Yb-L._AC_UY218_.jpg\" width=\"100\"/>"
      ],
      "text/plain": [
       "<IPython.core.display.Image object>"
      ]
     },
     "metadata": {},
     "output_type": "display_data"
    },
    {
     "data": {
      "text/html": [
       "<p>URL: https://m.media-amazon.com/images/I/71iCMC4Yb-L._AC_UY218_.jpg</p><hr>"
      ],
      "text/plain": [
       "<IPython.core.display.HTML object>"
      ]
     },
     "metadata": {},
     "output_type": "display_data"
    },
    {
     "data": {
      "text/html": [
       "<h4>Index: 16</h4>"
      ],
      "text/plain": [
       "<IPython.core.display.HTML object>"
      ]
     },
     "metadata": {},
     "output_type": "display_data"
    },
    {
     "data": {
      "text/html": [
       "<img src=\"https://m.media-amazon.com/images/I/71ChbjJlN6L._AC_UY218_.jpg\" width=\"100\"/>"
      ],
      "text/plain": [
       "<IPython.core.display.Image object>"
      ]
     },
     "metadata": {},
     "output_type": "display_data"
    },
    {
     "data": {
      "text/html": [
       "<p>URL: https://m.media-amazon.com/images/I/71ChbjJlN6L._AC_UY218_.jpg</p><hr>"
      ],
      "text/plain": [
       "<IPython.core.display.HTML object>"
      ]
     },
     "metadata": {},
     "output_type": "display_data"
    },
    {
     "data": {
      "text/html": [
       "<h4>Index: 17</h4>"
      ],
      "text/plain": [
       "<IPython.core.display.HTML object>"
      ]
     },
     "metadata": {},
     "output_type": "display_data"
    },
    {
     "data": {
      "text/html": [
       "<img src=\"https://m.media-amazon.com/images/I/71Pc8UHj0zL._AC_UY218_.jpg\" width=\"100\"/>"
      ],
      "text/plain": [
       "<IPython.core.display.Image object>"
      ]
     },
     "metadata": {},
     "output_type": "display_data"
    },
    {
     "data": {
      "text/html": [
       "<p>URL: https://m.media-amazon.com/images/I/71Pc8UHj0zL._AC_UY218_.jpg</p><hr>"
      ],
      "text/plain": [
       "<IPython.core.display.HTML object>"
      ]
     },
     "metadata": {},
     "output_type": "display_data"
    },
    {
     "data": {
      "text/html": [
       "<h4>Index: 18</h4>"
      ],
      "text/plain": [
       "<IPython.core.display.HTML object>"
      ]
     },
     "metadata": {},
     "output_type": "display_data"
    },
    {
     "data": {
      "text/html": [
       "<img src=\"https://m.media-amazon.com/images/I/71kWA4ndbkL._AC_UY218_.jpg\" width=\"100\"/>"
      ],
      "text/plain": [
       "<IPython.core.display.Image object>"
      ]
     },
     "metadata": {},
     "output_type": "display_data"
    },
    {
     "data": {
      "text/html": [
       "<p>URL: https://m.media-amazon.com/images/I/71kWA4ndbkL._AC_UY218_.jpg</p><hr>"
      ],
      "text/plain": [
       "<IPython.core.display.HTML object>"
      ]
     },
     "metadata": {},
     "output_type": "display_data"
    },
    {
     "data": {
      "text/html": [
       "<h4>Index: 19</h4>"
      ],
      "text/plain": [
       "<IPython.core.display.HTML object>"
      ]
     },
     "metadata": {},
     "output_type": "display_data"
    },
    {
     "data": {
      "text/html": [
       "<img src=\"https://m.media-amazon.com/images/I/71F44pGPsAL._AC_UY218_.jpg\" width=\"100\"/>"
      ],
      "text/plain": [
       "<IPython.core.display.Image object>"
      ]
     },
     "metadata": {},
     "output_type": "display_data"
    },
    {
     "data": {
      "text/html": [
       "<p>URL: https://m.media-amazon.com/images/I/71F44pGPsAL._AC_UY218_.jpg</p><hr>"
      ],
      "text/plain": [
       "<IPython.core.display.HTML object>"
      ]
     },
     "metadata": {},
     "output_type": "display_data"
    },
    {
     "data": {
      "text/html": [
       "<h4>Index: 20</h4>"
      ],
      "text/plain": [
       "<IPython.core.display.HTML object>"
      ]
     },
     "metadata": {},
     "output_type": "display_data"
    },
    {
     "data": {
      "text/html": [
       "<img src=\"https://m.media-amazon.com/images/I/81m4xtW13UL._AC_UY218_.jpg\" width=\"100\"/>"
      ],
      "text/plain": [
       "<IPython.core.display.Image object>"
      ]
     },
     "metadata": {},
     "output_type": "display_data"
    },
    {
     "data": {
      "text/html": [
       "<p>URL: https://m.media-amazon.com/images/I/81m4xtW13UL._AC_UY218_.jpg</p><hr>"
      ],
      "text/plain": [
       "<IPython.core.display.HTML object>"
      ]
     },
     "metadata": {},
     "output_type": "display_data"
    },
    {
     "data": {
      "text/html": [
       "<h4>Index: 21</h4>"
      ],
      "text/plain": [
       "<IPython.core.display.HTML object>"
      ]
     },
     "metadata": {},
     "output_type": "display_data"
    },
    {
     "data": {
      "text/html": [
       "<img src=\"https://m.media-amazon.com/images/I/71J--D13SfL._AC_UY218_.jpg\" width=\"100\"/>"
      ],
      "text/plain": [
       "<IPython.core.display.Image object>"
      ]
     },
     "metadata": {},
     "output_type": "display_data"
    },
    {
     "data": {
      "text/html": [
       "<p>URL: https://m.media-amazon.com/images/I/71J--D13SfL._AC_UY218_.jpg</p><hr>"
      ],
      "text/plain": [
       "<IPython.core.display.HTML object>"
      ]
     },
     "metadata": {},
     "output_type": "display_data"
    },
    {
     "data": {
      "text/html": [
       "<h4>Index: 22</h4>"
      ],
      "text/plain": [
       "<IPython.core.display.HTML object>"
      ]
     },
     "metadata": {},
     "output_type": "display_data"
    },
    {
     "data": {
      "text/html": [
       "<img src=\"https://m.media-amazon.com/images/I/61RrrWVuXkL._AC_UY218_.jpg\" width=\"100\"/>"
      ],
      "text/plain": [
       "<IPython.core.display.Image object>"
      ]
     },
     "metadata": {},
     "output_type": "display_data"
    },
    {
     "data": {
      "text/html": [
       "<p>URL: https://m.media-amazon.com/images/I/61RrrWVuXkL._AC_UY218_.jpg</p><hr>"
      ],
      "text/plain": [
       "<IPython.core.display.HTML object>"
      ]
     },
     "metadata": {},
     "output_type": "display_data"
    },
    {
     "data": {
      "text/html": [
       "<h4>Index: 23</h4>"
      ],
      "text/plain": [
       "<IPython.core.display.HTML object>"
      ]
     },
     "metadata": {},
     "output_type": "display_data"
    },
    {
     "data": {
      "text/html": [
       "<img src=\"https://m.media-amazon.com/images/I/61s6xlqSDyL._AC_UY218_.jpg\" width=\"100\"/>"
      ],
      "text/plain": [
       "<IPython.core.display.Image object>"
      ]
     },
     "metadata": {},
     "output_type": "display_data"
    },
    {
     "data": {
      "text/html": [
       "<p>URL: https://m.media-amazon.com/images/I/61s6xlqSDyL._AC_UY218_.jpg</p><hr>"
      ],
      "text/plain": [
       "<IPython.core.display.HTML object>"
      ]
     },
     "metadata": {},
     "output_type": "display_data"
    },
    {
     "data": {
      "text/html": [
       "<h4>Index: 24</h4>"
      ],
      "text/plain": [
       "<IPython.core.display.HTML object>"
      ]
     },
     "metadata": {},
     "output_type": "display_data"
    },
    {
     "data": {
      "text/html": [
       "<img src=\"https://m.media-amazon.com/images/I/81SQc5-psGL._AC_UY218_.jpg\" width=\"100\"/>"
      ],
      "text/plain": [
       "<IPython.core.display.Image object>"
      ]
     },
     "metadata": {},
     "output_type": "display_data"
    },
    {
     "data": {
      "text/html": [
       "<p>URL: https://m.media-amazon.com/images/I/81SQc5-psGL._AC_UY218_.jpg</p><hr>"
      ],
      "text/plain": [
       "<IPython.core.display.HTML object>"
      ]
     },
     "metadata": {},
     "output_type": "display_data"
    },
    {
     "data": {
      "text/html": [
       "<h4>Index: 25</h4>"
      ],
      "text/plain": [
       "<IPython.core.display.HTML object>"
      ]
     },
     "metadata": {},
     "output_type": "display_data"
    },
    {
     "data": {
      "text/html": [
       "<img src=\"https://m.media-amazon.com/images/I/71fvh8QDsDL._AC_UY218_.jpg\" width=\"100\"/>"
      ],
      "text/plain": [
       "<IPython.core.display.Image object>"
      ]
     },
     "metadata": {},
     "output_type": "display_data"
    },
    {
     "data": {
      "text/html": [
       "<p>URL: https://m.media-amazon.com/images/I/71fvh8QDsDL._AC_UY218_.jpg</p><hr>"
      ],
      "text/plain": [
       "<IPython.core.display.HTML object>"
      ]
     },
     "metadata": {},
     "output_type": "display_data"
    },
    {
     "data": {
      "text/html": [
       "<h4>Index: 26</h4>"
      ],
      "text/plain": [
       "<IPython.core.display.HTML object>"
      ]
     },
     "metadata": {},
     "output_type": "display_data"
    },
    {
     "data": {
      "text/html": [
       "<img src=\"https://m.media-amazon.com/images/I/71wE2I8PoRL._AC_UY218_.jpg\" width=\"100\"/>"
      ],
      "text/plain": [
       "<IPython.core.display.Image object>"
      ]
     },
     "metadata": {},
     "output_type": "display_data"
    },
    {
     "data": {
      "text/html": [
       "<p>URL: https://m.media-amazon.com/images/I/71wE2I8PoRL._AC_UY218_.jpg</p><hr>"
      ],
      "text/plain": [
       "<IPython.core.display.HTML object>"
      ]
     },
     "metadata": {},
     "output_type": "display_data"
    },
    {
     "data": {
      "text/html": [
       "<h4>Index: 27</h4>"
      ],
      "text/plain": [
       "<IPython.core.display.HTML object>"
      ]
     },
     "metadata": {},
     "output_type": "display_data"
    },
    {
     "data": {
      "text/html": [
       "<img src=\"https://m.media-amazon.com/images/I/71JuUcTZJnL._AC_UY218_.jpg\" width=\"100\"/>"
      ],
      "text/plain": [
       "<IPython.core.display.Image object>"
      ]
     },
     "metadata": {},
     "output_type": "display_data"
    },
    {
     "data": {
      "text/html": [
       "<p>URL: https://m.media-amazon.com/images/I/71JuUcTZJnL._AC_UY218_.jpg</p><hr>"
      ],
      "text/plain": [
       "<IPython.core.display.HTML object>"
      ]
     },
     "metadata": {},
     "output_type": "display_data"
    },
    {
     "data": {
      "text/html": [
       "<h4>Index: 28</h4>"
      ],
      "text/plain": [
       "<IPython.core.display.HTML object>"
      ]
     },
     "metadata": {},
     "output_type": "display_data"
    },
    {
     "data": {
      "text/html": [
       "<img src=\"https://m.media-amazon.com/images/I/71TceJJHliL._AC_UY218_.jpg\" width=\"100\"/>"
      ],
      "text/plain": [
       "<IPython.core.display.Image object>"
      ]
     },
     "metadata": {},
     "output_type": "display_data"
    },
    {
     "data": {
      "text/html": [
       "<p>URL: https://m.media-amazon.com/images/I/71TceJJHliL._AC_UY218_.jpg</p><hr>"
      ],
      "text/plain": [
       "<IPython.core.display.HTML object>"
      ]
     },
     "metadata": {},
     "output_type": "display_data"
    },
    {
     "data": {
      "text/html": [
       "<h4>Index: 29</h4>"
      ],
      "text/plain": [
       "<IPython.core.display.HTML object>"
      ]
     },
     "metadata": {},
     "output_type": "display_data"
    },
    {
     "data": {
      "text/html": [
       "<img src=\"https://m.media-amazon.com/images/I/71oFhgwXn0L._AC_UY218_.jpg\" width=\"100\"/>"
      ],
      "text/plain": [
       "<IPython.core.display.Image object>"
      ]
     },
     "metadata": {},
     "output_type": "display_data"
    },
    {
     "data": {
      "text/html": [
       "<p>URL: https://m.media-amazon.com/images/I/71oFhgwXn0L._AC_UY218_.jpg</p><hr>"
      ],
      "text/plain": [
       "<IPython.core.display.HTML object>"
      ]
     },
     "metadata": {},
     "output_type": "display_data"
    },
    {
     "data": {
      "text/html": [
       "<h4>Index: 30</h4>"
      ],
      "text/plain": [
       "<IPython.core.display.HTML object>"
      ]
     },
     "metadata": {},
     "output_type": "display_data"
    },
    {
     "data": {
      "text/html": [
       "<img src=\"https://m.media-amazon.com/images/I/61mmJorVyFL._AC_UY218_.jpg\" width=\"100\"/>"
      ],
      "text/plain": [
       "<IPython.core.display.Image object>"
      ]
     },
     "metadata": {},
     "output_type": "display_data"
    },
    {
     "data": {
      "text/html": [
       "<p>URL: https://m.media-amazon.com/images/I/61mmJorVyFL._AC_UY218_.jpg</p><hr>"
      ],
      "text/plain": [
       "<IPython.core.display.HTML object>"
      ]
     },
     "metadata": {},
     "output_type": "display_data"
    },
    {
     "data": {
      "text/html": [
       "<h4>Index: 31</h4>"
      ],
      "text/plain": [
       "<IPython.core.display.HTML object>"
      ]
     },
     "metadata": {},
     "output_type": "display_data"
    },
    {
     "data": {
      "text/html": [
       "<img src=\"https://m.media-amazon.com/images/I/71iNKb9P2RL._AC_UY218_.jpg\" width=\"100\"/>"
      ],
      "text/plain": [
       "<IPython.core.display.Image object>"
      ]
     },
     "metadata": {},
     "output_type": "display_data"
    },
    {
     "data": {
      "text/html": [
       "<p>URL: https://m.media-amazon.com/images/I/71iNKb9P2RL._AC_UY218_.jpg</p><hr>"
      ],
      "text/plain": [
       "<IPython.core.display.HTML object>"
      ]
     },
     "metadata": {},
     "output_type": "display_data"
    },
    {
     "data": {
      "text/html": [
       "<h4>Index: 32</h4>"
      ],
      "text/plain": [
       "<IPython.core.display.HTML object>"
      ]
     },
     "metadata": {},
     "output_type": "display_data"
    },
    {
     "data": {
      "text/html": [
       "<img src=\"https://m.media-amazon.com/images/I/71K9AiQx0GL._AC_UY218_.jpg\" width=\"100\"/>"
      ],
      "text/plain": [
       "<IPython.core.display.Image object>"
      ]
     },
     "metadata": {},
     "output_type": "display_data"
    },
    {
     "data": {
      "text/html": [
       "<p>URL: https://m.media-amazon.com/images/I/71K9AiQx0GL._AC_UY218_.jpg</p><hr>"
      ],
      "text/plain": [
       "<IPython.core.display.HTML object>"
      ]
     },
     "metadata": {},
     "output_type": "display_data"
    },
    {
     "data": {
      "text/html": [
       "<h4>Index: 33</h4>"
      ],
      "text/plain": [
       "<IPython.core.display.HTML object>"
      ]
     },
     "metadata": {},
     "output_type": "display_data"
    },
    {
     "data": {
      "text/html": [
       "<img src=\"https://m.media-amazon.com/images/I/7150Ah9tD9L._AC_UY218_.jpg\" width=\"100\"/>"
      ],
      "text/plain": [
       "<IPython.core.display.Image object>"
      ]
     },
     "metadata": {},
     "output_type": "display_data"
    },
    {
     "data": {
      "text/html": [
       "<p>URL: https://m.media-amazon.com/images/I/7150Ah9tD9L._AC_UY218_.jpg</p><hr>"
      ],
      "text/plain": [
       "<IPython.core.display.HTML object>"
      ]
     },
     "metadata": {},
     "output_type": "display_data"
    },
    {
     "data": {
      "text/html": [
       "<h4>Index: 34</h4>"
      ],
      "text/plain": [
       "<IPython.core.display.HTML object>"
      ]
     },
     "metadata": {},
     "output_type": "display_data"
    },
    {
     "data": {
      "text/html": [
       "<img src=\"https://m.media-amazon.com/images/I/71Pc8UHj0zL._AC_UY218_.jpg\" width=\"100\"/>"
      ],
      "text/plain": [
       "<IPython.core.display.Image object>"
      ]
     },
     "metadata": {},
     "output_type": "display_data"
    },
    {
     "data": {
      "text/html": [
       "<p>URL: https://m.media-amazon.com/images/I/71Pc8UHj0zL._AC_UY218_.jpg</p><hr>"
      ],
      "text/plain": [
       "<IPython.core.display.HTML object>"
      ]
     },
     "metadata": {},
     "output_type": "display_data"
    },
    {
     "data": {
      "text/html": [
       "<h4>Index: 35</h4>"
      ],
      "text/plain": [
       "<IPython.core.display.HTML object>"
      ]
     },
     "metadata": {},
     "output_type": "display_data"
    },
    {
     "data": {
      "text/html": [
       "<img src=\"https://m.media-amazon.com/images/I/61wr-Cuz4WL._AC_UY218_.jpg\" width=\"100\"/>"
      ],
      "text/plain": [
       "<IPython.core.display.Image object>"
      ]
     },
     "metadata": {},
     "output_type": "display_data"
    },
    {
     "data": {
      "text/html": [
       "<p>URL: https://m.media-amazon.com/images/I/61wr-Cuz4WL._AC_UY218_.jpg</p><hr>"
      ],
      "text/plain": [
       "<IPython.core.display.HTML object>"
      ]
     },
     "metadata": {},
     "output_type": "display_data"
    },
    {
     "data": {
      "text/html": [
       "<h4>Index: 36</h4>"
      ],
      "text/plain": [
       "<IPython.core.display.HTML object>"
      ]
     },
     "metadata": {},
     "output_type": "display_data"
    },
    {
     "data": {
      "text/html": [
       "<img src=\"https://m.media-amazon.com/images/I/71Y3TQnZ8gL._AC_UY218_.jpg\" width=\"100\"/>"
      ],
      "text/plain": [
       "<IPython.core.display.Image object>"
      ]
     },
     "metadata": {},
     "output_type": "display_data"
    },
    {
     "data": {
      "text/html": [
       "<p>URL: https://m.media-amazon.com/images/I/71Y3TQnZ8gL._AC_UY218_.jpg</p><hr>"
      ],
      "text/plain": [
       "<IPython.core.display.HTML object>"
      ]
     },
     "metadata": {},
     "output_type": "display_data"
    },
    {
     "data": {
      "text/html": [
       "<h4>Index: 37</h4>"
      ],
      "text/plain": [
       "<IPython.core.display.HTML object>"
      ]
     },
     "metadata": {},
     "output_type": "display_data"
    },
    {
     "data": {
      "text/html": [
       "<img src=\"https://m.media-amazon.com/images/I/7149-6Y6TwL._AC_UY218_.jpg\" width=\"100\"/>"
      ],
      "text/plain": [
       "<IPython.core.display.Image object>"
      ]
     },
     "metadata": {},
     "output_type": "display_data"
    },
    {
     "data": {
      "text/html": [
       "<p>URL: https://m.media-amazon.com/images/I/7149-6Y6TwL._AC_UY218_.jpg</p><hr>"
      ],
      "text/plain": [
       "<IPython.core.display.HTML object>"
      ]
     },
     "metadata": {},
     "output_type": "display_data"
    },
    {
     "data": {
      "text/html": [
       "<h4>Index: 38</h4>"
      ],
      "text/plain": [
       "<IPython.core.display.HTML object>"
      ]
     },
     "metadata": {},
     "output_type": "display_data"
    },
    {
     "data": {
      "text/html": [
       "<img src=\"https://m.media-amazon.com/images/I/71awSYpdOFL._AC_UY218_.jpg\" width=\"100\"/>"
      ],
      "text/plain": [
       "<IPython.core.display.Image object>"
      ]
     },
     "metadata": {},
     "output_type": "display_data"
    },
    {
     "data": {
      "text/html": [
       "<p>URL: https://m.media-amazon.com/images/I/71awSYpdOFL._AC_UY218_.jpg</p><hr>"
      ],
      "text/plain": [
       "<IPython.core.display.HTML object>"
      ]
     },
     "metadata": {},
     "output_type": "display_data"
    },
    {
     "data": {
      "text/html": [
       "<h4>Index: 39</h4>"
      ],
      "text/plain": [
       "<IPython.core.display.HTML object>"
      ]
     },
     "metadata": {},
     "output_type": "display_data"
    },
    {
     "data": {
      "text/html": [
       "<img src=\"https://m.media-amazon.com/images/I/71TyYmgX1kL._AC_UY218_.jpg\" width=\"100\"/>"
      ],
      "text/plain": [
       "<IPython.core.display.Image object>"
      ]
     },
     "metadata": {},
     "output_type": "display_data"
    },
    {
     "data": {
      "text/html": [
       "<p>URL: https://m.media-amazon.com/images/I/71TyYmgX1kL._AC_UY218_.jpg</p><hr>"
      ],
      "text/plain": [
       "<IPython.core.display.HTML object>"
      ]
     },
     "metadata": {},
     "output_type": "display_data"
    },
    {
     "data": {
      "text/html": [
       "<h4>Index: 40</h4>"
      ],
      "text/plain": [
       "<IPython.core.display.HTML object>"
      ]
     },
     "metadata": {},
     "output_type": "display_data"
    },
    {
     "data": {
      "text/html": [
       "<img src=\"https://m.media-amazon.com/images/I/714be7wMYBL._AC_UY218_.jpg\" width=\"100\"/>"
      ],
      "text/plain": [
       "<IPython.core.display.Image object>"
      ]
     },
     "metadata": {},
     "output_type": "display_data"
    },
    {
     "data": {
      "text/html": [
       "<p>URL: https://m.media-amazon.com/images/I/714be7wMYBL._AC_UY218_.jpg</p><hr>"
      ],
      "text/plain": [
       "<IPython.core.display.HTML object>"
      ]
     },
     "metadata": {},
     "output_type": "display_data"
    },
    {
     "data": {
      "text/html": [
       "<h4>Index: 41</h4>"
      ],
      "text/plain": [
       "<IPython.core.display.HTML object>"
      ]
     },
     "metadata": {},
     "output_type": "display_data"
    },
    {
     "data": {
      "text/html": [
       "<img src=\"https://m.media-amazon.com/images/I/71VWwMh0LzL._AC_UY218_.jpg\" width=\"100\"/>"
      ],
      "text/plain": [
       "<IPython.core.display.Image object>"
      ]
     },
     "metadata": {},
     "output_type": "display_data"
    },
    {
     "data": {
      "text/html": [
       "<p>URL: https://m.media-amazon.com/images/I/71VWwMh0LzL._AC_UY218_.jpg</p><hr>"
      ],
      "text/plain": [
       "<IPython.core.display.HTML object>"
      ]
     },
     "metadata": {},
     "output_type": "display_data"
    },
    {
     "data": {
      "text/html": [
       "<h4>Index: 44</h4>"
      ],
      "text/plain": [
       "<IPython.core.display.HTML object>"
      ]
     },
     "metadata": {},
     "output_type": "display_data"
    },
    {
     "data": {
      "text/html": [
       "<img src=\"https://m.media-amazon.com/images/I/61nXwOnFtNL._AC_UL640_QL65_.jpg\" width=\"100\"/>"
      ],
      "text/plain": [
       "<IPython.core.display.Image object>"
      ]
     },
     "metadata": {},
     "output_type": "display_data"
    },
    {
     "data": {
      "text/html": [
       "<p>URL: https://m.media-amazon.com/images/I/61nXwOnFtNL._AC_UL640_QL65_.jpg</p><hr>"
      ],
      "text/plain": [
       "<IPython.core.display.HTML object>"
      ]
     },
     "metadata": {},
     "output_type": "display_data"
    },
    {
     "data": {
      "text/html": [
       "<h4>Index: 45</h4>"
      ],
      "text/plain": [
       "<IPython.core.display.HTML object>"
      ]
     },
     "metadata": {},
     "output_type": "display_data"
    },
    {
     "data": {
      "text/html": [
       "<img src=\"https://m.media-amazon.com/images/I/61RrrWVuXkL._AC_UY218_.jpg\" width=\"100\"/>"
      ],
      "text/plain": [
       "<IPython.core.display.Image object>"
      ]
     },
     "metadata": {},
     "output_type": "display_data"
    },
    {
     "data": {
      "text/html": [
       "<p>URL: https://m.media-amazon.com/images/I/61RrrWVuXkL._AC_UY218_.jpg</p><hr>"
      ],
      "text/plain": [
       "<IPython.core.display.HTML object>"
      ]
     },
     "metadata": {},
     "output_type": "display_data"
    },
    {
     "data": {
      "text/html": [
       "<h4>Index: 46</h4>"
      ],
      "text/plain": [
       "<IPython.core.display.HTML object>"
      ]
     },
     "metadata": {},
     "output_type": "display_data"
    },
    {
     "data": {
      "text/html": [
       "<img src=\"https://m.media-amazon.com/images/I/61N7M0mTgaL._AC_UY218_.jpg\" width=\"100\"/>"
      ],
      "text/plain": [
       "<IPython.core.display.Image object>"
      ]
     },
     "metadata": {},
     "output_type": "display_data"
    },
    {
     "data": {
      "text/html": [
       "<p>URL: https://m.media-amazon.com/images/I/61N7M0mTgaL._AC_UY218_.jpg</p><hr>"
      ],
      "text/plain": [
       "<IPython.core.display.HTML object>"
      ]
     },
     "metadata": {},
     "output_type": "display_data"
    },
    {
     "data": {
      "text/html": [
       "<h4>Index: 47</h4>"
      ],
      "text/plain": [
       "<IPython.core.display.HTML object>"
      ]
     },
     "metadata": {},
     "output_type": "display_data"
    },
    {
     "data": {
      "text/html": [
       "<img src=\"https://m.media-amazon.com/images/I/71ChbjJlN6L._AC_UY218_.jpg\" width=\"100\"/>"
      ],
      "text/plain": [
       "<IPython.core.display.Image object>"
      ]
     },
     "metadata": {},
     "output_type": "display_data"
    },
    {
     "data": {
      "text/html": [
       "<p>URL: https://m.media-amazon.com/images/I/71ChbjJlN6L._AC_UY218_.jpg</p><hr>"
      ],
      "text/plain": [
       "<IPython.core.display.HTML object>"
      ]
     },
     "metadata": {},
     "output_type": "display_data"
    },
    {
     "data": {
      "text/html": [
       "<h4>Index: 49</h4>"
      ],
      "text/plain": [
       "<IPython.core.display.HTML object>"
      ]
     },
     "metadata": {},
     "output_type": "display_data"
    },
    {
     "data": {
      "text/html": [
       "<img src=\"https://m.media-amazon.com/images/I/81JvvsZHxyL._AC_UY218_.jpg\" width=\"100\"/>"
      ],
      "text/plain": [
       "<IPython.core.display.Image object>"
      ]
     },
     "metadata": {},
     "output_type": "display_data"
    },
    {
     "data": {
      "text/html": [
       "<p>URL: https://m.media-amazon.com/images/I/81JvvsZHxyL._AC_UY218_.jpg</p><hr>"
      ],
      "text/plain": [
       "<IPython.core.display.HTML object>"
      ]
     },
     "metadata": {},
     "output_type": "display_data"
    },
    {
     "data": {
      "text/html": [
       "<h4>Index: 50</h4>"
      ],
      "text/plain": [
       "<IPython.core.display.HTML object>"
      ]
     },
     "metadata": {},
     "output_type": "display_data"
    },
    {
     "data": {
      "text/html": [
       "<img src=\"https://m.media-amazon.com/images/I/71iBOb86CgL._AC_UY218_.jpg\" width=\"100\"/>"
      ],
      "text/plain": [
       "<IPython.core.display.Image object>"
      ]
     },
     "metadata": {},
     "output_type": "display_data"
    },
    {
     "data": {
      "text/html": [
       "<p>URL: https://m.media-amazon.com/images/I/71iBOb86CgL._AC_UY218_.jpg</p><hr>"
      ],
      "text/plain": [
       "<IPython.core.display.HTML object>"
      ]
     },
     "metadata": {},
     "output_type": "display_data"
    },
    {
     "data": {
      "text/html": [
       "<h4>Index: 51</h4>"
      ],
      "text/plain": [
       "<IPython.core.display.HTML object>"
      ]
     },
     "metadata": {},
     "output_type": "display_data"
    },
    {
     "data": {
      "text/html": [
       "<img src=\"https://m.media-amazon.com/images/I/71TceJJHliL._AC_UY218_.jpg\" width=\"100\"/>"
      ],
      "text/plain": [
       "<IPython.core.display.Image object>"
      ]
     },
     "metadata": {},
     "output_type": "display_data"
    },
    {
     "data": {
      "text/html": [
       "<p>URL: https://m.media-amazon.com/images/I/71TceJJHliL._AC_UY218_.jpg</p><hr>"
      ],
      "text/plain": [
       "<IPython.core.display.HTML object>"
      ]
     },
     "metadata": {},
     "output_type": "display_data"
    },
    {
     "data": {
      "text/html": [
       "<h4>Index: 52</h4>"
      ],
      "text/plain": [
       "<IPython.core.display.HTML object>"
      ]
     },
     "metadata": {},
     "output_type": "display_data"
    },
    {
     "data": {
      "text/html": [
       "<img src=\"https://m.media-amazon.com/images/I/71Pc8UHj0zL._AC_UY218_.jpg\" width=\"100\"/>"
      ],
      "text/plain": [
       "<IPython.core.display.Image object>"
      ]
     },
     "metadata": {},
     "output_type": "display_data"
    },
    {
     "data": {
      "text/html": [
       "<p>URL: https://m.media-amazon.com/images/I/71Pc8UHj0zL._AC_UY218_.jpg</p><hr>"
      ],
      "text/plain": [
       "<IPython.core.display.HTML object>"
      ]
     },
     "metadata": {},
     "output_type": "display_data"
    },
    {
     "data": {
      "text/html": [
       "<h4>Index: 53</h4>"
      ],
      "text/plain": [
       "<IPython.core.display.HTML object>"
      ]
     },
     "metadata": {},
     "output_type": "display_data"
    },
    {
     "data": {
      "text/html": [
       "<img src=\"https://m.media-amazon.com/images/I/71YkZJnepLL._AC_UY218_.jpg\" width=\"100\"/>"
      ],
      "text/plain": [
       "<IPython.core.display.Image object>"
      ]
     },
     "metadata": {},
     "output_type": "display_data"
    },
    {
     "data": {
      "text/html": [
       "<p>URL: https://m.media-amazon.com/images/I/71YkZJnepLL._AC_UY218_.jpg</p><hr>"
      ],
      "text/plain": [
       "<IPython.core.display.HTML object>"
      ]
     },
     "metadata": {},
     "output_type": "display_data"
    },
    {
     "data": {
      "text/html": [
       "<h4>Index: 54</h4>"
      ],
      "text/plain": [
       "<IPython.core.display.HTML object>"
      ]
     },
     "metadata": {},
     "output_type": "display_data"
    },
    {
     "data": {
      "text/html": [
       "<img src=\"https://m.media-amazon.com/images/I/81wBQgdRo4L._AC_UY218_.jpg\" width=\"100\"/>"
      ],
      "text/plain": [
       "<IPython.core.display.Image object>"
      ]
     },
     "metadata": {},
     "output_type": "display_data"
    },
    {
     "data": {
      "text/html": [
       "<p>URL: https://m.media-amazon.com/images/I/81wBQgdRo4L._AC_UY218_.jpg</p><hr>"
      ],
      "text/plain": [
       "<IPython.core.display.HTML object>"
      ]
     },
     "metadata": {},
     "output_type": "display_data"
    },
    {
     "data": {
      "text/html": [
       "<h4>Index: 55</h4>"
      ],
      "text/plain": [
       "<IPython.core.display.HTML object>"
      ]
     },
     "metadata": {},
     "output_type": "display_data"
    },
    {
     "data": {
      "text/html": [
       "<img src=\"https://m.media-amazon.com/images/I/71EZ2IEJVdL._AC_UY218_.jpg\" width=\"100\"/>"
      ],
      "text/plain": [
       "<IPython.core.display.Image object>"
      ]
     },
     "metadata": {},
     "output_type": "display_data"
    },
    {
     "data": {
      "text/html": [
       "<p>URL: https://m.media-amazon.com/images/I/71EZ2IEJVdL._AC_UY218_.jpg</p><hr>"
      ],
      "text/plain": [
       "<IPython.core.display.HTML object>"
      ]
     },
     "metadata": {},
     "output_type": "display_data"
    },
    {
     "data": {
      "text/html": [
       "<h4>Index: 56</h4>"
      ],
      "text/plain": [
       "<IPython.core.display.HTML object>"
      ]
     },
     "metadata": {},
     "output_type": "display_data"
    },
    {
     "data": {
      "text/html": [
       "<img src=\"https://m.media-amazon.com/images/I/71Oy71VXMkL._AC_UY218_.jpg\" width=\"100\"/>"
      ],
      "text/plain": [
       "<IPython.core.display.Image object>"
      ]
     },
     "metadata": {},
     "output_type": "display_data"
    },
    {
     "data": {
      "text/html": [
       "<p>URL: https://m.media-amazon.com/images/I/71Oy71VXMkL._AC_UY218_.jpg</p><hr>"
      ],
      "text/plain": [
       "<IPython.core.display.HTML object>"
      ]
     },
     "metadata": {},
     "output_type": "display_data"
    },
    {
     "data": {
      "text/html": [
       "<h4>Index: 57</h4>"
      ],
      "text/plain": [
       "<IPython.core.display.HTML object>"
      ]
     },
     "metadata": {},
     "output_type": "display_data"
    },
    {
     "data": {
      "text/html": [
       "<img src=\"https://m.media-amazon.com/images/I/71TyYmgX1kL._AC_UY218_.jpg\" width=\"100\"/>"
      ],
      "text/plain": [
       "<IPython.core.display.Image object>"
      ]
     },
     "metadata": {},
     "output_type": "display_data"
    },
    {
     "data": {
      "text/html": [
       "<p>URL: https://m.media-amazon.com/images/I/71TyYmgX1kL._AC_UY218_.jpg</p><hr>"
      ],
      "text/plain": [
       "<IPython.core.display.HTML object>"
      ]
     },
     "metadata": {},
     "output_type": "display_data"
    },
    {
     "data": {
      "text/html": [
       "<h4>Index: 58</h4>"
      ],
      "text/plain": [
       "<IPython.core.display.HTML object>"
      ]
     },
     "metadata": {},
     "output_type": "display_data"
    },
    {
     "data": {
      "text/html": [
       "<img src=\"https://m.media-amazon.com/images/I/71vRoYsDiWL._AC_UY218_.jpg\" width=\"100\"/>"
      ],
      "text/plain": [
       "<IPython.core.display.Image object>"
      ]
     },
     "metadata": {},
     "output_type": "display_data"
    },
    {
     "data": {
      "text/html": [
       "<p>URL: https://m.media-amazon.com/images/I/71vRoYsDiWL._AC_UY218_.jpg</p><hr>"
      ],
      "text/plain": [
       "<IPython.core.display.HTML object>"
      ]
     },
     "metadata": {},
     "output_type": "display_data"
    },
    {
     "data": {
      "text/html": [
       "<h4>Index: 59</h4>"
      ],
      "text/plain": [
       "<IPython.core.display.HTML object>"
      ]
     },
     "metadata": {},
     "output_type": "display_data"
    },
    {
     "data": {
      "text/html": [
       "<img src=\"https://m.media-amazon.com/images/I/81UQNT1hKeL._AC_UY218_.jpg\" width=\"100\"/>"
      ],
      "text/plain": [
       "<IPython.core.display.Image object>"
      ]
     },
     "metadata": {},
     "output_type": "display_data"
    },
    {
     "data": {
      "text/html": [
       "<p>URL: https://m.media-amazon.com/images/I/81UQNT1hKeL._AC_UY218_.jpg</p><hr>"
      ],
      "text/plain": [
       "<IPython.core.display.HTML object>"
      ]
     },
     "metadata": {},
     "output_type": "display_data"
    },
    {
     "data": {
      "text/html": [
       "<h4>Index: 60</h4>"
      ],
      "text/plain": [
       "<IPython.core.display.HTML object>"
      ]
     },
     "metadata": {},
     "output_type": "display_data"
    },
    {
     "data": {
      "text/html": [
       "<img src=\"https://m.media-amazon.com/images/I/71fB2FQV-fL._AC_UY218_.jpg\" width=\"100\"/>"
      ],
      "text/plain": [
       "<IPython.core.display.Image object>"
      ]
     },
     "metadata": {},
     "output_type": "display_data"
    },
    {
     "data": {
      "text/html": [
       "<p>URL: https://m.media-amazon.com/images/I/71fB2FQV-fL._AC_UY218_.jpg</p><hr>"
      ],
      "text/plain": [
       "<IPython.core.display.HTML object>"
      ]
     },
     "metadata": {},
     "output_type": "display_data"
    },
    {
     "data": {
      "text/html": [
       "<h4>Index: 61</h4>"
      ],
      "text/plain": [
       "<IPython.core.display.HTML object>"
      ]
     },
     "metadata": {},
     "output_type": "display_data"
    },
    {
     "data": {
      "text/html": [
       "<img src=\"https://m.media-amazon.com/images/I/71A2T8aAxDL._AC_UY218_.jpg\" width=\"100\"/>"
      ],
      "text/plain": [
       "<IPython.core.display.Image object>"
      ]
     },
     "metadata": {},
     "output_type": "display_data"
    },
    {
     "data": {
      "text/html": [
       "<p>URL: https://m.media-amazon.com/images/I/71A2T8aAxDL._AC_UY218_.jpg</p><hr>"
      ],
      "text/plain": [
       "<IPython.core.display.HTML object>"
      ]
     },
     "metadata": {},
     "output_type": "display_data"
    },
    {
     "data": {
      "text/html": [
       "<h4>Index: 62</h4>"
      ],
      "text/plain": [
       "<IPython.core.display.HTML object>"
      ]
     },
     "metadata": {},
     "output_type": "display_data"
    },
    {
     "data": {
      "text/html": [
       "<img src=\"https://m.media-amazon.com/images/I/71X2XY4vz2L._AC_UY218_.jpg\" width=\"100\"/>"
      ],
      "text/plain": [
       "<IPython.core.display.Image object>"
      ]
     },
     "metadata": {},
     "output_type": "display_data"
    },
    {
     "data": {
      "text/html": [
       "<p>URL: https://m.media-amazon.com/images/I/71X2XY4vz2L._AC_UY218_.jpg</p><hr>"
      ],
      "text/plain": [
       "<IPython.core.display.HTML object>"
      ]
     },
     "metadata": {},
     "output_type": "display_data"
    },
    {
     "data": {
      "text/html": [
       "<h4>Index: 63</h4>"
      ],
      "text/plain": [
       "<IPython.core.display.HTML object>"
      ]
     },
     "metadata": {},
     "output_type": "display_data"
    },
    {
     "data": {
      "text/html": [
       "<img src=\"https://m.media-amazon.com/images/I/712ErfQujVL._AC_UY218_.jpg\" width=\"100\"/>"
      ],
      "text/plain": [
       "<IPython.core.display.Image object>"
      ]
     },
     "metadata": {},
     "output_type": "display_data"
    },
    {
     "data": {
      "text/html": [
       "<p>URL: https://m.media-amazon.com/images/I/712ErfQujVL._AC_UY218_.jpg</p><hr>"
      ],
      "text/plain": [
       "<IPython.core.display.HTML object>"
      ]
     },
     "metadata": {},
     "output_type": "display_data"
    },
    {
     "data": {
      "text/html": [
       "<h4>Index: 64</h4>"
      ],
      "text/plain": [
       "<IPython.core.display.HTML object>"
      ]
     },
     "metadata": {},
     "output_type": "display_data"
    },
    {
     "data": {
      "text/html": [
       "<img src=\"https://m.media-amazon.com/images/I/71dcuKKpiwL._AC_UY218_.jpg\" width=\"100\"/>"
      ],
      "text/plain": [
       "<IPython.core.display.Image object>"
      ]
     },
     "metadata": {},
     "output_type": "display_data"
    },
    {
     "data": {
      "text/html": [
       "<p>URL: https://m.media-amazon.com/images/I/71dcuKKpiwL._AC_UY218_.jpg</p><hr>"
      ],
      "text/plain": [
       "<IPython.core.display.HTML object>"
      ]
     },
     "metadata": {},
     "output_type": "display_data"
    },
    {
     "data": {
      "text/html": [
       "<h4>Index: 65</h4>"
      ],
      "text/plain": [
       "<IPython.core.display.HTML object>"
      ]
     },
     "metadata": {},
     "output_type": "display_data"
    },
    {
     "data": {
      "text/html": [
       "<img src=\"https://m.media-amazon.com/images/I/61LI+6CWalL._AC_UY218_.jpg\" width=\"100\"/>"
      ],
      "text/plain": [
       "<IPython.core.display.Image object>"
      ]
     },
     "metadata": {},
     "output_type": "display_data"
    },
    {
     "data": {
      "text/html": [
       "<p>URL: https://m.media-amazon.com/images/I/61LI+6CWalL._AC_UY218_.jpg</p><hr>"
      ],
      "text/plain": [
       "<IPython.core.display.HTML object>"
      ]
     },
     "metadata": {},
     "output_type": "display_data"
    },
    {
     "data": {
      "text/html": [
       "<h4>Index: 66</h4>"
      ],
      "text/plain": [
       "<IPython.core.display.HTML object>"
      ]
     },
     "metadata": {},
     "output_type": "display_data"
    },
    {
     "data": {
      "text/html": [
       "<img src=\"https://m.media-amazon.com/images/I/812I9YozCTL._AC_UY218_.jpg\" width=\"100\"/>"
      ],
      "text/plain": [
       "<IPython.core.display.Image object>"
      ]
     },
     "metadata": {},
     "output_type": "display_data"
    },
    {
     "data": {
      "text/html": [
       "<p>URL: https://m.media-amazon.com/images/I/812I9YozCTL._AC_UY218_.jpg</p><hr>"
      ],
      "text/plain": [
       "<IPython.core.display.HTML object>"
      ]
     },
     "metadata": {},
     "output_type": "display_data"
    },
    {
     "data": {
      "text/html": [
       "<h4>Index: 67</h4>"
      ],
      "text/plain": [
       "<IPython.core.display.HTML object>"
      ]
     },
     "metadata": {},
     "output_type": "display_data"
    },
    {
     "data": {
      "text/html": [
       "<img src=\"https://m.media-amazon.com/images/I/61nXwOnFtNL._AC_UL640_QL65_.jpg\" width=\"100\"/>"
      ],
      "text/plain": [
       "<IPython.core.display.Image object>"
      ]
     },
     "metadata": {},
     "output_type": "display_data"
    },
    {
     "data": {
      "text/html": [
       "<p>URL: https://m.media-amazon.com/images/I/61nXwOnFtNL._AC_UL640_QL65_.jpg</p><hr>"
      ],
      "text/plain": [
       "<IPython.core.display.HTML object>"
      ]
     },
     "metadata": {},
     "output_type": "display_data"
    },
    {
     "data": {
      "text/html": [
       "<h4>Index: 68</h4>"
      ],
      "text/plain": [
       "<IPython.core.display.HTML object>"
      ]
     },
     "metadata": {},
     "output_type": "display_data"
    },
    {
     "data": {
      "text/html": [
       "<img src=\"https://m.media-amazon.com/images/I/61RrrWVuXkL._AC_UY218_.jpg\" width=\"100\"/>"
      ],
      "text/plain": [
       "<IPython.core.display.Image object>"
      ]
     },
     "metadata": {},
     "output_type": "display_data"
    },
    {
     "data": {
      "text/html": [
       "<p>URL: https://m.media-amazon.com/images/I/61RrrWVuXkL._AC_UY218_.jpg</p><hr>"
      ],
      "text/plain": [
       "<IPython.core.display.HTML object>"
      ]
     },
     "metadata": {},
     "output_type": "display_data"
    },
    {
     "data": {
      "text/html": [
       "<h4>Index: 69</h4>"
      ],
      "text/plain": [
       "<IPython.core.display.HTML object>"
      ]
     },
     "metadata": {},
     "output_type": "display_data"
    },
    {
     "data": {
      "text/html": [
       "<img src=\"https://m.media-amazon.com/images/I/61s6xlqSDyL._AC_UY218_.jpg\" width=\"100\"/>"
      ],
      "text/plain": [
       "<IPython.core.display.Image object>"
      ]
     },
     "metadata": {},
     "output_type": "display_data"
    },
    {
     "data": {
      "text/html": [
       "<p>URL: https://m.media-amazon.com/images/I/61s6xlqSDyL._AC_UY218_.jpg</p><hr>"
      ],
      "text/plain": [
       "<IPython.core.display.HTML object>"
      ]
     },
     "metadata": {},
     "output_type": "display_data"
    },
    {
     "data": {
      "text/html": [
       "<h4>Index: 70</h4>"
      ],
      "text/plain": [
       "<IPython.core.display.HTML object>"
      ]
     },
     "metadata": {},
     "output_type": "display_data"
    },
    {
     "data": {
      "text/html": [
       "<img src=\"https://m.media-amazon.com/images/I/61LI+6CWalL._AC_UY218_.jpg\" width=\"100\"/>"
      ],
      "text/plain": [
       "<IPython.core.display.Image object>"
      ]
     },
     "metadata": {},
     "output_type": "display_data"
    },
    {
     "data": {
      "text/html": [
       "<p>URL: https://m.media-amazon.com/images/I/61LI+6CWalL._AC_UY218_.jpg</p><hr>"
      ],
      "text/plain": [
       "<IPython.core.display.HTML object>"
      ]
     },
     "metadata": {},
     "output_type": "display_data"
    },
    {
     "data": {
      "text/html": [
       "<h4>Index: 71</h4>"
      ],
      "text/plain": [
       "<IPython.core.display.HTML object>"
      ]
     },
     "metadata": {},
     "output_type": "display_data"
    },
    {
     "data": {
      "text/html": [
       "<img src=\"https://m.media-amazon.com/images/I/714lAQKQ1VL._AC_UY218_.jpg\" width=\"100\"/>"
      ],
      "text/plain": [
       "<IPython.core.display.Image object>"
      ]
     },
     "metadata": {},
     "output_type": "display_data"
    },
    {
     "data": {
      "text/html": [
       "<p>URL: https://m.media-amazon.com/images/I/714lAQKQ1VL._AC_UY218_.jpg</p><hr>"
      ],
      "text/plain": [
       "<IPython.core.display.HTML object>"
      ]
     },
     "metadata": {},
     "output_type": "display_data"
    },
    {
     "data": {
      "text/html": [
       "<h4>Index: 72</h4>"
      ],
      "text/plain": [
       "<IPython.core.display.HTML object>"
      ]
     },
     "metadata": {},
     "output_type": "display_data"
    },
    {
     "data": {
      "text/html": [
       "<img src=\"https://m.media-amazon.com/images/I/71CRKSWs77L._AC_UY218_.jpg\" width=\"100\"/>"
      ],
      "text/plain": [
       "<IPython.core.display.Image object>"
      ]
     },
     "metadata": {},
     "output_type": "display_data"
    },
    {
     "data": {
      "text/html": [
       "<p>URL: https://m.media-amazon.com/images/I/71CRKSWs77L._AC_UY218_.jpg</p><hr>"
      ],
      "text/plain": [
       "<IPython.core.display.HTML object>"
      ]
     },
     "metadata": {},
     "output_type": "display_data"
    },
    {
     "data": {
      "text/html": [
       "<h4>Index: 73</h4>"
      ],
      "text/plain": [
       "<IPython.core.display.HTML object>"
      ]
     },
     "metadata": {},
     "output_type": "display_data"
    },
    {
     "data": {
      "text/html": [
       "<img src=\"https://m.media-amazon.com/images/I/41DuDcmqI8L._AC_UY218_.jpg\" width=\"100\"/>"
      ],
      "text/plain": [
       "<IPython.core.display.Image object>"
      ]
     },
     "metadata": {},
     "output_type": "display_data"
    },
    {
     "data": {
      "text/html": [
       "<p>URL: https://m.media-amazon.com/images/I/41DuDcmqI8L._AC_UY218_.jpg</p><hr>"
      ],
      "text/plain": [
       "<IPython.core.display.HTML object>"
      ]
     },
     "metadata": {},
     "output_type": "display_data"
    },
    {
     "data": {
      "text/html": [
       "<h4>Index: 74</h4>"
      ],
      "text/plain": [
       "<IPython.core.display.HTML object>"
      ]
     },
     "metadata": {},
     "output_type": "display_data"
    },
    {
     "data": {
      "text/html": [
       "<img src=\"https://m.media-amazon.com/images/I/71cJWirAwyL._AC_UY218_.jpg\" width=\"100\"/>"
      ],
      "text/plain": [
       "<IPython.core.display.Image object>"
      ]
     },
     "metadata": {},
     "output_type": "display_data"
    },
    {
     "data": {
      "text/html": [
       "<p>URL: https://m.media-amazon.com/images/I/71cJWirAwyL._AC_UY218_.jpg</p><hr>"
      ],
      "text/plain": [
       "<IPython.core.display.HTML object>"
      ]
     },
     "metadata": {},
     "output_type": "display_data"
    },
    {
     "data": {
      "text/html": [
       "<h4>Index: 75</h4>"
      ],
      "text/plain": [
       "<IPython.core.display.HTML object>"
      ]
     },
     "metadata": {},
     "output_type": "display_data"
    },
    {
     "data": {
      "text/html": [
       "<img src=\"https://m.media-amazon.com/images/I/71TceJJHliL._AC_UY218_.jpg\" width=\"100\"/>"
      ],
      "text/plain": [
       "<IPython.core.display.Image object>"
      ]
     },
     "metadata": {},
     "output_type": "display_data"
    },
    {
     "data": {
      "text/html": [
       "<p>URL: https://m.media-amazon.com/images/I/71TceJJHliL._AC_UY218_.jpg</p><hr>"
      ],
      "text/plain": [
       "<IPython.core.display.HTML object>"
      ]
     },
     "metadata": {},
     "output_type": "display_data"
    },
    {
     "data": {
      "text/html": [
       "<h4>Index: 76</h4>"
      ],
      "text/plain": [
       "<IPython.core.display.HTML object>"
      ]
     },
     "metadata": {},
     "output_type": "display_data"
    },
    {
     "data": {
      "text/html": [
       "<img src=\"https://m.media-amazon.com/images/I/717janb63rL._AC_UY218_.jpg\" width=\"100\"/>"
      ],
      "text/plain": [
       "<IPython.core.display.Image object>"
      ]
     },
     "metadata": {},
     "output_type": "display_data"
    },
    {
     "data": {
      "text/html": [
       "<p>URL: https://m.media-amazon.com/images/I/717janb63rL._AC_UY218_.jpg</p><hr>"
      ],
      "text/plain": [
       "<IPython.core.display.HTML object>"
      ]
     },
     "metadata": {},
     "output_type": "display_data"
    },
    {
     "data": {
      "text/html": [
       "<h4>Index: 77</h4>"
      ],
      "text/plain": [
       "<IPython.core.display.HTML object>"
      ]
     },
     "metadata": {},
     "output_type": "display_data"
    },
    {
     "data": {
      "text/html": [
       "<img src=\"https://m.media-amazon.com/images/I/71TyYmgX1kL._AC_UY218_.jpg\" width=\"100\"/>"
      ],
      "text/plain": [
       "<IPython.core.display.Image object>"
      ]
     },
     "metadata": {},
     "output_type": "display_data"
    },
    {
     "data": {
      "text/html": [
       "<p>URL: https://m.media-amazon.com/images/I/71TyYmgX1kL._AC_UY218_.jpg</p><hr>"
      ],
      "text/plain": [
       "<IPython.core.display.HTML object>"
      ]
     },
     "metadata": {},
     "output_type": "display_data"
    },
    {
     "data": {
      "text/html": [
       "<h4>Index: 78</h4>"
      ],
      "text/plain": [
       "<IPython.core.display.HTML object>"
      ]
     },
     "metadata": {},
     "output_type": "display_data"
    },
    {
     "data": {
      "text/html": [
       "<img src=\"https://m.media-amazon.com/images/I/71q6K1lcOjL._AC_UY218_.jpg\" width=\"100\"/>"
      ],
      "text/plain": [
       "<IPython.core.display.Image object>"
      ]
     },
     "metadata": {},
     "output_type": "display_data"
    },
    {
     "data": {
      "text/html": [
       "<p>URL: https://m.media-amazon.com/images/I/71q6K1lcOjL._AC_UY218_.jpg</p><hr>"
      ],
      "text/plain": [
       "<IPython.core.display.HTML object>"
      ]
     },
     "metadata": {},
     "output_type": "display_data"
    },
    {
     "data": {
      "text/html": [
       "<h4>Index: 79</h4>"
      ],
      "text/plain": [
       "<IPython.core.display.HTML object>"
      ]
     },
     "metadata": {},
     "output_type": "display_data"
    },
    {
     "data": {
      "text/html": [
       "<img src=\"https://m.media-amazon.com/images/I/71g+fCwHJlL._AC_UY218_.jpg\" width=\"100\"/>"
      ],
      "text/plain": [
       "<IPython.core.display.Image object>"
      ]
     },
     "metadata": {},
     "output_type": "display_data"
    },
    {
     "data": {
      "text/html": [
       "<p>URL: https://m.media-amazon.com/images/I/71g+fCwHJlL._AC_UY218_.jpg</p><hr>"
      ],
      "text/plain": [
       "<IPython.core.display.HTML object>"
      ]
     },
     "metadata": {},
     "output_type": "display_data"
    },
    {
     "data": {
      "text/html": [
       "<h4>Index: 80</h4>"
      ],
      "text/plain": [
       "<IPython.core.display.HTML object>"
      ]
     },
     "metadata": {},
     "output_type": "display_data"
    },
    {
     "data": {
      "text/html": [
       "<img src=\"https://m.media-amazon.com/images/I/71oFhgwXn0L._AC_UY218_.jpg\" width=\"100\"/>"
      ],
      "text/plain": [
       "<IPython.core.display.Image object>"
      ]
     },
     "metadata": {},
     "output_type": "display_data"
    },
    {
     "data": {
      "text/html": [
       "<p>URL: https://m.media-amazon.com/images/I/71oFhgwXn0L._AC_UY218_.jpg</p><hr>"
      ],
      "text/plain": [
       "<IPython.core.display.HTML object>"
      ]
     },
     "metadata": {},
     "output_type": "display_data"
    },
    {
     "data": {
      "text/html": [
       "<h4>Index: 81</h4>"
      ],
      "text/plain": [
       "<IPython.core.display.HTML object>"
      ]
     },
     "metadata": {},
     "output_type": "display_data"
    },
    {
     "data": {
      "text/html": [
       "<img src=\"https://m.media-amazon.com/images/I/81r-xQ3NsCL._AC_UY218_.jpg\" width=\"100\"/>"
      ],
      "text/plain": [
       "<IPython.core.display.Image object>"
      ]
     },
     "metadata": {},
     "output_type": "display_data"
    },
    {
     "data": {
      "text/html": [
       "<p>URL: https://m.media-amazon.com/images/I/81r-xQ3NsCL._AC_UY218_.jpg</p><hr>"
      ],
      "text/plain": [
       "<IPython.core.display.HTML object>"
      ]
     },
     "metadata": {},
     "output_type": "display_data"
    },
    {
     "data": {
      "text/html": [
       "<h4>Index: 82</h4>"
      ],
      "text/plain": [
       "<IPython.core.display.HTML object>"
      ]
     },
     "metadata": {},
     "output_type": "display_data"
    },
    {
     "data": {
      "text/html": [
       "<img src=\"https://m.media-amazon.com/images/I/71AD1vV3FdL._AC_UY218_.jpg\" width=\"100\"/>"
      ],
      "text/plain": [
       "<IPython.core.display.Image object>"
      ]
     },
     "metadata": {},
     "output_type": "display_data"
    },
    {
     "data": {
      "text/html": [
       "<p>URL: https://m.media-amazon.com/images/I/71AD1vV3FdL._AC_UY218_.jpg</p><hr>"
      ],
      "text/plain": [
       "<IPython.core.display.HTML object>"
      ]
     },
     "metadata": {},
     "output_type": "display_data"
    },
    {
     "data": {
      "text/html": [
       "<h4>Index: 83</h4>"
      ],
      "text/plain": [
       "<IPython.core.display.HTML object>"
      ]
     },
     "metadata": {},
     "output_type": "display_data"
    },
    {
     "data": {
      "text/html": [
       "<img src=\"https://m.media-amazon.com/images/I/71jkgUkBAcL._AC_UY218_.jpg\" width=\"100\"/>"
      ],
      "text/plain": [
       "<IPython.core.display.Image object>"
      ]
     },
     "metadata": {},
     "output_type": "display_data"
    },
    {
     "data": {
      "text/html": [
       "<p>URL: https://m.media-amazon.com/images/I/71jkgUkBAcL._AC_UY218_.jpg</p><hr>"
      ],
      "text/plain": [
       "<IPython.core.display.HTML object>"
      ]
     },
     "metadata": {},
     "output_type": "display_data"
    },
    {
     "data": {
      "text/html": [
       "<h4>Index: 84</h4>"
      ],
      "text/plain": [
       "<IPython.core.display.HTML object>"
      ]
     },
     "metadata": {},
     "output_type": "display_data"
    },
    {
     "data": {
      "text/html": [
       "<img src=\"https://m.media-amazon.com/images/I/71hazNwigjL._AC_UY218_.jpg\" width=\"100\"/>"
      ],
      "text/plain": [
       "<IPython.core.display.Image object>"
      ]
     },
     "metadata": {},
     "output_type": "display_data"
    },
    {
     "data": {
      "text/html": [
       "<p>URL: https://m.media-amazon.com/images/I/71hazNwigjL._AC_UY218_.jpg</p><hr>"
      ],
      "text/plain": [
       "<IPython.core.display.HTML object>"
      ]
     },
     "metadata": {},
     "output_type": "display_data"
    },
    {
     "data": {
      "text/html": [
       "<h4>Index: 85</h4>"
      ],
      "text/plain": [
       "<IPython.core.display.HTML object>"
      ]
     },
     "metadata": {},
     "output_type": "display_data"
    },
    {
     "data": {
      "text/html": [
       "<img src=\"https://m.media-amazon.com/images/I/717B9XEvxqL._AC_UY218_.jpg\" width=\"100\"/>"
      ],
      "text/plain": [
       "<IPython.core.display.Image object>"
      ]
     },
     "metadata": {},
     "output_type": "display_data"
    },
    {
     "data": {
      "text/html": [
       "<p>URL: https://m.media-amazon.com/images/I/717B9XEvxqL._AC_UY218_.jpg</p><hr>"
      ],
      "text/plain": [
       "<IPython.core.display.HTML object>"
      ]
     },
     "metadata": {},
     "output_type": "display_data"
    },
    {
     "data": {
      "text/html": [
       "<h4>Index: 86</h4>"
      ],
      "text/plain": [
       "<IPython.core.display.HTML object>"
      ]
     },
     "metadata": {},
     "output_type": "display_data"
    },
    {
     "data": {
      "text/html": [
       "<img src=\"https://m.media-amazon.com/images/I/71z6zr-+FUL._AC_UY218_.jpg\" width=\"100\"/>"
      ],
      "text/plain": [
       "<IPython.core.display.Image object>"
      ]
     },
     "metadata": {},
     "output_type": "display_data"
    },
    {
     "data": {
      "text/html": [
       "<p>URL: https://m.media-amazon.com/images/I/71z6zr-+FUL._AC_UY218_.jpg</p><hr>"
      ],
      "text/plain": [
       "<IPython.core.display.HTML object>"
      ]
     },
     "metadata": {},
     "output_type": "display_data"
    },
    {
     "data": {
      "text/html": [
       "<h4>Index: 87</h4>"
      ],
      "text/plain": [
       "<IPython.core.display.HTML object>"
      ]
     },
     "metadata": {},
     "output_type": "display_data"
    },
    {
     "data": {
      "text/html": [
       "<img src=\"https://m.media-amazon.com/images/I/71n-NNPzrBL._AC_UY218_.jpg\" width=\"100\"/>"
      ],
      "text/plain": [
       "<IPython.core.display.Image object>"
      ]
     },
     "metadata": {},
     "output_type": "display_data"
    },
    {
     "data": {
      "text/html": [
       "<p>URL: https://m.media-amazon.com/images/I/71n-NNPzrBL._AC_UY218_.jpg</p><hr>"
      ],
      "text/plain": [
       "<IPython.core.display.HTML object>"
      ]
     },
     "metadata": {},
     "output_type": "display_data"
    },
    {
     "data": {
      "text/html": [
       "<h4>Index: 88</h4>"
      ],
      "text/plain": [
       "<IPython.core.display.HTML object>"
      ]
     },
     "metadata": {},
     "output_type": "display_data"
    },
    {
     "data": {
      "text/html": [
       "<img src=\"https://m.media-amazon.com/images/I/616NNhMVSKL._AC_UY218_.jpg\" width=\"100\"/>"
      ],
      "text/plain": [
       "<IPython.core.display.Image object>"
      ]
     },
     "metadata": {},
     "output_type": "display_data"
    },
    {
     "data": {
      "text/html": [
       "<p>URL: https://m.media-amazon.com/images/I/616NNhMVSKL._AC_UY218_.jpg</p><hr>"
      ],
      "text/plain": [
       "<IPython.core.display.HTML object>"
      ]
     },
     "metadata": {},
     "output_type": "display_data"
    },
    {
     "data": {
      "text/html": [
       "<h4>Index: 89</h4>"
      ],
      "text/plain": [
       "<IPython.core.display.HTML object>"
      ]
     },
     "metadata": {},
     "output_type": "display_data"
    },
    {
     "data": {
      "text/html": [
       "<img src=\"https://m.media-amazon.com/images/I/81+LLR8SwPL._AC_UY218_.jpg\" width=\"100\"/>"
      ],
      "text/plain": [
       "<IPython.core.display.Image object>"
      ]
     },
     "metadata": {},
     "output_type": "display_data"
    },
    {
     "data": {
      "text/html": [
       "<p>URL: https://m.media-amazon.com/images/I/81+LLR8SwPL._AC_UY218_.jpg</p><hr>"
      ],
      "text/plain": [
       "<IPython.core.display.HTML object>"
      ]
     },
     "metadata": {},
     "output_type": "display_data"
    },
    {
     "data": {
      "text/html": [
       "<h4>Index: 90</h4>"
      ],
      "text/plain": [
       "<IPython.core.display.HTML object>"
      ]
     },
     "metadata": {},
     "output_type": "display_data"
    },
    {
     "data": {
      "text/html": [
       "<img src=\"https://m.media-amazon.com/images/I/61RrrWVuXkL._AC_UY218_.jpg\" width=\"100\"/>"
      ],
      "text/plain": [
       "<IPython.core.display.Image object>"
      ]
     },
     "metadata": {},
     "output_type": "display_data"
    },
    {
     "data": {
      "text/html": [
       "<p>URL: https://m.media-amazon.com/images/I/61RrrWVuXkL._AC_UY218_.jpg</p><hr>"
      ],
      "text/plain": [
       "<IPython.core.display.HTML object>"
      ]
     },
     "metadata": {},
     "output_type": "display_data"
    },
    {
     "data": {
      "text/html": [
       "<h4>Index: 91</h4>"
      ],
      "text/plain": [
       "<IPython.core.display.HTML object>"
      ]
     },
     "metadata": {},
     "output_type": "display_data"
    },
    {
     "data": {
      "text/html": [
       "<img src=\"https://m.media-amazon.com/images/I/61s6xlqSDyL._AC_UY218_.jpg\" width=\"100\"/>"
      ],
      "text/plain": [
       "<IPython.core.display.Image object>"
      ]
     },
     "metadata": {},
     "output_type": "display_data"
    },
    {
     "data": {
      "text/html": [
       "<p>URL: https://m.media-amazon.com/images/I/61s6xlqSDyL._AC_UY218_.jpg</p><hr>"
      ],
      "text/plain": [
       "<IPython.core.display.HTML object>"
      ]
     },
     "metadata": {},
     "output_type": "display_data"
    },
    {
     "data": {
      "text/html": [
       "<h4>Index: 92</h4>"
      ],
      "text/plain": [
       "<IPython.core.display.HTML object>"
      ]
     },
     "metadata": {},
     "output_type": "display_data"
    },
    {
     "data": {
      "text/html": [
       "<img src=\"https://m.media-amazon.com/images/I/71M0JPCC9uS._AC_UY218_.jpg\" width=\"100\"/>"
      ],
      "text/plain": [
       "<IPython.core.display.Image object>"
      ]
     },
     "metadata": {},
     "output_type": "display_data"
    },
    {
     "data": {
      "text/html": [
       "<p>URL: https://m.media-amazon.com/images/I/71M0JPCC9uS._AC_UY218_.jpg</p><hr>"
      ],
      "text/plain": [
       "<IPython.core.display.HTML object>"
      ]
     },
     "metadata": {},
     "output_type": "display_data"
    },
    {
     "data": {
      "text/html": [
       "<h4>Index: 93</h4>"
      ],
      "text/plain": [
       "<IPython.core.display.HTML object>"
      ]
     },
     "metadata": {},
     "output_type": "display_data"
    },
    {
     "data": {
      "text/html": [
       "<img src=\"https://m.media-amazon.com/images/I/71n-NNPzrBL._AC_UY218_.jpg\" width=\"100\"/>"
      ],
      "text/plain": [
       "<IPython.core.display.Image object>"
      ]
     },
     "metadata": {},
     "output_type": "display_data"
    },
    {
     "data": {
      "text/html": [
       "<p>URL: https://m.media-amazon.com/images/I/71n-NNPzrBL._AC_UY218_.jpg</p><hr>"
      ],
      "text/plain": [
       "<IPython.core.display.HTML object>"
      ]
     },
     "metadata": {},
     "output_type": "display_data"
    },
    {
     "data": {
      "text/html": [
       "<h4>Index: 94</h4>"
      ],
      "text/plain": [
       "<IPython.core.display.HTML object>"
      ]
     },
     "metadata": {},
     "output_type": "display_data"
    },
    {
     "data": {
      "text/html": [
       "<img src=\"https://m.media-amazon.com/images/I/71HFP+-5n6L._AC_UY218_.jpg\" width=\"100\"/>"
      ],
      "text/plain": [
       "<IPython.core.display.Image object>"
      ]
     },
     "metadata": {},
     "output_type": "display_data"
    },
    {
     "data": {
      "text/html": [
       "<p>URL: https://m.media-amazon.com/images/I/71HFP+-5n6L._AC_UY218_.jpg</p><hr>"
      ],
      "text/plain": [
       "<IPython.core.display.HTML object>"
      ]
     },
     "metadata": {},
     "output_type": "display_data"
    },
    {
     "data": {
      "text/html": [
       "<h4>Index: 95</h4>"
      ],
      "text/plain": [
       "<IPython.core.display.HTML object>"
      ]
     },
     "metadata": {},
     "output_type": "display_data"
    },
    {
     "data": {
      "text/html": [
       "<img src=\"https://m.media-amazon.com/images/I/71nXBhpZlfL._AC_UY218_.jpg\" width=\"100\"/>"
      ],
      "text/plain": [
       "<IPython.core.display.Image object>"
      ]
     },
     "metadata": {},
     "output_type": "display_data"
    },
    {
     "data": {
      "text/html": [
       "<p>URL: https://m.media-amazon.com/images/I/71nXBhpZlfL._AC_UY218_.jpg</p><hr>"
      ],
      "text/plain": [
       "<IPython.core.display.HTML object>"
      ]
     },
     "metadata": {},
     "output_type": "display_data"
    },
    {
     "data": {
      "text/html": [
       "<h4>Index: 96</h4>"
      ],
      "text/plain": [
       "<IPython.core.display.HTML object>"
      ]
     },
     "metadata": {},
     "output_type": "display_data"
    },
    {
     "data": {
      "text/html": [
       "<img src=\"https://m.media-amazon.com/images/I/71cJWirAwyL._AC_UY218_.jpg\" width=\"100\"/>"
      ],
      "text/plain": [
       "<IPython.core.display.Image object>"
      ]
     },
     "metadata": {},
     "output_type": "display_data"
    },
    {
     "data": {
      "text/html": [
       "<p>URL: https://m.media-amazon.com/images/I/71cJWirAwyL._AC_UY218_.jpg</p><hr>"
      ],
      "text/plain": [
       "<IPython.core.display.HTML object>"
      ]
     },
     "metadata": {},
     "output_type": "display_data"
    },
    {
     "data": {
      "text/html": [
       "<h4>Index: 97</h4>"
      ],
      "text/plain": [
       "<IPython.core.display.HTML object>"
      ]
     },
     "metadata": {},
     "output_type": "display_data"
    },
    {
     "data": {
      "text/html": [
       "<img src=\"https://m.media-amazon.com/images/I/71TceJJHliL._AC_UY218_.jpg\" width=\"100\"/>"
      ],
      "text/plain": [
       "<IPython.core.display.Image object>"
      ]
     },
     "metadata": {},
     "output_type": "display_data"
    },
    {
     "data": {
      "text/html": [
       "<p>URL: https://m.media-amazon.com/images/I/71TceJJHliL._AC_UY218_.jpg</p><hr>"
      ],
      "text/plain": [
       "<IPython.core.display.HTML object>"
      ]
     },
     "metadata": {},
     "output_type": "display_data"
    },
    {
     "data": {
      "text/html": [
       "<h4>Index: 98</h4>"
      ],
      "text/plain": [
       "<IPython.core.display.HTML object>"
      ]
     },
     "metadata": {},
     "output_type": "display_data"
    },
    {
     "data": {
      "text/html": [
       "<img src=\"https://m.media-amazon.com/images/I/71MRBbRlViL._AC_UY218_.jpg\" width=\"100\"/>"
      ],
      "text/plain": [
       "<IPython.core.display.Image object>"
      ]
     },
     "metadata": {},
     "output_type": "display_data"
    },
    {
     "data": {
      "text/html": [
       "<p>URL: https://m.media-amazon.com/images/I/71MRBbRlViL._AC_UY218_.jpg</p><hr>"
      ],
      "text/plain": [
       "<IPython.core.display.HTML object>"
      ]
     },
     "metadata": {},
     "output_type": "display_data"
    },
    {
     "data": {
      "text/html": [
       "<h4>Index: 99</h4>"
      ],
      "text/plain": [
       "<IPython.core.display.HTML object>"
      ]
     },
     "metadata": {},
     "output_type": "display_data"
    },
    {
     "data": {
      "text/html": [
       "<img src=\"https://m.media-amazon.com/images/I/61HhYPRJPsL._AC_UY218_.jpg\" width=\"100\"/>"
      ],
      "text/plain": [
       "<IPython.core.display.Image object>"
      ]
     },
     "metadata": {},
     "output_type": "display_data"
    },
    {
     "data": {
      "text/html": [
       "<p>URL: https://m.media-amazon.com/images/I/61HhYPRJPsL._AC_UY218_.jpg</p><hr>"
      ],
      "text/plain": [
       "<IPython.core.display.HTML object>"
      ]
     },
     "metadata": {},
     "output_type": "display_data"
    },
    {
     "data": {
      "text/html": [
       "<h4>Index: 100</h4>"
      ],
      "text/plain": [
       "<IPython.core.display.HTML object>"
      ]
     },
     "metadata": {},
     "output_type": "display_data"
    },
    {
     "data": {
      "text/html": [
       "<img src=\"https://m.media-amazon.com/images/I/717FWlo8TgL._AC_UY218_.jpg\" width=\"100\"/>"
      ],
      "text/plain": [
       "<IPython.core.display.Image object>"
      ]
     },
     "metadata": {},
     "output_type": "display_data"
    },
    {
     "data": {
      "text/html": [
       "<p>URL: https://m.media-amazon.com/images/I/717FWlo8TgL._AC_UY218_.jpg</p><hr>"
      ],
      "text/plain": [
       "<IPython.core.display.HTML object>"
      ]
     },
     "metadata": {},
     "output_type": "display_data"
    },
    {
     "data": {
      "text/html": [
       "<h4>Index: 101</h4>"
      ],
      "text/plain": [
       "<IPython.core.display.HTML object>"
      ]
     },
     "metadata": {},
     "output_type": "display_data"
    },
    {
     "data": {
      "text/html": [
       "<img src=\"https://m.media-amazon.com/images/I/81hhQNqAWdL._AC_UY218_.jpg\" width=\"100\"/>"
      ],
      "text/plain": [
       "<IPython.core.display.Image object>"
      ]
     },
     "metadata": {},
     "output_type": "display_data"
    },
    {
     "data": {
      "text/html": [
       "<p>URL: https://m.media-amazon.com/images/I/81hhQNqAWdL._AC_UY218_.jpg</p><hr>"
      ],
      "text/plain": [
       "<IPython.core.display.HTML object>"
      ]
     },
     "metadata": {},
     "output_type": "display_data"
    },
    {
     "data": {
      "text/html": [
       "<h4>Index: 102</h4>"
      ],
      "text/plain": [
       "<IPython.core.display.HTML object>"
      ]
     },
     "metadata": {},
     "output_type": "display_data"
    },
    {
     "data": {
      "text/html": [
       "<img src=\"https://m.media-amazon.com/images/I/71Pc8UHj0zL._AC_UY218_.jpg\" width=\"100\"/>"
      ],
      "text/plain": [
       "<IPython.core.display.Image object>"
      ]
     },
     "metadata": {},
     "output_type": "display_data"
    },
    {
     "data": {
      "text/html": [
       "<p>URL: https://m.media-amazon.com/images/I/71Pc8UHj0zL._AC_UY218_.jpg</p><hr>"
      ],
      "text/plain": [
       "<IPython.core.display.HTML object>"
      ]
     },
     "metadata": {},
     "output_type": "display_data"
    },
    {
     "data": {
      "text/html": [
       "<h4>Index: 103</h4>"
      ],
      "text/plain": [
       "<IPython.core.display.HTML object>"
      ]
     },
     "metadata": {},
     "output_type": "display_data"
    },
    {
     "data": {
      "text/html": [
       "<img src=\"https://m.media-amazon.com/images/I/61Stt9rbntL._AC_UY218_.jpg\" width=\"100\"/>"
      ],
      "text/plain": [
       "<IPython.core.display.Image object>"
      ]
     },
     "metadata": {},
     "output_type": "display_data"
    },
    {
     "data": {
      "text/html": [
       "<p>URL: https://m.media-amazon.com/images/I/61Stt9rbntL._AC_UY218_.jpg</p><hr>"
      ],
      "text/plain": [
       "<IPython.core.display.HTML object>"
      ]
     },
     "metadata": {},
     "output_type": "display_data"
    },
    {
     "data": {
      "text/html": [
       "<h4>Index: 104</h4>"
      ],
      "text/plain": [
       "<IPython.core.display.HTML object>"
      ]
     },
     "metadata": {},
     "output_type": "display_data"
    },
    {
     "data": {
      "text/html": [
       "<img src=\"https://m.media-amazon.com/images/I/61MtIF+xZOL._AC_UY218_.jpg\" width=\"100\"/>"
      ],
      "text/plain": [
       "<IPython.core.display.Image object>"
      ]
     },
     "metadata": {},
     "output_type": "display_data"
    },
    {
     "data": {
      "text/html": [
       "<p>URL: https://m.media-amazon.com/images/I/61MtIF+xZOL._AC_UY218_.jpg</p><hr>"
      ],
      "text/plain": [
       "<IPython.core.display.HTML object>"
      ]
     },
     "metadata": {},
     "output_type": "display_data"
    },
    {
     "data": {
      "text/html": [
       "<h4>Index: 105</h4>"
      ],
      "text/plain": [
       "<IPython.core.display.HTML object>"
      ]
     },
     "metadata": {},
     "output_type": "display_data"
    },
    {
     "data": {
      "text/html": [
       "<img src=\"https://m.media-amazon.com/images/I/714UMQw7TUL._AC_UY218_.jpg\" width=\"100\"/>"
      ],
      "text/plain": [
       "<IPython.core.display.Image object>"
      ]
     },
     "metadata": {},
     "output_type": "display_data"
    },
    {
     "data": {
      "text/html": [
       "<p>URL: https://m.media-amazon.com/images/I/714UMQw7TUL._AC_UY218_.jpg</p><hr>"
      ],
      "text/plain": [
       "<IPython.core.display.HTML object>"
      ]
     },
     "metadata": {},
     "output_type": "display_data"
    },
    {
     "data": {
      "text/html": [
       "<h4>Index: 106</h4>"
      ],
      "text/plain": [
       "<IPython.core.display.HTML object>"
      ]
     },
     "metadata": {},
     "output_type": "display_data"
    },
    {
     "data": {
      "text/html": [
       "<img src=\"https://m.media-amazon.com/images/I/71wiIsAw3WL._AC_UY218_.jpg\" width=\"100\"/>"
      ],
      "text/plain": [
       "<IPython.core.display.Image object>"
      ]
     },
     "metadata": {},
     "output_type": "display_data"
    },
    {
     "data": {
      "text/html": [
       "<p>URL: https://m.media-amazon.com/images/I/71wiIsAw3WL._AC_UY218_.jpg</p><hr>"
      ],
      "text/plain": [
       "<IPython.core.display.HTML object>"
      ]
     },
     "metadata": {},
     "output_type": "display_data"
    },
    {
     "data": {
      "text/html": [
       "<h4>Index: 107</h4>"
      ],
      "text/plain": [
       "<IPython.core.display.HTML object>"
      ]
     },
     "metadata": {},
     "output_type": "display_data"
    },
    {
     "data": {
      "text/html": [
       "<img src=\"https://m.media-amazon.com/images/I/613a7tyKKQL._AC_UY218_.jpg\" width=\"100\"/>"
      ],
      "text/plain": [
       "<IPython.core.display.Image object>"
      ]
     },
     "metadata": {},
     "output_type": "display_data"
    },
    {
     "data": {
      "text/html": [
       "<p>URL: https://m.media-amazon.com/images/I/613a7tyKKQL._AC_UY218_.jpg</p><hr>"
      ],
      "text/plain": [
       "<IPython.core.display.HTML object>"
      ]
     },
     "metadata": {},
     "output_type": "display_data"
    },
    {
     "data": {
      "text/html": [
       "<h4>Index: 108</h4>"
      ],
      "text/plain": [
       "<IPython.core.display.HTML object>"
      ]
     },
     "metadata": {},
     "output_type": "display_data"
    },
    {
     "data": {
      "text/html": [
       "<img src=\"https://m.media-amazon.com/images/I/71j7cnrro1L._AC_UY218_.jpg\" width=\"100\"/>"
      ],
      "text/plain": [
       "<IPython.core.display.Image object>"
      ]
     },
     "metadata": {},
     "output_type": "display_data"
    },
    {
     "data": {
      "text/html": [
       "<p>URL: https://m.media-amazon.com/images/I/71j7cnrro1L._AC_UY218_.jpg</p><hr>"
      ],
      "text/plain": [
       "<IPython.core.display.HTML object>"
      ]
     },
     "metadata": {},
     "output_type": "display_data"
    },
    {
     "data": {
      "text/html": [
       "<h4>Index: 109</h4>"
      ],
      "text/plain": [
       "<IPython.core.display.HTML object>"
      ]
     },
     "metadata": {},
     "output_type": "display_data"
    },
    {
     "data": {
      "text/html": [
       "<img src=\"https://m.media-amazon.com/images/I/71J4fo7qLPL._AC_UY218_.jpg\" width=\"100\"/>"
      ],
      "text/plain": [
       "<IPython.core.display.Image object>"
      ]
     },
     "metadata": {},
     "output_type": "display_data"
    },
    {
     "data": {
      "text/html": [
       "<p>URL: https://m.media-amazon.com/images/I/71J4fo7qLPL._AC_UY218_.jpg</p><hr>"
      ],
      "text/plain": [
       "<IPython.core.display.HTML object>"
      ]
     },
     "metadata": {},
     "output_type": "display_data"
    },
    {
     "data": {
      "text/html": [
       "<h4>Index: 110</h4>"
      ],
      "text/plain": [
       "<IPython.core.display.HTML object>"
      ]
     },
     "metadata": {},
     "output_type": "display_data"
    },
    {
     "data": {
      "text/html": [
       "<img src=\"https://m.media-amazon.com/images/I/71f0RhsEa4L._AC_UY218_.jpg\" width=\"100\"/>"
      ],
      "text/plain": [
       "<IPython.core.display.Image object>"
      ]
     },
     "metadata": {},
     "output_type": "display_data"
    },
    {
     "data": {
      "text/html": [
       "<p>URL: https://m.media-amazon.com/images/I/71f0RhsEa4L._AC_UY218_.jpg</p><hr>"
      ],
      "text/plain": [
       "<IPython.core.display.HTML object>"
      ]
     },
     "metadata": {},
     "output_type": "display_data"
    },
    {
     "data": {
      "text/html": [
       "<h4>Index: 111</h4>"
      ],
      "text/plain": [
       "<IPython.core.display.HTML object>"
      ]
     },
     "metadata": {},
     "output_type": "display_data"
    },
    {
     "data": {
      "text/html": [
       "<img src=\"https://m.media-amazon.com/images/I/71YSOLOrvXL._AC_UY218_.jpg\" width=\"100\"/>"
      ],
      "text/plain": [
       "<IPython.core.display.Image object>"
      ]
     },
     "metadata": {},
     "output_type": "display_data"
    },
    {
     "data": {
      "text/html": [
       "<p>URL: https://m.media-amazon.com/images/I/71YSOLOrvXL._AC_UY218_.jpg</p><hr>"
      ],
      "text/plain": [
       "<IPython.core.display.HTML object>"
      ]
     },
     "metadata": {},
     "output_type": "display_data"
    },
    {
     "data": {
      "text/html": [
       "<h4>Index: 112</h4>"
      ],
      "text/plain": [
       "<IPython.core.display.HTML object>"
      ]
     },
     "metadata": {},
     "output_type": "display_data"
    },
    {
     "data": {
      "text/html": [
       "<img src=\"https://m.media-amazon.com/images/I/61nXwOnFtNL._AC_UL640_QL65_.jpg\" width=\"100\"/>"
      ],
      "text/plain": [
       "<IPython.core.display.Image object>"
      ]
     },
     "metadata": {},
     "output_type": "display_data"
    },
    {
     "data": {
      "text/html": [
       "<p>URL: https://m.media-amazon.com/images/I/61nXwOnFtNL._AC_UL640_QL65_.jpg</p><hr>"
      ],
      "text/plain": [
       "<IPython.core.display.HTML object>"
      ]
     },
     "metadata": {},
     "output_type": "display_data"
    }
   ],
   "source": [
    "# Function to display each image with its URL\n",
    "def display_images_with_urls(dataframe):\n",
    "    for index, row in dataframe.iterrows():\n",
    "        image_url = row['Image URL']\n",
    "        # Display image and its URL\n",
    "        display(HTML(f'<h4>Index: {index}</h4>'))\n",
    "        display(Image(url=image_url, width=100))  # Set width to adjust size if needed\n",
    "        display(HTML(f'<p>URL: {image_url}</p><hr>'))  # Display the URL\n",
    "\n",
    "# Display the images with their URLs\n",
    "display_images_with_urls(df)\n"
   ]
  },
  {
   "cell_type": "code",
   "execution_count": 293,
   "id": "f63d487d-f206-4560-8e1a-ec4baebe3b90",
   "metadata": {},
   "outputs": [],
   "source": [
    "urls_to_delete = [\n",
    "    'https://m.media-amazon.com/images/I/61RrrWVuXkL._AC_UY218_.jpg',\n",
    "    'https://m.media-amazon.com/images/I/61s6xlqSDyL._AC_UY218_.jpg',\n",
    "    'https://m.media-amazon.com/images/I/71iNKb9P2RL._AC_UY218_.jpg',\n",
    "    'https://m.media-amazon.com/images/I/7150Ah9tD9L._AC_UY218_.jpg',\n",
    "    'https://m.media-amazon.com/images/I/61nXwOnFtNL._AC_UL640_QL65_.jpg',\n",
    "    'https://m.media-amazon.com/images/I/61RrrWVuXkL._AC_UY218_.jpg',\n",
    "    'https://m.media-amazon.com/images/I/61N7M0mTgaL._AC_UY218_.jpg',\n",
    "    'https://m.media-amazon.com/images/I/61nXwOnFtNL._AC_UL640_QL65_.jpg',\n",
    "    'https://m.media-amazon.com/images/I/61RrrWVuXkL._AC_UY218_.jpg',\n",
    "    'https://m.media-amazon.com/images/I/61s6xlqSDyL._AC_UY218_.jpg',\n",
    "    'https://m.media-amazon.com/images/I/61RrrWVuXkL._AC_UY218_.jpg',\n",
    "    'https://m.media-amazon.com/images/I/61s6xlqSDyL._AC_UY218_.jpg',\n",
    "    'https://m.media-amazon.com/images/I/71HFP+-5n6L._AC_UY218_.jpg',\n",
    "    'https://m.media-amazon.com/images/I/71TceJJHliL._AC_UY218_.jpg',\n",
    "    'https://m.media-amazon.com/images/I/61MtIF+xZOL._AC_UY218_.jpg',\n",
    "    'https://m.media-amazon.com/images/I/71f0RhsEa4L._AC_UY218_.jpg',\n",
    "    'https://m.media-amazon.com/images/I/61nXwOnFtNL._AC_UL640_QL65_.jpg',\n",
    "]\n",
    "\n",
    "# Step 3: Remove those URLs from the DataFrame\n",
    "df = df[~df['Image URL'].isin(urls_to_delete)]"
   ]
  },
  {
   "cell_type": "code",
   "execution_count": 294,
   "id": "c754a784-77a3-46e7-8ac0-f047f72edc54",
   "metadata": {},
   "outputs": [
    {
     "data": {
      "text/html": [
       "<img src=\"https://m.media-amazon.com/images/I/71bM-9kKqQL._AC_UY218_.jpg\"/>"
      ],
      "text/plain": [
       "<IPython.core.display.Image object>"
      ]
     },
     "metadata": {},
     "output_type": "display_data"
    },
    {
     "data": {
      "text/html": [
       "<img src=\"https://m.media-amazon.com/images/I/71cJWirAwyL._AC_UY218_.jpg\"/>"
      ],
      "text/plain": [
       "<IPython.core.display.Image object>"
      ]
     },
     "metadata": {},
     "output_type": "display_data"
    },
    {
     "data": {
      "text/html": [
       "<img src=\"https://m.media-amazon.com/images/I/61OwPoOpGVL._AC_UY218_.jpg\"/>"
      ],
      "text/plain": [
       "<IPython.core.display.Image object>"
      ]
     },
     "metadata": {},
     "output_type": "display_data"
    },
    {
     "data": {
      "text/html": [
       "<img src=\"https://m.media-amazon.com/images/I/81DPZ3XfrwL._AC_UY218_.jpg\"/>"
      ],
      "text/plain": [
       "<IPython.core.display.Image object>"
      ]
     },
     "metadata": {},
     "output_type": "display_data"
    },
    {
     "data": {
      "text/html": [
       "<img src=\"https://m.media-amazon.com/images/I/61zFR6j3wzL._AC_UY218_.jpg\"/>"
      ],
      "text/plain": [
       "<IPython.core.display.Image object>"
      ]
     },
     "metadata": {},
     "output_type": "display_data"
    },
    {
     "data": {
      "text/html": [
       "<img src=\"https://m.media-amazon.com/images/I/81qN7R3j1zL._AC_UY218_.jpg\"/>"
      ],
      "text/plain": [
       "<IPython.core.display.Image object>"
      ]
     },
     "metadata": {},
     "output_type": "display_data"
    },
    {
     "data": {
      "text/html": [
       "<img src=\"https://m.media-amazon.com/images/I/71TyYmgX1kL._AC_UY218_.jpg\"/>"
      ],
      "text/plain": [
       "<IPython.core.display.Image object>"
      ]
     },
     "metadata": {},
     "output_type": "display_data"
    },
    {
     "data": {
      "text/html": [
       "<img src=\"https://m.media-amazon.com/images/I/811qvEFfbpL._AC_UY218_.jpg\"/>"
      ],
      "text/plain": [
       "<IPython.core.display.Image object>"
      ]
     },
     "metadata": {},
     "output_type": "display_data"
    },
    {
     "data": {
      "text/html": [
       "<img src=\"https://m.media-amazon.com/images/I/71Ef8+KF5cL._AC_UY218_.jpg\"/>"
      ],
      "text/plain": [
       "<IPython.core.display.Image object>"
      ]
     },
     "metadata": {},
     "output_type": "display_data"
    },
    {
     "data": {
      "text/html": [
       "<img src=\"https://m.media-amazon.com/images/I/81Ozd1TKRKL._AC_UY218_.jpg\"/>"
      ],
      "text/plain": [
       "<IPython.core.display.Image object>"
      ]
     },
     "metadata": {},
     "output_type": "display_data"
    },
    {
     "data": {
      "text/html": [
       "<img src=\"https://m.media-amazon.com/images/I/71tMue0vTOL._AC_UY218_.jpg\"/>"
      ],
      "text/plain": [
       "<IPython.core.display.Image object>"
      ]
     },
     "metadata": {},
     "output_type": "display_data"
    },
    {
     "data": {
      "text/html": [
       "<img src=\"https://m.media-amazon.com/images/I/71X2XY4vz2L._AC_UY218_.jpg\"/>"
      ],
      "text/plain": [
       "<IPython.core.display.Image object>"
      ]
     },
     "metadata": {},
     "output_type": "display_data"
    },
    {
     "data": {
      "text/html": [
       "<img src=\"https://m.media-amazon.com/images/I/71MhenIZ3aL._AC_UY218_.jpg\"/>"
      ],
      "text/plain": [
       "<IPython.core.display.Image object>"
      ]
     },
     "metadata": {},
     "output_type": "display_data"
    },
    {
     "data": {
      "text/html": [
       "<img src=\"https://m.media-amazon.com/images/I/71HE8wRYqOL._AC_UY218_.jpg\"/>"
      ],
      "text/plain": [
       "<IPython.core.display.Image object>"
      ]
     },
     "metadata": {},
     "output_type": "display_data"
    },
    {
     "data": {
      "text/html": [
       "<img src=\"https://m.media-amazon.com/images/I/71iCMC4Yb-L._AC_UY218_.jpg\"/>"
      ],
      "text/plain": [
       "<IPython.core.display.Image object>"
      ]
     },
     "metadata": {},
     "output_type": "display_data"
    },
    {
     "data": {
      "text/html": [
       "<img src=\"https://m.media-amazon.com/images/I/71ChbjJlN6L._AC_UY218_.jpg\"/>"
      ],
      "text/plain": [
       "<IPython.core.display.Image object>"
      ]
     },
     "metadata": {},
     "output_type": "display_data"
    },
    {
     "data": {
      "text/html": [
       "<img src=\"https://m.media-amazon.com/images/I/71Pc8UHj0zL._AC_UY218_.jpg\"/>"
      ],
      "text/plain": [
       "<IPython.core.display.Image object>"
      ]
     },
     "metadata": {},
     "output_type": "display_data"
    },
    {
     "data": {
      "text/html": [
       "<img src=\"https://m.media-amazon.com/images/I/71kWA4ndbkL._AC_UY218_.jpg\"/>"
      ],
      "text/plain": [
       "<IPython.core.display.Image object>"
      ]
     },
     "metadata": {},
     "output_type": "display_data"
    },
    {
     "data": {
      "text/html": [
       "<img src=\"https://m.media-amazon.com/images/I/71F44pGPsAL._AC_UY218_.jpg\"/>"
      ],
      "text/plain": [
       "<IPython.core.display.Image object>"
      ]
     },
     "metadata": {},
     "output_type": "display_data"
    },
    {
     "data": {
      "text/html": [
       "<img src=\"https://m.media-amazon.com/images/I/81m4xtW13UL._AC_UY218_.jpg\"/>"
      ],
      "text/plain": [
       "<IPython.core.display.Image object>"
      ]
     },
     "metadata": {},
     "output_type": "display_data"
    },
    {
     "data": {
      "text/html": [
       "<img src=\"https://m.media-amazon.com/images/I/71J--D13SfL._AC_UY218_.jpg\"/>"
      ],
      "text/plain": [
       "<IPython.core.display.Image object>"
      ]
     },
     "metadata": {},
     "output_type": "display_data"
    },
    {
     "data": {
      "text/html": [
       "<img src=\"https://m.media-amazon.com/images/I/81SQc5-psGL._AC_UY218_.jpg\"/>"
      ],
      "text/plain": [
       "<IPython.core.display.Image object>"
      ]
     },
     "metadata": {},
     "output_type": "display_data"
    },
    {
     "data": {
      "text/html": [
       "<img src=\"https://m.media-amazon.com/images/I/71fvh8QDsDL._AC_UY218_.jpg\"/>"
      ],
      "text/plain": [
       "<IPython.core.display.Image object>"
      ]
     },
     "metadata": {},
     "output_type": "display_data"
    },
    {
     "data": {
      "text/html": [
       "<img src=\"https://m.media-amazon.com/images/I/71wE2I8PoRL._AC_UY218_.jpg\"/>"
      ],
      "text/plain": [
       "<IPython.core.display.Image object>"
      ]
     },
     "metadata": {},
     "output_type": "display_data"
    },
    {
     "data": {
      "text/html": [
       "<img src=\"https://m.media-amazon.com/images/I/71JuUcTZJnL._AC_UY218_.jpg\"/>"
      ],
      "text/plain": [
       "<IPython.core.display.Image object>"
      ]
     },
     "metadata": {},
     "output_type": "display_data"
    },
    {
     "data": {
      "text/html": [
       "<img src=\"https://m.media-amazon.com/images/I/71oFhgwXn0L._AC_UY218_.jpg\"/>"
      ],
      "text/plain": [
       "<IPython.core.display.Image object>"
      ]
     },
     "metadata": {},
     "output_type": "display_data"
    },
    {
     "data": {
      "text/html": [
       "<img src=\"https://m.media-amazon.com/images/I/61mmJorVyFL._AC_UY218_.jpg\"/>"
      ],
      "text/plain": [
       "<IPython.core.display.Image object>"
      ]
     },
     "metadata": {},
     "output_type": "display_data"
    },
    {
     "data": {
      "text/html": [
       "<img src=\"https://m.media-amazon.com/images/I/71K9AiQx0GL._AC_UY218_.jpg\"/>"
      ],
      "text/plain": [
       "<IPython.core.display.Image object>"
      ]
     },
     "metadata": {},
     "output_type": "display_data"
    },
    {
     "data": {
      "text/html": [
       "<img src=\"https://m.media-amazon.com/images/I/71Pc8UHj0zL._AC_UY218_.jpg\"/>"
      ],
      "text/plain": [
       "<IPython.core.display.Image object>"
      ]
     },
     "metadata": {},
     "output_type": "display_data"
    },
    {
     "data": {
      "text/html": [
       "<img src=\"https://m.media-amazon.com/images/I/61wr-Cuz4WL._AC_UY218_.jpg\"/>"
      ],
      "text/plain": [
       "<IPython.core.display.Image object>"
      ]
     },
     "metadata": {},
     "output_type": "display_data"
    },
    {
     "data": {
      "text/html": [
       "<img src=\"https://m.media-amazon.com/images/I/71Y3TQnZ8gL._AC_UY218_.jpg\"/>"
      ],
      "text/plain": [
       "<IPython.core.display.Image object>"
      ]
     },
     "metadata": {},
     "output_type": "display_data"
    },
    {
     "data": {
      "text/html": [
       "<img src=\"https://m.media-amazon.com/images/I/7149-6Y6TwL._AC_UY218_.jpg\"/>"
      ],
      "text/plain": [
       "<IPython.core.display.Image object>"
      ]
     },
     "metadata": {},
     "output_type": "display_data"
    },
    {
     "data": {
      "text/html": [
       "<img src=\"https://m.media-amazon.com/images/I/71awSYpdOFL._AC_UY218_.jpg\"/>"
      ],
      "text/plain": [
       "<IPython.core.display.Image object>"
      ]
     },
     "metadata": {},
     "output_type": "display_data"
    },
    {
     "data": {
      "text/html": [
       "<img src=\"https://m.media-amazon.com/images/I/71TyYmgX1kL._AC_UY218_.jpg\"/>"
      ],
      "text/plain": [
       "<IPython.core.display.Image object>"
      ]
     },
     "metadata": {},
     "output_type": "display_data"
    },
    {
     "data": {
      "text/html": [
       "<img src=\"https://m.media-amazon.com/images/I/714be7wMYBL._AC_UY218_.jpg\"/>"
      ],
      "text/plain": [
       "<IPython.core.display.Image object>"
      ]
     },
     "metadata": {},
     "output_type": "display_data"
    },
    {
     "data": {
      "text/html": [
       "<img src=\"https://m.media-amazon.com/images/I/71VWwMh0LzL._AC_UY218_.jpg\"/>"
      ],
      "text/plain": [
       "<IPython.core.display.Image object>"
      ]
     },
     "metadata": {},
     "output_type": "display_data"
    },
    {
     "data": {
      "text/html": [
       "<img src=\"https://m.media-amazon.com/images/I/71ChbjJlN6L._AC_UY218_.jpg\"/>"
      ],
      "text/plain": [
       "<IPython.core.display.Image object>"
      ]
     },
     "metadata": {},
     "output_type": "display_data"
    },
    {
     "data": {
      "text/html": [
       "<img src=\"https://m.media-amazon.com/images/I/81JvvsZHxyL._AC_UY218_.jpg\"/>"
      ],
      "text/plain": [
       "<IPython.core.display.Image object>"
      ]
     },
     "metadata": {},
     "output_type": "display_data"
    },
    {
     "data": {
      "text/html": [
       "<img src=\"https://m.media-amazon.com/images/I/71iBOb86CgL._AC_UY218_.jpg\"/>"
      ],
      "text/plain": [
       "<IPython.core.display.Image object>"
      ]
     },
     "metadata": {},
     "output_type": "display_data"
    },
    {
     "data": {
      "text/html": [
       "<img src=\"https://m.media-amazon.com/images/I/71Pc8UHj0zL._AC_UY218_.jpg\"/>"
      ],
      "text/plain": [
       "<IPython.core.display.Image object>"
      ]
     },
     "metadata": {},
     "output_type": "display_data"
    },
    {
     "data": {
      "text/html": [
       "<img src=\"https://m.media-amazon.com/images/I/71YkZJnepLL._AC_UY218_.jpg\"/>"
      ],
      "text/plain": [
       "<IPython.core.display.Image object>"
      ]
     },
     "metadata": {},
     "output_type": "display_data"
    },
    {
     "data": {
      "text/html": [
       "<img src=\"https://m.media-amazon.com/images/I/81wBQgdRo4L._AC_UY218_.jpg\"/>"
      ],
      "text/plain": [
       "<IPython.core.display.Image object>"
      ]
     },
     "metadata": {},
     "output_type": "display_data"
    },
    {
     "data": {
      "text/html": [
       "<img src=\"https://m.media-amazon.com/images/I/71EZ2IEJVdL._AC_UY218_.jpg\"/>"
      ],
      "text/plain": [
       "<IPython.core.display.Image object>"
      ]
     },
     "metadata": {},
     "output_type": "display_data"
    },
    {
     "data": {
      "text/html": [
       "<img src=\"https://m.media-amazon.com/images/I/71Oy71VXMkL._AC_UY218_.jpg\"/>"
      ],
      "text/plain": [
       "<IPython.core.display.Image object>"
      ]
     },
     "metadata": {},
     "output_type": "display_data"
    },
    {
     "data": {
      "text/html": [
       "<img src=\"https://m.media-amazon.com/images/I/71TyYmgX1kL._AC_UY218_.jpg\"/>"
      ],
      "text/plain": [
       "<IPython.core.display.Image object>"
      ]
     },
     "metadata": {},
     "output_type": "display_data"
    },
    {
     "data": {
      "text/html": [
       "<img src=\"https://m.media-amazon.com/images/I/71vRoYsDiWL._AC_UY218_.jpg\"/>"
      ],
      "text/plain": [
       "<IPython.core.display.Image object>"
      ]
     },
     "metadata": {},
     "output_type": "display_data"
    },
    {
     "data": {
      "text/html": [
       "<img src=\"https://m.media-amazon.com/images/I/81UQNT1hKeL._AC_UY218_.jpg\"/>"
      ],
      "text/plain": [
       "<IPython.core.display.Image object>"
      ]
     },
     "metadata": {},
     "output_type": "display_data"
    },
    {
     "data": {
      "text/html": [
       "<img src=\"https://m.media-amazon.com/images/I/71fB2FQV-fL._AC_UY218_.jpg\"/>"
      ],
      "text/plain": [
       "<IPython.core.display.Image object>"
      ]
     },
     "metadata": {},
     "output_type": "display_data"
    },
    {
     "data": {
      "text/html": [
       "<img src=\"https://m.media-amazon.com/images/I/71A2T8aAxDL._AC_UY218_.jpg\"/>"
      ],
      "text/plain": [
       "<IPython.core.display.Image object>"
      ]
     },
     "metadata": {},
     "output_type": "display_data"
    },
    {
     "data": {
      "text/html": [
       "<img src=\"https://m.media-amazon.com/images/I/71X2XY4vz2L._AC_UY218_.jpg\"/>"
      ],
      "text/plain": [
       "<IPython.core.display.Image object>"
      ]
     },
     "metadata": {},
     "output_type": "display_data"
    },
    {
     "data": {
      "text/html": [
       "<img src=\"https://m.media-amazon.com/images/I/712ErfQujVL._AC_UY218_.jpg\"/>"
      ],
      "text/plain": [
       "<IPython.core.display.Image object>"
      ]
     },
     "metadata": {},
     "output_type": "display_data"
    },
    {
     "data": {
      "text/html": [
       "<img src=\"https://m.media-amazon.com/images/I/71dcuKKpiwL._AC_UY218_.jpg\"/>"
      ],
      "text/plain": [
       "<IPython.core.display.Image object>"
      ]
     },
     "metadata": {},
     "output_type": "display_data"
    },
    {
     "data": {
      "text/html": [
       "<img src=\"https://m.media-amazon.com/images/I/61LI+6CWalL._AC_UY218_.jpg\"/>"
      ],
      "text/plain": [
       "<IPython.core.display.Image object>"
      ]
     },
     "metadata": {},
     "output_type": "display_data"
    },
    {
     "data": {
      "text/html": [
       "<img src=\"https://m.media-amazon.com/images/I/812I9YozCTL._AC_UY218_.jpg\"/>"
      ],
      "text/plain": [
       "<IPython.core.display.Image object>"
      ]
     },
     "metadata": {},
     "output_type": "display_data"
    },
    {
     "data": {
      "text/html": [
       "<img src=\"https://m.media-amazon.com/images/I/61LI+6CWalL._AC_UY218_.jpg\"/>"
      ],
      "text/plain": [
       "<IPython.core.display.Image object>"
      ]
     },
     "metadata": {},
     "output_type": "display_data"
    },
    {
     "data": {
      "text/html": [
       "<img src=\"https://m.media-amazon.com/images/I/714lAQKQ1VL._AC_UY218_.jpg\"/>"
      ],
      "text/plain": [
       "<IPython.core.display.Image object>"
      ]
     },
     "metadata": {},
     "output_type": "display_data"
    },
    {
     "data": {
      "text/html": [
       "<img src=\"https://m.media-amazon.com/images/I/71CRKSWs77L._AC_UY218_.jpg\"/>"
      ],
      "text/plain": [
       "<IPython.core.display.Image object>"
      ]
     },
     "metadata": {},
     "output_type": "display_data"
    },
    {
     "data": {
      "text/html": [
       "<img src=\"https://m.media-amazon.com/images/I/41DuDcmqI8L._AC_UY218_.jpg\"/>"
      ],
      "text/plain": [
       "<IPython.core.display.Image object>"
      ]
     },
     "metadata": {},
     "output_type": "display_data"
    },
    {
     "data": {
      "text/html": [
       "<img src=\"https://m.media-amazon.com/images/I/71cJWirAwyL._AC_UY218_.jpg\"/>"
      ],
      "text/plain": [
       "<IPython.core.display.Image object>"
      ]
     },
     "metadata": {},
     "output_type": "display_data"
    },
    {
     "data": {
      "text/html": [
       "<img src=\"https://m.media-amazon.com/images/I/717janb63rL._AC_UY218_.jpg\"/>"
      ],
      "text/plain": [
       "<IPython.core.display.Image object>"
      ]
     },
     "metadata": {},
     "output_type": "display_data"
    },
    {
     "data": {
      "text/html": [
       "<img src=\"https://m.media-amazon.com/images/I/71TyYmgX1kL._AC_UY218_.jpg\"/>"
      ],
      "text/plain": [
       "<IPython.core.display.Image object>"
      ]
     },
     "metadata": {},
     "output_type": "display_data"
    },
    {
     "data": {
      "text/html": [
       "<img src=\"https://m.media-amazon.com/images/I/71q6K1lcOjL._AC_UY218_.jpg\"/>"
      ],
      "text/plain": [
       "<IPython.core.display.Image object>"
      ]
     },
     "metadata": {},
     "output_type": "display_data"
    },
    {
     "data": {
      "text/html": [
       "<img src=\"https://m.media-amazon.com/images/I/71g+fCwHJlL._AC_UY218_.jpg\"/>"
      ],
      "text/plain": [
       "<IPython.core.display.Image object>"
      ]
     },
     "metadata": {},
     "output_type": "display_data"
    },
    {
     "data": {
      "text/html": [
       "<img src=\"https://m.media-amazon.com/images/I/71oFhgwXn0L._AC_UY218_.jpg\"/>"
      ],
      "text/plain": [
       "<IPython.core.display.Image object>"
      ]
     },
     "metadata": {},
     "output_type": "display_data"
    },
    {
     "data": {
      "text/html": [
       "<img src=\"https://m.media-amazon.com/images/I/81r-xQ3NsCL._AC_UY218_.jpg\"/>"
      ],
      "text/plain": [
       "<IPython.core.display.Image object>"
      ]
     },
     "metadata": {},
     "output_type": "display_data"
    },
    {
     "data": {
      "text/html": [
       "<img src=\"https://m.media-amazon.com/images/I/71AD1vV3FdL._AC_UY218_.jpg\"/>"
      ],
      "text/plain": [
       "<IPython.core.display.Image object>"
      ]
     },
     "metadata": {},
     "output_type": "display_data"
    },
    {
     "data": {
      "text/html": [
       "<img src=\"https://m.media-amazon.com/images/I/71jkgUkBAcL._AC_UY218_.jpg\"/>"
      ],
      "text/plain": [
       "<IPython.core.display.Image object>"
      ]
     },
     "metadata": {},
     "output_type": "display_data"
    },
    {
     "data": {
      "text/html": [
       "<img src=\"https://m.media-amazon.com/images/I/71hazNwigjL._AC_UY218_.jpg\"/>"
      ],
      "text/plain": [
       "<IPython.core.display.Image object>"
      ]
     },
     "metadata": {},
     "output_type": "display_data"
    },
    {
     "data": {
      "text/html": [
       "<img src=\"https://m.media-amazon.com/images/I/717B9XEvxqL._AC_UY218_.jpg\"/>"
      ],
      "text/plain": [
       "<IPython.core.display.Image object>"
      ]
     },
     "metadata": {},
     "output_type": "display_data"
    },
    {
     "data": {
      "text/html": [
       "<img src=\"https://m.media-amazon.com/images/I/71z6zr-+FUL._AC_UY218_.jpg\"/>"
      ],
      "text/plain": [
       "<IPython.core.display.Image object>"
      ]
     },
     "metadata": {},
     "output_type": "display_data"
    },
    {
     "data": {
      "text/html": [
       "<img src=\"https://m.media-amazon.com/images/I/71n-NNPzrBL._AC_UY218_.jpg\"/>"
      ],
      "text/plain": [
       "<IPython.core.display.Image object>"
      ]
     },
     "metadata": {},
     "output_type": "display_data"
    },
    {
     "data": {
      "text/html": [
       "<img src=\"https://m.media-amazon.com/images/I/616NNhMVSKL._AC_UY218_.jpg\"/>"
      ],
      "text/plain": [
       "<IPython.core.display.Image object>"
      ]
     },
     "metadata": {},
     "output_type": "display_data"
    },
    {
     "data": {
      "text/html": [
       "<img src=\"https://m.media-amazon.com/images/I/81+LLR8SwPL._AC_UY218_.jpg\"/>"
      ],
      "text/plain": [
       "<IPython.core.display.Image object>"
      ]
     },
     "metadata": {},
     "output_type": "display_data"
    },
    {
     "data": {
      "text/html": [
       "<img src=\"https://m.media-amazon.com/images/I/71M0JPCC9uS._AC_UY218_.jpg\"/>"
      ],
      "text/plain": [
       "<IPython.core.display.Image object>"
      ]
     },
     "metadata": {},
     "output_type": "display_data"
    },
    {
     "data": {
      "text/html": [
       "<img src=\"https://m.media-amazon.com/images/I/71n-NNPzrBL._AC_UY218_.jpg\"/>"
      ],
      "text/plain": [
       "<IPython.core.display.Image object>"
      ]
     },
     "metadata": {},
     "output_type": "display_data"
    },
    {
     "data": {
      "text/html": [
       "<img src=\"https://m.media-amazon.com/images/I/71nXBhpZlfL._AC_UY218_.jpg\"/>"
      ],
      "text/plain": [
       "<IPython.core.display.Image object>"
      ]
     },
     "metadata": {},
     "output_type": "display_data"
    },
    {
     "data": {
      "text/html": [
       "<img src=\"https://m.media-amazon.com/images/I/71cJWirAwyL._AC_UY218_.jpg\"/>"
      ],
      "text/plain": [
       "<IPython.core.display.Image object>"
      ]
     },
     "metadata": {},
     "output_type": "display_data"
    },
    {
     "data": {
      "text/html": [
       "<img src=\"https://m.media-amazon.com/images/I/71MRBbRlViL._AC_UY218_.jpg\"/>"
      ],
      "text/plain": [
       "<IPython.core.display.Image object>"
      ]
     },
     "metadata": {},
     "output_type": "display_data"
    },
    {
     "data": {
      "text/html": [
       "<img src=\"https://m.media-amazon.com/images/I/61HhYPRJPsL._AC_UY218_.jpg\"/>"
      ],
      "text/plain": [
       "<IPython.core.display.Image object>"
      ]
     },
     "metadata": {},
     "output_type": "display_data"
    },
    {
     "data": {
      "text/html": [
       "<img src=\"https://m.media-amazon.com/images/I/717FWlo8TgL._AC_UY218_.jpg\"/>"
      ],
      "text/plain": [
       "<IPython.core.display.Image object>"
      ]
     },
     "metadata": {},
     "output_type": "display_data"
    },
    {
     "data": {
      "text/html": [
       "<img src=\"https://m.media-amazon.com/images/I/81hhQNqAWdL._AC_UY218_.jpg\"/>"
      ],
      "text/plain": [
       "<IPython.core.display.Image object>"
      ]
     },
     "metadata": {},
     "output_type": "display_data"
    },
    {
     "data": {
      "text/html": [
       "<img src=\"https://m.media-amazon.com/images/I/71Pc8UHj0zL._AC_UY218_.jpg\"/>"
      ],
      "text/plain": [
       "<IPython.core.display.Image object>"
      ]
     },
     "metadata": {},
     "output_type": "display_data"
    },
    {
     "data": {
      "text/html": [
       "<img src=\"https://m.media-amazon.com/images/I/61Stt9rbntL._AC_UY218_.jpg\"/>"
      ],
      "text/plain": [
       "<IPython.core.display.Image object>"
      ]
     },
     "metadata": {},
     "output_type": "display_data"
    },
    {
     "data": {
      "text/html": [
       "<img src=\"https://m.media-amazon.com/images/I/714UMQw7TUL._AC_UY218_.jpg\"/>"
      ],
      "text/plain": [
       "<IPython.core.display.Image object>"
      ]
     },
     "metadata": {},
     "output_type": "display_data"
    },
    {
     "data": {
      "text/html": [
       "<img src=\"https://m.media-amazon.com/images/I/71wiIsAw3WL._AC_UY218_.jpg\"/>"
      ],
      "text/plain": [
       "<IPython.core.display.Image object>"
      ]
     },
     "metadata": {},
     "output_type": "display_data"
    },
    {
     "data": {
      "text/html": [
       "<img src=\"https://m.media-amazon.com/images/I/613a7tyKKQL._AC_UY218_.jpg\"/>"
      ],
      "text/plain": [
       "<IPython.core.display.Image object>"
      ]
     },
     "metadata": {},
     "output_type": "display_data"
    },
    {
     "data": {
      "text/html": [
       "<img src=\"https://m.media-amazon.com/images/I/71j7cnrro1L._AC_UY218_.jpg\"/>"
      ],
      "text/plain": [
       "<IPython.core.display.Image object>"
      ]
     },
     "metadata": {},
     "output_type": "display_data"
    },
    {
     "data": {
      "text/html": [
       "<img src=\"https://m.media-amazon.com/images/I/71J4fo7qLPL._AC_UY218_.jpg\"/>"
      ],
      "text/plain": [
       "<IPython.core.display.Image object>"
      ]
     },
     "metadata": {},
     "output_type": "display_data"
    },
    {
     "data": {
      "text/html": [
       "<img src=\"https://m.media-amazon.com/images/I/71YSOLOrvXL._AC_UY218_.jpg\"/>"
      ],
      "text/plain": [
       "<IPython.core.display.Image object>"
      ]
     },
     "metadata": {},
     "output_type": "display_data"
    }
   ],
   "source": [
    "# Function to display images from URLs in the DataFrame\n",
    "def display_images(dataframe):\n",
    "    for index, row in dataframe.iterrows():\n",
    "        display(Image(url=row['Image URL']))\n",
    "\n",
    "# Display the images\n",
    "display_images(df)"
   ]
  },
  {
   "cell_type": "code",
   "execution_count": 295,
   "id": "2d41213f-18e7-4fc1-abe3-aaadfbdf8168",
   "metadata": {},
   "outputs": [],
   "source": [
    "# Define target attribute lists\n",
    "target_brands = ['Bianchi', 'Cannondale', 'BMC', 'Merida', 'Giant', 'Specialized', 'Trek']\n",
    "target_types = ['Road Bike', 'BMX', 'Mountain Bike', 'Folding Bike', 'Hybrid', 'Electric Bike', 'Gravel Bike']\n",
    "\n",
    "# Create the Cartesian product\n",
    "dfcom = pd.DataFrame([(brand, bike_type) for brand in target_brands for bike_type in target_types], \n",
    "                     columns=['Brand_Name', 'Type'])\n",
    "\n",
    "# Assuming df is your existing DataFrame with some columns\n",
    "# Drop the existing Brand_Name and Type columns if they exist\n",
    "df.drop(['Brand_Name', 'Type'], axis=1, inplace=True, errors='ignore')  # Ignore errors if columns do not exist\n",
    "\n",
    "# Now, let's reset the index to avoid issues later\n",
    "df.reset_index(drop=True, inplace=True)\n",
    "\n",
    "# Insert new columns at specified indices\n",
    "df.insert(2, 'Brand_Name', np.nan)  # Insert Brand_Name at index 2\n",
    "df.insert(4, 'Type', np.nan)        # Insert Type at index 4\n",
    "\n",
    "# Fill the new columns with the combinations from dfcom\n",
    "# Make sure dfcom fits within the length of df\n",
    "n_combinations = min(len(dfcom), len(df))  # Use the smaller size\n",
    "df.iloc[:n_combinations, df.columns.get_loc('Brand_Name')] = dfcom['Brand_Name'].values[:n_combinations]\n",
    "df.iloc[:n_combinations, df.columns.get_loc('Type')] = dfcom['Type'].values[:n_combinations]\n",
    "\n",
    "# Fill the remaining rows with random values\n",
    "if len(df) > n_combinations:\n",
    "    # Fill the remaining rows with random choices from the target lists\n",
    "    remaining_count = len(df) - n_combinations\n",
    "    df.iloc[n_combinations:, df.columns.get_loc('Brand_Name')] = np.random.choice(target_brands, size=remaining_count)\n",
    "    df.iloc[n_combinations:, df.columns.get_loc('Type')] = np.random.choice(target_types, size=remaining_count)"
   ]
  },
  {
   "cell_type": "code",
   "execution_count": 276,
   "id": "2e066a25-d79e-42ce-9668-4f451af0d22b",
   "metadata": {},
   "outputs": [
    {
     "data": {
      "text/html": [
       "<div>\n",
       "<style scoped>\n",
       "    .dataframe tbody tr th:only-of-type {\n",
       "        vertical-align: middle;\n",
       "    }\n",
       "\n",
       "    .dataframe tbody tr th {\n",
       "        vertical-align: top;\n",
       "    }\n",
       "\n",
       "    .dataframe thead th {\n",
       "        text-align: right;\n",
       "    }\n",
       "</style>\n",
       "<table border=\"1\" class=\"dataframe\">\n",
       "  <thead>\n",
       "    <tr style=\"text-align: right;\">\n",
       "      <th></th>\n",
       "      <th>Brand_Name</th>\n",
       "      <th>Type</th>\n",
       "    </tr>\n",
       "  </thead>\n",
       "  <tbody>\n",
       "    <tr>\n",
       "      <th>0</th>\n",
       "      <td>Bianchi</td>\n",
       "      <td>Road Bike</td>\n",
       "    </tr>\n",
       "    <tr>\n",
       "      <th>1</th>\n",
       "      <td>Bianchi</td>\n",
       "      <td>BMX</td>\n",
       "    </tr>\n",
       "    <tr>\n",
       "      <th>2</th>\n",
       "      <td>Bianchi</td>\n",
       "      <td>Mountain Bike</td>\n",
       "    </tr>\n",
       "    <tr>\n",
       "      <th>3</th>\n",
       "      <td>Bianchi</td>\n",
       "      <td>Folding Bike</td>\n",
       "    </tr>\n",
       "    <tr>\n",
       "      <th>4</th>\n",
       "      <td>Bianchi</td>\n",
       "      <td>Hybrid</td>\n",
       "    </tr>\n",
       "    <tr>\n",
       "      <th>5</th>\n",
       "      <td>Bianchi</td>\n",
       "      <td>Electric Bike</td>\n",
       "    </tr>\n",
       "    <tr>\n",
       "      <th>6</th>\n",
       "      <td>Bianchi</td>\n",
       "      <td>Gravel Bike</td>\n",
       "    </tr>\n",
       "    <tr>\n",
       "      <th>7</th>\n",
       "      <td>Cannondale</td>\n",
       "      <td>Road Bike</td>\n",
       "    </tr>\n",
       "    <tr>\n",
       "      <th>8</th>\n",
       "      <td>Cannondale</td>\n",
       "      <td>BMX</td>\n",
       "    </tr>\n",
       "    <tr>\n",
       "      <th>9</th>\n",
       "      <td>Cannondale</td>\n",
       "      <td>Mountain Bike</td>\n",
       "    </tr>\n",
       "  </tbody>\n",
       "</table>\n",
       "</div>"
      ],
      "text/plain": [
       "   Brand_Name           Type\n",
       "0     Bianchi      Road Bike\n",
       "1     Bianchi            BMX\n",
       "2     Bianchi  Mountain Bike\n",
       "3     Bianchi   Folding Bike\n",
       "4     Bianchi         Hybrid\n",
       "5     Bianchi  Electric Bike\n",
       "6     Bianchi    Gravel Bike\n",
       "7  Cannondale      Road Bike\n",
       "8  Cannondale            BMX\n",
       "9  Cannondale  Mountain Bike"
      ]
     },
     "execution_count": 276,
     "metadata": {},
     "output_type": "execute_result"
    }
   ],
   "source": [
    "dfcom.head(10)"
   ]
  },
  {
   "cell_type": "code",
   "execution_count": 296,
   "id": "2ae7b3ba-cc1d-4687-bbfc-d93886ba1076",
   "metadata": {},
   "outputs": [],
   "source": [
    "df['Price'] = df['Price'].str.replace(',', '').astype(float)"
   ]
  },
  {
   "cell_type": "code",
   "execution_count": 297,
   "id": "2f5b78ac-b6ca-4e17-a7c3-acbaa26e2cd7",
   "metadata": {},
   "outputs": [],
   "source": [
    "target_Speed = ['21 Speed', '7 Speed', '6 Speed', '18 Speed', '1 Speed']\n",
    "target_frame = ['High-Tensile Steel Frame', 'Aluminum Frame', 'Steel Frame', 'Carbon Fiber', 'Titanium']\n",
    "target_frameSize = ['Medium', 'Small', 'Large']\n",
    "target_brakes = ['V Brake', 'Disc Brake', 'Caliper Brake', 'V Brake', 'Hydraulic Brake','Rim Brake']\n",
    "target_age = ['Adults', 'Kids', 'Youth']\n",
    "target_gender = ['Men', 'Women', 'Girls', 'Boys', 'Unisex']\n",
    "target_size = ['29 Inch', '20 Inch', '27.5 Inch', '26 Inch', '16 Inch', '27.5Inch', '14 Inch', '24 Inch', '12 Inch']\n",
    "target_Suspension = ['No Suspension','Full Suspension','Front Suspension']\n",
    "target_tiretype = ['Tube','Tubeless']"
   ]
  },
  {
   "cell_type": "code",
   "execution_count": 298,
   "id": "a9eb3416-d22a-45ed-bb53-d14e90ce8949",
   "metadata": {},
   "outputs": [],
   "source": [
    "def datamul(dfcolumn, values):\n",
    "    dfcolumn = np.random.choice(values, size=len(df))\n",
    "    return dfcolumn\n",
    "\n",
    "\n",
    "df['Speed'] = datamul(df['Speed'],target_Speed)\n",
    "df['Frame'] = datamul(df['Frame'],target_frame)\n",
    "df['Size'] = datamul(df['Size'], target_size)\n",
    "df['Brake_Type'] = datamul(df['Brake_Type'],target_brakes)\n",
    "df['Age'] = datamul(df['Age'],target_age)\n",
    "df['Gender'] = datamul(df['Gender'],target_gender)\n",
    "df['Suspension'] = np.random.choice(target_Suspension, size=len(df))\n",
    "df['TireType'] = np.random.choice(target_tiretype, size=len(df))\n",
    "df['CustomerRating'] = np.random.randint(1, 6, size=len(df))\n"
   ]
  },
  {
   "cell_type": "code",
   "execution_count": 299,
   "id": "75487dc7-6b02-4ef4-a598-3a5878a7a9f3",
   "metadata": {},
   "outputs": [
    {
     "data": {
      "text/plain": [
       "array(['Bianchi', 'Bianchi', 'Bianchi', 'Bianchi', 'Bianchi', 'Bianchi',\n",
       "       'Bianchi', 'Cannondale', 'Cannondale', 'Cannondale', 'Cannondale',\n",
       "       'Cannondale', 'Cannondale', 'Cannondale', 'BMC', 'BMC', 'BMC',\n",
       "       'BMC', 'BMC', 'BMC', 'BMC', 'Merida', 'Merida', 'Merida', 'Merida',\n",
       "       'Merida', 'Merida', 'Merida', 'Giant', 'Giant', 'Giant', 'Giant',\n",
       "       'Giant', 'Giant', 'Giant', 'Specialized', 'Specialized',\n",
       "       'Specialized', 'Specialized', 'Specialized', 'Specialized',\n",
       "       'Specialized', 'Trek', 'Trek', 'Trek', 'Trek', 'Trek', 'Trek',\n",
       "       'Trek', 'Bianchi', 'Merida', 'Merida', 'Specialized', 'Cannondale',\n",
       "       'Cannondale', 'Specialized', 'Giant', 'Giant', 'Bianchi',\n",
       "       'Cannondale', 'Merida', 'Specialized', 'Trek', 'Giant', 'BMC',\n",
       "       'Trek', 'Giant', 'Bianchi', 'Merida', 'Bianchi', 'Merida',\n",
       "       'Bianchi', 'Specialized', 'Bianchi', 'Merida', 'Specialized',\n",
       "       'Trek', 'Giant', 'Trek', 'Cannondale', 'Merida', 'BMC', 'Trek',\n",
       "       'Giant', 'BMC', 'Trek', 'Merida', 'Bianchi', 'Cannondale'],\n",
       "      dtype=object)"
      ]
     },
     "execution_count": 299,
     "metadata": {},
     "output_type": "execute_result"
    }
   ],
   "source": [
    "df.Brand_Name.values"
   ]
  },
  {
   "cell_type": "code",
   "execution_count": 300,
   "id": "c3d84167-eddf-499c-bba6-27f5954eae2c",
   "metadata": {},
   "outputs": [
    {
     "data": {
      "text/plain": [
       "array(['Road Bike', 'BMX', 'Mountain Bike', 'Folding Bike', 'Hybrid',\n",
       "       'Electric Bike', 'Gravel Bike', 'Road Bike', 'BMX',\n",
       "       'Mountain Bike', 'Folding Bike', 'Hybrid', 'Electric Bike',\n",
       "       'Gravel Bike', 'Road Bike', 'BMX', 'Mountain Bike', 'Folding Bike',\n",
       "       'Hybrid', 'Electric Bike', 'Gravel Bike', 'Road Bike', 'BMX',\n",
       "       'Mountain Bike', 'Folding Bike', 'Hybrid', 'Electric Bike',\n",
       "       'Gravel Bike', 'Road Bike', 'BMX', 'Mountain Bike', 'Folding Bike',\n",
       "       'Hybrid', 'Electric Bike', 'Gravel Bike', 'Road Bike', 'BMX',\n",
       "       'Mountain Bike', 'Folding Bike', 'Hybrid', 'Electric Bike',\n",
       "       'Gravel Bike', 'Road Bike', 'BMX', 'Mountain Bike', 'Folding Bike',\n",
       "       'Hybrid', 'Electric Bike', 'Gravel Bike', 'Electric Bike',\n",
       "       'Gravel Bike', 'Gravel Bike', 'Gravel Bike', 'Hybrid',\n",
       "       'Gravel Bike', 'Hybrid', 'Hybrid', 'Gravel Bike', 'Gravel Bike',\n",
       "       'Electric Bike', 'Folding Bike', 'Electric Bike', 'Road Bike',\n",
       "       'Hybrid', 'Hybrid', 'BMX', 'Road Bike', 'Gravel Bike',\n",
       "       'Gravel Bike', 'Folding Bike', 'Hybrid', 'Hybrid', 'Road Bike',\n",
       "       'Road Bike', 'BMX', 'Hybrid', 'BMX', 'Hybrid', 'Road Bike',\n",
       "       'Road Bike', 'BMX', 'BMX', 'BMX', 'Mountain Bike', 'Mountain Bike',\n",
       "       'Hybrid', 'Hybrid', 'Gravel Bike', 'Folding Bike'], dtype=object)"
      ]
     },
     "execution_count": 300,
     "metadata": {},
     "output_type": "execute_result"
    }
   ],
   "source": [
    "df.Type.values"
   ]
  },
  {
   "cell_type": "code",
   "execution_count": 301,
   "id": "9804011e-471c-4b14-9524-cd254e18410b",
   "metadata": {},
   "outputs": [],
   "source": [
    "df.insert(0, 'InventoryID', [f\"{i:03}\" for i in range(1, len(df) + 1)])"
   ]
  },
  {
   "cell_type": "code",
   "execution_count": 302,
   "id": "88b17c34-83ce-494a-8554-90e399f00a60",
   "metadata": {},
   "outputs": [],
   "source": [
    "df.sort_values(by='InventoryID', inplace=True)"
   ]
  },
  {
   "cell_type": "code",
   "execution_count": 307,
   "id": "12f9f4f3-5db8-41cb-8b6c-42c65a280170",
   "metadata": {},
   "outputs": [],
   "source": [
    "df.to_csv('Inventory_Data.txt', sep='\\t', index=False, header=True)"
   ]
  },
  {
   "cell_type": "code",
   "execution_count": null,
   "id": "61de99a4-d3bc-413b-adc3-a997545ad37c",
   "metadata": {},
   "outputs": [],
   "source": []
  },
  {
   "cell_type": "code",
   "execution_count": null,
   "id": "d526ecbc-2039-43d0-a9a0-e882822c017b",
   "metadata": {},
   "outputs": [],
   "source": []
  }
 ],
 "metadata": {
  "kernelspec": {
   "display_name": "Python 3 (ipykernel)",
   "language": "python",
   "name": "python3"
  },
  "language_info": {
   "codemirror_mode": {
    "name": "ipython",
    "version": 3
   },
   "file_extension": ".py",
   "mimetype": "text/x-python",
   "name": "python",
   "nbconvert_exporter": "python",
   "pygments_lexer": "ipython3",
   "version": "3.11.5"
  }
 },
 "nbformat": 4,
 "nbformat_minor": 5
}
