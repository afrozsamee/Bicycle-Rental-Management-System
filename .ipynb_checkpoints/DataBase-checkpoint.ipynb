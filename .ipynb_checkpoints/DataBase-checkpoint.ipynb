{
 "cells": [
  {
   "cell_type": "code",
   "execution_count": 2,
   "id": "46e43093-555b-4883-9b76-ac39c762a7d5",
   "metadata": {},
   "outputs": [],
   "source": [
    "import pandas as pd\n",
    "import numpy as np"
   ]
  },
  {
   "cell_type": "code",
   "execution_count": 2,
   "id": "2d699dcb-0826-4b2d-a3e2-9d992595802a",
   "metadata": {},
   "outputs": [
    {
     "data": {
      "text/html": [
       "<div>\n",
       "<style scoped>\n",
       "    .dataframe tbody tr th:only-of-type {\n",
       "        vertical-align: middle;\n",
       "    }\n",
       "\n",
       "    .dataframe tbody tr th {\n",
       "        vertical-align: top;\n",
       "    }\n",
       "\n",
       "    .dataframe thead th {\n",
       "        text-align: right;\n",
       "    }\n",
       "</style>\n",
       "<table border=\"1\" class=\"dataframe\">\n",
       "  <thead>\n",
       "    <tr style=\"text-align: right;\">\n",
       "      <th></th>\n",
       "      <th>Bicycle_Id</th>\n",
       "      <th>Brand</th>\n",
       "      <th>Model</th>\n",
       "      <th>Type</th>\n",
       "      <th>Frame_Size</th>\n",
       "      <th>Rental_Rate</th>\n",
       "      <th>Status</th>\n",
       "      <th>Date_of_Purchase</th>\n",
       "    </tr>\n",
       "  </thead>\n",
       "  <tbody>\n",
       "    <tr>\n",
       "      <th>0</th>\n",
       "      <td>1</td>\n",
       "      <td>Bianchi</td>\n",
       "      <td>FX 3</td>\n",
       "      <td>Road Bike</td>\n",
       "      <td>Small</td>\n",
       "      <td>50/day;300/week</td>\n",
       "      <td>Rented</td>\n",
       "      <td>2024-10-15</td>\n",
       "    </tr>\n",
       "    <tr>\n",
       "      <th>1</th>\n",
       "      <td>2</td>\n",
       "      <td>Cannondale</td>\n",
       "      <td>Defy Advanced</td>\n",
       "      <td>BMX</td>\n",
       "      <td>Large</td>\n",
       "      <td>50/day;300/week</td>\n",
       "      <td>Available</td>\n",
       "      <td>2021-06-16</td>\n",
       "    </tr>\n",
       "    <tr>\n",
       "      <th>2</th>\n",
       "      <td>3</td>\n",
       "      <td>Bianchi</td>\n",
       "      <td>FX 3</td>\n",
       "      <td>Road Bike</td>\n",
       "      <td>Small</td>\n",
       "      <td>30/day;250/week</td>\n",
       "      <td>Under Maintenance</td>\n",
       "      <td>2024-08-10</td>\n",
       "    </tr>\n",
       "    <tr>\n",
       "      <th>3</th>\n",
       "      <td>4</td>\n",
       "      <td>Cannondale</td>\n",
       "      <td>Escape 3</td>\n",
       "      <td>Folding Bike</td>\n",
       "      <td>Medium</td>\n",
       "      <td>30/day;250/week</td>\n",
       "      <td>Available</td>\n",
       "      <td>NaN</td>\n",
       "    </tr>\n",
       "    <tr>\n",
       "      <th>4</th>\n",
       "      <td>5</td>\n",
       "      <td>Giant</td>\n",
       "      <td>Escape 3</td>\n",
       "      <td>Road Bike</td>\n",
       "      <td>Large</td>\n",
       "      <td>50/day;300/week</td>\n",
       "      <td>Under Maintenance</td>\n",
       "      <td>2022-05-01</td>\n",
       "    </tr>\n",
       "  </tbody>\n",
       "</table>\n",
       "</div>"
      ],
      "text/plain": [
       "   Bicycle_Id       Brand          Model          Type Frame_Size  \\\n",
       "0           1     Bianchi           FX 3     Road Bike      Small   \n",
       "1           2  Cannondale  Defy Advanced           BMX      Large   \n",
       "2           3     Bianchi           FX 3     Road Bike      Small   \n",
       "3           4  Cannondale       Escape 3  Folding Bike     Medium   \n",
       "4           5       Giant       Escape 3     Road Bike      Large   \n",
       "\n",
       "       Rental_Rate             Status Date_of_Purchase  \n",
       "0  50/day;300/week             Rented       2024-10-15  \n",
       "1  50/day;300/week          Available       2021-06-16  \n",
       "2  30/day;250/week  Under Maintenance       2024-08-10  \n",
       "3  30/day;250/week          Available              NaN  \n",
       "4  50/day;300/week  Under Maintenance       2022-05-01  "
      ]
     },
     "execution_count": 2,
     "metadata": {},
     "output_type": "execute_result"
    }
   ],
   "source": [
    "BicycleInfo_df = pd.read_csv('Bicycle_Info.txt', delimiter='\\t')\n",
    "#BicycleInfo_df['Rental_Rate'] = BicycleInfo_df['Rental_Rate'].split(';')\n",
    "BicycleInfo_df.head()\n"
   ]
  },
  {
   "cell_type": "code",
   "execution_count": 9,
   "id": "f9777026-47b9-4593-8924-0f282d9b6d15",
   "metadata": {},
   "outputs": [
    {
     "data": {
      "text/plain": [
       "Bicycle_Id          0\n",
       "Brand               0\n",
       "Model               0\n",
       "Type                0\n",
       "Frame_Size          0\n",
       "Rental_Rate         0\n",
       "Status              0\n",
       "Date_of_Purchase    0\n",
       "dtype: int64"
      ]
     },
     "execution_count": 9,
     "metadata": {},
     "output_type": "execute_result"
    }
   ],
   "source": [
    "BicycleInfo_df.isnull().sum()"
   ]
  },
  {
   "cell_type": "code",
   "execution_count": 4,
   "id": "cf03ec9f-82aa-40fe-85a2-f96d3fbf1285",
   "metadata": {},
   "outputs": [
    {
     "data": {
      "text/plain": [
       "array(['Road Bike', 'BMX', 'Folding Bike', 'Mountain Bike',\n",
       "       'Electric Bike', 'Hybrid', 'Gravel Bike'], dtype=object)"
      ]
     },
     "execution_count": 4,
     "metadata": {},
     "output_type": "execute_result"
    }
   ],
   "source": [
    "BicycleInfo_df.Type.unique()"
   ]
  },
  {
   "cell_type": "code",
   "execution_count": 5,
   "id": "8eadc95b-a813-4728-9b0b-896f49d88aa4",
   "metadata": {},
   "outputs": [],
   "source": [
    "def FillNullValues(row):\n",
    "    if row['Type'] in ['Road Bike', 'BMX']:\n",
    "        return 'Large'\n",
    "    elif row['Type'] in ['Folding Bike', 'Mountain Bike']:\n",
    "        return 'Medium'\n",
    "    else:\n",
    "        return 'Small'\n",
    "\n",
    "# Fill null values in Frame_Size based on Type\n",
    "BicycleInfo_df['Frame_Size'] = BicycleInfo_df.apply(\n",
    "    lambda row: FillNullValues(row) if pd.isnull(row['Frame_Size']) else row['Frame_Size'], axis=1)"
   ]
  },
  {
   "cell_type": "code",
   "execution_count": 6,
   "id": "d7b3298d-1f00-43f1-97db-f99fdf54ef74",
   "metadata": {},
   "outputs": [],
   "source": [
    "BicycleInfo_df['Date_of_Purchase'] = BicycleInfo_df['Date_of_Purchase'].fillna(pd.Timestamp.now().normalize().date()).astype(str)"
   ]
  },
  {
   "cell_type": "code",
   "execution_count": 8,
   "id": "aecf674a-b5ca-4602-af91-3770255881a5",
   "metadata": {},
   "outputs": [
    {
     "data": {
      "text/plain": [
       "True"
      ]
     },
     "execution_count": 8,
     "metadata": {},
     "output_type": "execute_result"
    }
   ],
   "source": [
    "BicycleInfo_df['Bicycle_Id'].is_unique"
   ]
  },
  {
   "cell_type": "code",
   "execution_count": 10,
   "id": "dc42115e-f49f-4f9e-9d02-9f34bb5351e6",
   "metadata": {},
   "outputs": [],
   "source": [
    "BicycleInfo_df.to_csv('Bicycle_Info.txt', sep='\\t', index=False, header=True)"
   ]
  },
  {
   "cell_type": "code",
   "execution_count": 7,
   "id": "d367b64b-3c75-4e04-a9e3-e13555b170c7",
   "metadata": {},
   "outputs": [
    {
     "data": {
      "text/html": [
       "<div>\n",
       "<style scoped>\n",
       "    .dataframe tbody tr th:only-of-type {\n",
       "        vertical-align: middle;\n",
       "    }\n",
       "\n",
       "    .dataframe tbody tr th {\n",
       "        vertical-align: top;\n",
       "    }\n",
       "\n",
       "    .dataframe thead th {\n",
       "        text-align: right;\n",
       "    }\n",
       "</style>\n",
       "<table border=\"1\" class=\"dataframe\">\n",
       "  <thead>\n",
       "    <tr style=\"text-align: right;\">\n",
       "      <th></th>\n",
       "      <th>Bicycle_Id</th>\n",
       "      <th>Brand</th>\n",
       "      <th>Model</th>\n",
       "      <th>Type</th>\n",
       "      <th>Frame_Size</th>\n",
       "      <th>Rental_Rate</th>\n",
       "      <th>Status</th>\n",
       "      <th>Date_of_Purchase</th>\n",
       "    </tr>\n",
       "  </thead>\n",
       "  <tbody>\n",
       "    <tr>\n",
       "      <th>0</th>\n",
       "      <td>1</td>\n",
       "      <td>Bianchi</td>\n",
       "      <td>FX 3</td>\n",
       "      <td>Road Bike</td>\n",
       "      <td>Small</td>\n",
       "      <td>50/day;300/week</td>\n",
       "      <td>Rented</td>\n",
       "      <td>2024-10-15</td>\n",
       "    </tr>\n",
       "    <tr>\n",
       "      <th>1</th>\n",
       "      <td>2</td>\n",
       "      <td>Cannondale</td>\n",
       "      <td>Defy Advanced</td>\n",
       "      <td>BMX</td>\n",
       "      <td>Large</td>\n",
       "      <td>50/day;300/week</td>\n",
       "      <td>Available</td>\n",
       "      <td>2021-06-16</td>\n",
       "    </tr>\n",
       "    <tr>\n",
       "      <th>2</th>\n",
       "      <td>3</td>\n",
       "      <td>Bianchi</td>\n",
       "      <td>FX 3</td>\n",
       "      <td>Road Bike</td>\n",
       "      <td>Small</td>\n",
       "      <td>30/day;250/week</td>\n",
       "      <td>Under Maintenance</td>\n",
       "      <td>2024-08-10</td>\n",
       "    </tr>\n",
       "    <tr>\n",
       "      <th>3</th>\n",
       "      <td>4</td>\n",
       "      <td>Cannondale</td>\n",
       "      <td>Escape 3</td>\n",
       "      <td>Folding Bike</td>\n",
       "      <td>Medium</td>\n",
       "      <td>30/day;250/week</td>\n",
       "      <td>Available</td>\n",
       "      <td>2024-10-16</td>\n",
       "    </tr>\n",
       "    <tr>\n",
       "      <th>4</th>\n",
       "      <td>5</td>\n",
       "      <td>Giant</td>\n",
       "      <td>Escape 3</td>\n",
       "      <td>Road Bike</td>\n",
       "      <td>Large</td>\n",
       "      <td>50/day;300/week</td>\n",
       "      <td>Under Maintenance</td>\n",
       "      <td>2022-05-01</td>\n",
       "    </tr>\n",
       "  </tbody>\n",
       "</table>\n",
       "</div>"
      ],
      "text/plain": [
       "   Bicycle_Id       Brand          Model          Type Frame_Size  \\\n",
       "0           1     Bianchi           FX 3     Road Bike      Small   \n",
       "1           2  Cannondale  Defy Advanced           BMX      Large   \n",
       "2           3     Bianchi           FX 3     Road Bike      Small   \n",
       "3           4  Cannondale       Escape 3  Folding Bike     Medium   \n",
       "4           5       Giant       Escape 3     Road Bike      Large   \n",
       "\n",
       "       Rental_Rate             Status Date_of_Purchase  \n",
       "0  50/day;300/week             Rented       2024-10-15  \n",
       "1  50/day;300/week          Available       2021-06-16  \n",
       "2  30/day;250/week  Under Maintenance       2024-08-10  \n",
       "3  30/day;250/week          Available       2024-10-16  \n",
       "4  50/day;300/week  Under Maintenance       2022-05-01  "
      ]
     },
     "execution_count": 7,
     "metadata": {},
     "output_type": "execute_result"
    }
   ],
   "source": [
    "BicycleInfo_df.head()"
   ]
  },
  {
   "cell_type": "code",
   "execution_count": 3,
   "id": "f2069919-c654-42df-a600-b32c9d658e34",
   "metadata": {},
   "outputs": [
    {
     "data": {
      "text/html": [
       "<div>\n",
       "<style scoped>\n",
       "    .dataframe tbody tr th:only-of-type {\n",
       "        vertical-align: middle;\n",
       "    }\n",
       "\n",
       "    .dataframe tbody tr th {\n",
       "        vertical-align: top;\n",
       "    }\n",
       "\n",
       "    .dataframe thead th {\n",
       "        text-align: right;\n",
       "    }\n",
       "</style>\n",
       "<table border=\"1\" class=\"dataframe\">\n",
       "  <thead>\n",
       "    <tr style=\"text-align: right;\">\n",
       "      <th></th>\n",
       "      <th>Bicycle_ID</th>\n",
       "      <th>Member_ID</th>\n",
       "      <th>Rental Date</th>\n",
       "      <th>Return Date</th>\n",
       "    </tr>\n",
       "  </thead>\n",
       "  <tbody>\n",
       "    <tr>\n",
       "      <th>0</th>\n",
       "      <td>37</td>\n",
       "      <td>1049.0</td>\n",
       "      <td>2023-08-01</td>\n",
       "      <td>2024-04-01</td>\n",
       "    </tr>\n",
       "    <tr>\n",
       "      <th>1</th>\n",
       "      <td>23</td>\n",
       "      <td>NaN</td>\n",
       "      <td>2022-04-01</td>\n",
       "      <td>2021-03-02</td>\n",
       "    </tr>\n",
       "    <tr>\n",
       "      <th>2</th>\n",
       "      <td>8</td>\n",
       "      <td>1037.0</td>\n",
       "      <td>2022-12-28</td>\n",
       "      <td>2023-12-27</td>\n",
       "    </tr>\n",
       "    <tr>\n",
       "      <th>3</th>\n",
       "      <td>14</td>\n",
       "      <td>1009.0</td>\n",
       "      <td>2022-02-11</td>\n",
       "      <td>2024-02-16</td>\n",
       "    </tr>\n",
       "    <tr>\n",
       "      <th>4</th>\n",
       "      <td>19</td>\n",
       "      <td>1008.0</td>\n",
       "      <td>2024-08-28</td>\n",
       "      <td>2022-09-26</td>\n",
       "    </tr>\n",
       "  </tbody>\n",
       "</table>\n",
       "</div>"
      ],
      "text/plain": [
       "   Bicycle_ID  Member_ID Rental Date Return Date\n",
       "0          37     1049.0  2023-08-01  2024-04-01\n",
       "1          23        NaN  2022-04-01  2021-03-02\n",
       "2           8     1037.0  2022-12-28  2023-12-27\n",
       "3          14     1009.0  2022-02-11  2024-02-16\n",
       "4          19     1008.0  2024-08-28  2022-09-26"
      ]
     },
     "execution_count": 3,
     "metadata": {},
     "output_type": "execute_result"
    }
   ],
   "source": [
    "RentalHistory_df = pd.read_csv('Rental_History.txt', delimiter  = '\\t')\n",
    "RentalHistory_df.head()"
   ]
  },
  {
   "cell_type": "code",
   "execution_count": 4,
   "id": "b4c520f0-0231-440e-8e06-0160c0ab22cc",
   "metadata": {},
   "outputs": [
    {
     "name": "stdout",
     "output_type": "stream",
     "text": [
      "<class 'pandas.core.frame.DataFrame'>\n",
      "RangeIndex: 200 entries, 0 to 199\n",
      "Data columns (total 4 columns):\n",
      " #   Column       Non-Null Count  Dtype  \n",
      "---  ------       --------------  -----  \n",
      " 0   Bicycle_ID   200 non-null    int64  \n",
      " 1   Member_ID    191 non-null    float64\n",
      " 2   Rental Date  200 non-null    object \n",
      " 3   Return Date  200 non-null    object \n",
      "dtypes: float64(1), int64(1), object(2)\n",
      "memory usage: 6.4+ KB\n"
     ]
    }
   ],
   "source": [
    "RentalHistory_df.info()"
   ]
  },
  {
   "cell_type": "code",
   "execution_count": 5,
   "id": "32811256-4789-46fd-99c7-dad02547a047",
   "metadata": {},
   "outputs": [
    {
     "data": {
      "text/plain": [
       "Bicycle_ID     0\n",
       "Member_ID      9\n",
       "Rental Date    0\n",
       "Return Date    0\n",
       "dtype: int64"
      ]
     },
     "execution_count": 5,
     "metadata": {},
     "output_type": "execute_result"
    }
   ],
   "source": [
    "RentalHistory_df.isnull().sum()"
   ]
  },
  {
   "cell_type": "code",
   "execution_count": null,
   "id": "9f3665a1-a996-4020-bf80-48ae0df16ada",
   "metadata": {},
   "outputs": [],
   "source": [
    "RentalHistory_df.Member_Id"
   ]
  }
 ],
 "metadata": {
  "kernelspec": {
   "display_name": "Python 3 (ipykernel)",
   "language": "python",
   "name": "python3"
  },
  "language_info": {
   "codemirror_mode": {
    "name": "ipython",
    "version": 3
   },
   "file_extension": ".py",
   "mimetype": "text/x-python",
   "name": "python",
   "nbconvert_exporter": "python",
   "pygments_lexer": "ipython3",
   "version": "3.11.5"
  }
 },
 "nbformat": 4,
 "nbformat_minor": 5
}
